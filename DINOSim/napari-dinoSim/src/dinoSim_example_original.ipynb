{
  "cells": [
    {
      "cell_type": "markdown",
      "id": "ae377bba",
      "metadata": {
        "id": "ae377bba",
        "papermill": {
          "duration": 0.004156,
          "end_time": "2022-05-03T01:17:20.222145",
          "exception": false,
          "start_time": "2022-05-03T01:17:20.217989",
          "status": "completed"
        },
        "tags": []
      },
      "source": [
        "## Setup\n",
        "Import required libraries."
      ]
    },
    {
      "cell_type": "code",
      "execution_count": null,
      "id": "1531e42e",
      "metadata": {
        "colab": {
          "base_uri": "https://localhost:8080/"
        },
        "execution": {
          "iopub.execute_input": "2022-05-03T01:17:23.974262Z",
          "iopub.status.busy": "2022-05-03T01:17:23.973981Z",
          "iopub.status.idle": "2022-05-03T01:17:27.209603Z",
          "shell.execute_reply": "2022-05-03T01:17:27.208919Z"
        },
        "id": "1531e42e",
        "outputId": "2ed378df-ffe9-4dae-d1f0-757ed690fee0",
        "papermill": {
          "duration": 3.242624,
          "end_time": "2022-05-03T01:17:27.211198",
          "exception": false,
          "start_time": "2022-05-03T01:17:23.968574",
          "status": "completed"
        },
        "tags": []
      },
      "outputs": [],
      "source": [
        "import os\n",
        "from glob import glob\n",
        "\n",
        "import matplotlib.pyplot as plt\n",
        "import numpy as np\n",
        "import torch\n",
        "\n",
        "from napari_dinosim.dinoSim_pipeline import *\n",
        "from napari_dinosim.utils import *\n",
        "\n",
        "os.environ[\"CUDA_DEVICE_ORDER\"]=\"PCI_BUS_ID\"\n",
        "os.environ[\"CUDA_VISIBLE_DEVICES\"]=\"0\"\n",
        "device = torch.device(\"cuda:0\") if torch.cuda.is_available() else torch.device(\"cpu\")\n",
        "print(\"Device:\", device)\n",
        "\n",
        "import h5py\n",
        "from torch.nn import functional as F"
      ]
    },
    {
      "cell_type": "code",
      "execution_count": null,
      "id": "4db9180c",
      "metadata": {
        "id": "4db9180c"
      },
      "outputs": [],
      "source": [
        "#@title Data and Processing Parameters\n",
        "\n",
        "#@markdown ### Data Settings\n",
        "dataset_path = '/home/tomwelch/Cambridge/Datasets/neurotransmitter_data' #@param {type:\"string\"}\n",
        "dates = os.listdir(dataset_path)#@param {type:\"string\"}\n",
        "neurotransmitters = os.listdir(os.path.join(dataset_path, dates[0])) #@param {type:\"string\"} \n",
        "\n",
        "#@markdown ### Post-processing Settings\n",
        "upsample = \"bilinear\" #@param {type:\"string\", options:[\"bilinear\", \"Nearest Neighbor\", \"None\"], value-map:{bilinear:\"bilinear\", \"Nearest Neighbor\": \"nearest\", None:None}}\n",
        "crop_shape = (512,512,1) #@param {type:\"raw\"}\n",
        "\n",
        "#@markdown ### Model Input Settings\n",
        "#@markdown Should be multiple of model patch_size\n",
        "resize_size = 518 #@param {type:\"integer\"}"
      ]
    },
    {
      "cell_type": "markdown",
      "id": "50e89d78",
      "metadata": {
        "id": "50e89d78"
      },
      "source": [
        "## Load Data\n"
      ]
    },
    {
      "cell_type": "code",
      "execution_count": null,
      "id": "83dad91e",
      "metadata": {},
      "outputs": [],
      "source": [
        "def load_image(path):\n",
        "    with h5py.File(path) as f:\n",
        "        pre, post = f['annotations/locations'][:]/8\n",
        "        x, y, z = pre[0].astype(int), pre[1].astype(int), pre[2].astype(int)\n",
        "        slice_volume = f['volumes/raw'][:][:,:,z]\n",
        "        return slice_volume, x, y"
      ]
    },
    {
      "cell_type": "code",
      "execution_count": null,
      "id": "dc5303ac",
      "metadata": {
        "id": "dc5303ac",
        "outputId": "511ec121-4f3e-4ce3-fbec-1f25dede2501"
      },
      "outputs": [],
      "source": [
        "train_x_fnames = glob(os.path.join(dataset_path, dates[0], neurotransmitters[0], '*.hdf*'))\n",
        "train_x_fnames.sort()\n",
        "\n",
        "train_dataset = np.stack([load_image(p)[0] for p in train_x_fnames]).astype(np.uint8)\n",
        "train_dataset = train_dataset[...,np.newaxis] # add channel dim\n",
        "\n",
        "coordinates = np.stack([load_image(p)[1:] for p in train_x_fnames])\n",
        "\n",
        "print(f'N files:  {len(train_dataset)} \\t Shape: {train_dataset.shape[1:]}')"
      ]
    },
    {
      "cell_type": "markdown",
      "id": "91a44e30",
      "metadata": {
        "id": "91a44e30"
      },
      "source": [
        "# Load Model"
      ]
    },
    {
      "cell_type": "code",
      "execution_count": null,
      "id": "944b866d",
      "metadata": {
        "id": "944b866d"
      },
      "outputs": [],
      "source": [
        "# select model size\n",
        "model_size = 'small' #@param {type:\"string\", options:[\"small\", \"base\", \"large\", \"giant\"]}\n",
        "\n",
        "model_dims = {'small': 384, 'base': 768, 'large': 1024, 'giant': 1536}\n",
        "assert model_size in model_dims, f'Invalid model size: ({model_size})'\n",
        "model = torch.hub.load('facebookresearch/dinov2', f'dinov2_vit{model_size[0]}14_reg')\n",
        "model.to(device)\n",
        "model.eval()\n",
        "\n",
        "feat_dim = model_dims[model_size]\n",
        "\n",
        "few_shot = DinoSim_pipeline(model, model.patch_size, device, get_img_processing_f(resize_size),\n",
        "                             feat_dim, dino_image_size=resize_size )\n",
        "print(\"Model loaded\")"
      ]
    },
    {
      "cell_type": "markdown",
      "id": "58fe52ff",
      "metadata": {
        "id": "58fe52ff"
      },
      "source": [
        "# Prompting"
      ]
    },
    {
      "cell_type": "code",
      "execution_count": null,
      "id": "77af1527",
      "metadata": {
        "id": "77af1527",
        "outputId": "67ceb6fc-cf6b-43ec-9941-dd5a539768e2"
      },
      "outputs": [],
      "source": [
        "# select reference points\n",
        "x, y = coordinates[0]+[-5,0]\n",
        "points = [(0, x, y),]\n",
        "z, x, y = zip(*points)\n",
        "\n",
        "plt.imshow(train_dataset[z[0]], 'gray')\n",
        "plt.scatter(x, y, c='r', marker='x')\n",
        "plt.show()"
      ]
    },
    {
      "cell_type": "markdown",
      "id": "929130e0",
      "metadata": {
        "id": "929130e0"
      },
      "source": [
        "# DinoSim"
      ]
    },
    {
      "cell_type": "code",
      "execution_count": null,
      "id": "451d6729",
      "metadata": {},
      "outputs": [],
      "source": [
        "def gaussian_kernel(size=3, sigma=1):\n",
        "\n",
        "    upper = size - 1\n",
        "    lower = -int(size / 2)\n",
        "\n",
        "    y, x = np.mgrid[lower:upper, lower:upper]\n",
        "\n",
        "    kernel = (1 / (2 * np.pi * sigma**2)) * np.exp(\n",
        "        -(x**2 + y**2) / (2 * sigma**2)\n",
        "    )\n",
        "    kernel = kernel / kernel.sum()\n",
        "\n",
        "    return kernel"
      ]
    },
    {
      "cell_type": "code",
      "execution_count": null,
      "id": "427bb10d",
      "metadata": {},
      "outputs": [],
      "source": [
        "def torch_convolve(input, weights, mode=\"reflect\", cval=0.0, origin=0):\n",
        "    \"\"\"\n",
        "    Multidimensional convolution using PyTorch.\n",
        "\n",
        "    Parameters\n",
        "    ----------\n",
        "    input : torch.Tensor\n",
        "        The input tensor to be convolved.\n",
        "    weights : torch.Tensor\n",
        "        Convolution kernel, with the same number of dimensions as the input.\n",
        "    mode : str, optional\n",
        "        Padding mode. Options are 'reflect', 'constant', 'replicate', or 'circular'.\n",
        "        Default is 'reflect'.\n",
        "    cval : float, optional\n",
        "        Value to fill past edges of input if `mode` is 'constant'. Default is 0.0.\n",
        "    origin : int, optional\n",
        "        Controls the origin of the input signal. Positive values shift the filter\n",
        "        to the right, and negative values shift the filter to the left. Default is 0.\n",
        "\n",
        "    Returns\n",
        "    -------\n",
        "    result : torch.Tensor\n",
        "        The result of convolution of `input` with `weights`.\n",
        "    \"\"\"\n",
        "    # Ensure input is 4D (batch, channels, height, width)\n",
        "    if input.dim() == 2:  # Single channel 2D image\n",
        "        input = input.unsqueeze(0).unsqueeze(0)\n",
        "    elif input.dim() == 3:  # Add batch dimension if missing\n",
        "        input = input.unsqueeze(0)\n",
        "\n",
        "    # Add channel dimension for weights if necessary\n",
        "    if weights.dim() == 2:\n",
        "        weights = weights.unsqueeze(0).unsqueeze(0)\n",
        "\n",
        "    # Apply padding based on mode\n",
        "    padding = (\n",
        "        weights.shape[-1] // 2 - origin\n",
        "    )  # Adjust padding for origin shift\n",
        "    input_padded = F.pad(\n",
        "        input, (padding, padding, padding, padding), mode=mode, value=cval\n",
        "    )\n",
        "\n",
        "    # Perform convolution\n",
        "    result = F.conv2d(input_padded, weights)\n",
        "\n",
        "    return result.squeeze()  # Remove extra dimensions for output"
      ]
    },
    {
      "cell_type": "code",
      "execution_count": null,
      "id": "c313a8d7",
      "metadata": {
        "id": "c313a8d7",
        "outputId": "1e413614-3632-45cf-9e12-a072ad267029"
      },
      "outputs": [],
      "source": [
        "#Post-processing\n",
        "kernel = gaussian_kernel(size=3, sigma=1)\n",
        "kernel = torch.tensor(kernel, dtype=torch.float32, device=device)\n",
        "filter_f = lambda x: torch_convolve(x, kernel)\n",
        "\n",
        "#few_shot.delete_precomputed_embeddings()\n",
        "# few_shot.delete_references()\n",
        "if not few_shot.emb_precomputed:\n",
        "    few_shot.pre_compute_embeddings(train_dataset, overlap = (0,0), padding=(0,0), crop_shape=crop_shape, verbose=True, batch_size=5)\n",
        "few_shot.set_reference_vector(list_coords=points)\n",
        "distances = few_shot.get_ds_distances_sameRef(verbose=False)\n",
        "predictions = few_shot.distance_post_processing(distances, filter_f, upsampling_mode=upsample)\n",
        "print(\"Finished\")"
      ]
    },
    {
      "cell_type": "code",
      "execution_count": null,
      "id": "5d84ab48",
      "metadata": {},
      "outputs": [],
      "source": [
        "predictions[6].shape"
      ]
    },
    {
      "cell_type": "markdown",
      "id": "d95164c2",
      "metadata": {
        "id": "d95164c2"
      },
      "source": [
        "# Plot results"
      ]
    },
    {
      "cell_type": "code",
      "execution_count": null,
      "id": "57395530",
      "metadata": {
        "id": "57395530",
        "outputId": "5d456320-11db-4707-cff7-6a1a61b53f81"
      },
      "outputs": [],
      "source": [
        "# select threshold\n",
        "threshold = 0.5\n",
        "\n",
        "for i in range(1):\n",
        "    input_img = train_dataset[i]\n",
        "    plt.figure(figsize=(12,7))\n",
        "    plt.subplot(131)\n",
        "    if input_img.shape[-1] == 1:\n",
        "        plt.imshow(input_img[...,0], 'gray')\n",
        "    else:\n",
        "        plt.imshow(input_img)\n",
        "    plt.subplot(132)\n",
        "    plt.imshow(1-predictions[i], 'magma')\n",
        "    plt.subplot(133)\n",
        "    plt.imshow(predictions[i] < threshold, 'gray')\n",
        "    plt.show()"
      ]
    },
    {
      "cell_type": "code",
      "execution_count": null,
      "id": "d51b2c37",
      "metadata": {
        "id": "d51b2c37"
      },
      "outputs": [],
      "source": [
        "def get_bbox(predictions, threshold):\n",
        "    bbox_list = []\n",
        "    failed = []\n",
        "    try:\n",
        "        for i in range(predictions.shape[0]):\n",
        "            GT = (predictions[i] < threshold).astype(np.uint8)\n",
        "            if np.sum(GT) == 0:\n",
        "                failed.append(i)\n",
        "                continue\n",
        "            bbox_1x, bbox_1y = min(np.where(GT == 1)[1])-5, min(np.where(GT == 1)[0])-5\n",
        "            bbox_2x, bbox_2y = max(np.where(GT == 1)[1])+5, max(np.where(GT == 1)[0])+5\n",
        "            bbox_list.append(((bbox_1x, bbox_2x), (bbox_1y, bbox_2y)))\n",
        "    except Exception as e:\n",
        "        print(f\"Error in bbox nb.{i}: {e}\")\n",
        "    \n",
        "    print(f\"{len(failed)/predictions.shape[0]*100}% of images did not pass the threshold\")\n",
        "    return bbox_list, len(failed)/predictions.shape[0]*100"
      ]
    },
    {
      "cell_type": "code",
      "execution_count": null,
      "id": "c074779e",
      "metadata": {},
      "outputs": [],
      "source": [
        "bboxes, _ = get_bbox(predictions, 0.35)"
      ]
    },
    {
      "cell_type": "code",
      "execution_count": null,
      "id": "c7b23af1",
      "metadata": {},
      "outputs": [],
      "source": [
        "def f(threshold):\n",
        "    return get_bbox(predictions, threshold)[1]\n",
        "\n",
        "plt.figure(figsize=(12,7), dpi=300)\n",
        "thresholds = np.arange(0, 1.05, 0.05)\n",
        "plt.plot(thresholds, [f(threshold)for threshold in thresholds])"
      ]
    },
    {
      "cell_type": "markdown",
      "id": "89a22c2d",
      "metadata": {},
      "source": [
        "# Setup"
      ]
    },
    {
      "cell_type": "code",
      "execution_count": 1,
      "id": "66f1c3a3",
      "metadata": {},
      "outputs": [
        {
          "name": "stdout",
          "output_type": "stream",
          "text": [
            "Device: cpu\n"
          ]
        },
        {
          "name": "stderr",
          "output_type": "stream",
          "text": [
            "/home/tomwelch/anaconda3/lib/python3.12/site-packages/torch/cuda/__init__.py:174: UserWarning: CUDA initialization: The NVIDIA driver on your system is too old (found version 11040). Please update your GPU driver by downloading and installing a new version from the URL: http://www.nvidia.com/Download/index.aspx Alternatively, go to: https://pytorch.org to install a PyTorch version that has been compiled with your version of the CUDA driver. (Triggered internally at /pytorch/c10/cuda/CUDAFunctions.cpp:109.)\n",
            "  return torch._C._cuda_getDeviceCount() > 0\n"
          ]
        }
      ],
      "source": [
        "import os\n",
        "from glob import glob\n",
        "\n",
        "import matplotlib.pyplot as plt\n",
        "import numpy as np\n",
        "import torch\n",
        "\n",
        "from napari_dinosim.dinoSim_pipeline import *\n",
        "from napari_dinosim.utils import *\n",
        "\n",
        "os.environ[\"CUDA_DEVICE_ORDER\"]=\"PCI_BUS_ID\"\n",
        "os.environ[\"CUDA_VISIBLE_DEVICES\"]=\"0\"\n",
        "device = torch.device(\"cuda:0\") if torch.cuda.is_available() else torch.device(\"cpu\")\n",
        "print(\"Device:\", device)\n",
        "\n",
        "import h5py\n",
        "from torch.nn import functional as F\n",
        "import torchvision.transforms.v2.functional as T\n",
        "from torchvision import transforms\n",
        "from tqdm import tqdm"
      ]
    },
    {
      "cell_type": "code",
      "execution_count": 2,
      "id": "afbf6362",
      "metadata": {},
      "outputs": [],
      "source": [
        "list_neurotransmitters = {0:'acetylcholine',\n",
        "                          1:'serotonin',\n",
        "                          2:'gaba',\n",
        "                          3:'glutamate',\n",
        "                          4:'octopamine',\n",
        "                          5:'dopamine'}\n",
        "\n",
        "list_dates = {0: 'sylee_neurotrans_cubes_18Feb2025', \n",
        "              1:'sylee_neurotrans_cubes_24Mar2025'}"
      ]
    },
    {
      "cell_type": "code",
      "execution_count": 3,
      "id": "7fe149d8",
      "metadata": {},
      "outputs": [],
      "source": [
        "def get_img_processing_f(\n",
        "    resize_size=224,\n",
        "    interpolation=transforms.InterpolationMode.BICUBIC,\n",
        "    mean=(0.485, 0.456, 0.406),\n",
        "    std=(0.229, 0.224, 0.225),\n",
        "):\n",
        "    # input  tensor: [(b),h,w,c]\n",
        "    # output tensor: [(b),c,h,w]\n",
        "    def _img_processing_f(x):\n",
        "        if len(x.shape) == 4:\n",
        "            if x.shape[-1] == 1:\n",
        "                x = x.repeat(1, 1, 1, 3)\n",
        "            x = x.permute(0, 3, 1, 2)\n",
        "        else:\n",
        "            if x.shape[-1] == 1:\n",
        "                x = x.repeat(1, 1, 3)\n",
        "            x = x.permute(2, 0, 1)\n",
        "        x = T.resize(\n",
        "            x, resize_size, interpolation=interpolation, antialias=True\n",
        "        )\n",
        "        x = T.normalize(x, mean=mean, std=std)\n",
        "        return x\n",
        "\n",
        "    return _img_processing_f\n"
      ]
    },
    {
      "cell_type": "code",
      "execution_count": 4,
      "id": "22134e93",
      "metadata": {},
      "outputs": [],
      "source": [
        "def load_image(path):\n",
        "    with h5py.File(path) as f:\n",
        "        pre, post = f['annotations/locations'][:]/8\n",
        "        x, y, z = pre[0].astype(int), pre[1].astype(int), pre[2].astype(int)\n",
        "        slice_volume = f['volumes/raw'][:][:,:,z]\n",
        "        return slice_volume, x, y"
      ]
    },
    {
      "cell_type": "code",
      "execution_count": 5,
      "id": "89839e1c",
      "metadata": {},
      "outputs": [],
      "source": [
        "def gaussian_kernel(size=3, sigma=1):\n",
        "\n",
        "    upper = size - 1\n",
        "    lower = -int(size / 2)\n",
        "\n",
        "    y, x = np.mgrid[lower:upper, lower:upper]\n",
        "\n",
        "    kernel = (1 / (2 * np.pi * sigma**2)) * np.exp(\n",
        "        -(x**2 + y**2) / (2 * sigma**2)\n",
        "    )\n",
        "    kernel = kernel / kernel.sum()\n",
        "\n",
        "    return kernel"
      ]
    },
    {
      "cell_type": "code",
      "execution_count": 6,
      "id": "44cd3f24",
      "metadata": {},
      "outputs": [],
      "source": [
        "def torch_convolve(input, weights, mode=\"reflect\", cval=0.0, origin=0):\n",
        "    if input.dim() == 2:\n",
        "        input = input.unsqueeze(0).unsqueeze(0)\n",
        "    elif input.dim() == 3: \n",
        "        input = input.unsqueeze(0)\n",
        "\n",
        "    if weights.dim() == 2:\n",
        "        weights = weights.unsqueeze(0).unsqueeze(0)\n",
        "\n",
        "    padding = (\n",
        "        weights.shape[-1] // 2 - origin\n",
        "    ) \n",
        "    input_padded = F.pad(\n",
        "        input, (padding, padding, padding, padding), mode=mode, value=cval\n",
        "    )\n",
        "    result = F.conv2d(input_padded, weights)\n",
        "\n",
        "    return result.squeeze()"
      ]
    },
    {
      "cell_type": "code",
      "execution_count": 7,
      "id": "bc7a1f74",
      "metadata": {},
      "outputs": [],
      "source": [
        "def get_bbox(predictions, threshold):\n",
        "    bbox_list = []\n",
        "    failed = []\n",
        "    try:\n",
        "        for i in range(predictions.shape[0]):\n",
        "            GT = (predictions[i] < threshold).astype(np.uint8)\n",
        "            if np.sum(GT) == 0:\n",
        "                failed.append(i)\n",
        "                continue\n",
        "            bbox_1x, bbox_1y = min(np.where(GT == 1)[1])-5, min(np.where(GT == 1)[0])-5\n",
        "            bbox_2x, bbox_2y = max(np.where(GT == 1)[1])+5, max(np.where(GT == 1)[0])+5\n",
        "            bbox_list.append(((bbox_1x, bbox_2x), (bbox_1y, bbox_2y)))\n",
        "    except Exception as e:\n",
        "        print(f\"Error in bbox nb.{i}: {e}\")\n",
        "    \n",
        "    #print(f\"{len(failed)/predictions.shape[0]*100}% of images did not pass the threshold\")\n",
        "    return bbox_list, len(failed)/predictions.shape[0]*100"
      ]
    },
    {
      "cell_type": "code",
      "execution_count": 17,
      "id": "ba77d616",
      "metadata": {},
      "outputs": [],
      "source": [
        "def f(predictions, threshold):\n",
        "    return get_bbox(predictions, threshold)[1]"
      ]
    },
    {
      "cell_type": "code",
      "execution_count": 9,
      "id": "da23ef5c",
      "metadata": {},
      "outputs": [],
      "source": [
        "#@title Data and Processing Parameters\n",
        "\n",
        "#@markdown ### Data Settings\n",
        "dataset_path = '/home/tomwelch/Cambridge/Datasets/neurotransmitter_data' #@param {type:\"string\"}\n",
        "dates = os.listdir(dataset_path)#@param {type:\"string\"}\n",
        "neurotransmitters = os.listdir(os.path.join(dataset_path, dates[0])) #@param {type:\"string\"} \n",
        "\n",
        "#@markdown ### Post-processing Settings\n",
        "upsample = \"bilinear\" #@param {type:\"string\", options:[\"bilinear\", \"Nearest Neighbor\", \"None\"], value-map:{bilinear:\"bilinear\", \"Nearest Neighbor\": \"nearest\", None:None}}\n",
        "crop_shape = (512,512,1) #@param {type:\"raw\"}\n",
        "\n",
        "#@markdown ### Model Input Settings\n",
        "#@markdown Should be multiple of model patch_size\n",
        "resize_size = 518 #@param {type:\"integer\"}"
      ]
    },
    {
      "cell_type": "code",
      "execution_count": 10,
      "id": "70a10b2f",
      "metadata": {},
      "outputs": [
        {
          "name": "stderr",
          "output_type": "stream",
          "text": [
            "Using cache found in /home/tomwelch/.cache/torch/hub/facebookresearch_dinov2_main\n",
            "/home/tomwelch/.cache/torch/hub/facebookresearch_dinov2_main/dinov2/layers/swiglu_ffn.py:51: UserWarning: xFormers is not available (SwiGLU)\n",
            "  warnings.warn(\"xFormers is not available (SwiGLU)\")\n",
            "/home/tomwelch/.cache/torch/hub/facebookresearch_dinov2_main/dinov2/layers/attention.py:33: UserWarning: xFormers is not available (Attention)\n",
            "  warnings.warn(\"xFormers is not available (Attention)\")\n",
            "/home/tomwelch/.cache/torch/hub/facebookresearch_dinov2_main/dinov2/layers/block.py:40: UserWarning: xFormers is not available (Block)\n",
            "  warnings.warn(\"xFormers is not available (Block)\")\n"
          ]
        },
        {
          "name": "stdout",
          "output_type": "stream",
          "text": [
            "Model loaded\n"
          ]
        }
      ],
      "source": [
        "# select model size\n",
        "model_size = 'small' #@param {type:\"string\", options:[\"small\", \"base\", \"large\", \"giant\"]}\n",
        "\n",
        "model_dims = {'small': 384, 'base': 768, 'large': 1024, 'giant': 1536}\n",
        "assert model_size in model_dims, f'Invalid model size: ({model_size})'\n",
        "model = torch.hub.load('facebookresearch/dinov2', f'dinov2_vit{model_size[0]}14_reg')\n",
        "model.to(device)\n",
        "model.eval()\n",
        "\n",
        "feat_dim = model_dims[model_size]\n",
        "\n",
        "few_shot = DinoSim_pipeline(model, model.patch_size, device, get_img_processing_f(resize_size),\n",
        "                             feat_dim, dino_image_size=resize_size )\n",
        "print(\"Model loaded\")"
      ]
    },
    {
      "cell_type": "code",
      "execution_count": 29,
      "id": "ab872827",
      "metadata": {},
      "outputs": [],
      "source": [
        "def DINOSim():\n",
        "    '''\n",
        "    Runs few-shot DINO-based detection over all dates and 6 neurotransmitters,\n",
        "    and plots success rate over thresholds in a 2x3 subplot grid.\n",
        "    '''\n",
        "    thresholds = np.arange(0, 1.05, 0.05)\n",
        "\n",
        "    fig, axs = plt.subplots(2, 3, figsize=(15, 10))\n",
        "    axs = axs.flatten()\n",
        "\n",
        "    for i, neuro in enumerate(neurotransmitters):\n",
        "        all_success_rates = []\n",
        "\n",
        "        for date in dates:\n",
        "            # Load files\n",
        "            train_x_fnames = glob(os.path.join(dataset_path, date, neuro, '*.hdf*'))\n",
        "            train_x_fnames.sort()\n",
        "\n",
        "            # Skip if no data\n",
        "            if len(train_x_fnames) == 0:\n",
        "                print(f\"Skipping {neuro} on {dates[date]} (no data)\")\n",
        "                continue\n",
        "\n",
        "            train_dataset = np.stack([load_image(p)[0] for p in train_x_fnames])\n",
        "            train_dataset = train_dataset[..., np.newaxis]\n",
        "            coordinates = np.stack([load_image(p)[1:] for p in train_x_fnames])\n",
        "            points = [(0, coord[0], coord[1]) for coord in coordinates]\n",
        "\n",
        "            # Convolution kernel\n",
        "            kernel = gaussian_kernel(size=3, sigma=1)\n",
        "            kernel = torch.tensor(kernel, dtype=torch.float32, device=device)\n",
        "            filter_f = lambda x: torch_convolve(x, kernel)\n",
        "\n",
        "            # Few-shot setup\n",
        "            few_shot.delete_precomputed_embeddings()\n",
        "            few_shot.delete_references()\n",
        "            if not few_shot.emb_precomputed:\n",
        "                few_shot.pre_compute_embeddings(train_dataset[:50], \n",
        "                                                overlap=(0, 0),\n",
        "                                                padding=(0, 0),\n",
        "                                                crop_shape=crop_shape, \n",
        "                                                verbose=False,\n",
        "                                                batch_size=5)\n",
        "            print('Done')\n",
        "            predictions = []\n",
        "\n",
        "            for point in tqdm(points, desc=f'{neuro} on {date}'):\n",
        "                few_shot.set_reference_vector(list_coords=[(0, point[0], point[1])])\n",
        "                distances = few_shot.get_ds_distances_sameRef(verbose=False)\n",
        "                pred = few_shot.distance_post_processing(distances, filter_f, upsampling_mode=upsample)\n",
        "                predictions.append(pred)\n",
        "\n",
        "            predictions = np.array(predictions)\n",
        "            failure_rate = [f(predictions, t) for t in thresholds]\n",
        "            all_failure_rates.append(failure_rate)\n",
        "\n",
        "        # Average across dates\n",
        "        if all_success_rates:\n",
        "            mean_rates = np.mean(all_success_rates, axis=0)\n",
        "            axs[i].plot(thresholds, mean_rates, label=neuro)\n",
        "            axs[i].set_title(f'{neuro}')\n",
        "            axs[i].set_xlabel('Threshold')\n",
        "            axs[i].set_ylabel('Success Rate')\n",
        "            axs[i].grid(True)\n",
        "            axs[i].legend()\n",
        "\n",
        "    plt.suptitle('Success Rate vs Threshold for Neurotransmitters', fontsize=16)\n",
        "    plt.tight_layout(rect=[0, 0.03, 1, 0.95])\n",
        "    plt.show()\n"
      ]
    },
    {
      "cell_type": "code",
      "execution_count": 28,
      "id": "9c8643b0",
      "metadata": {},
      "outputs": [
        {
          "name": "stdout",
          "output_type": "stream",
          "text": [
            "Precomputing embeddings\n"
          ]
        },
        {
          "name": "stderr",
          "output_type": "stream",
          "text": [
            "acetylcholine on sylee_neurotrans_cubes_18Feb2025: 100%|██████████| 300/300 [00:54<00:00,  5.49it/s]\n"
          ]
        },
        {
          "name": "stdout",
          "output_type": "stream",
          "text": [
            "Precomputing embeddings\n"
          ]
        },
        {
          "name": "stderr",
          "output_type": "stream",
          "text": [
            "acetylcholine on sylee_neurotrans_cubes_24Mar2025: 100%|██████████| 300/300 [00:52<00:00,  5.76it/s]\n"
          ]
        },
        {
          "ename": "KeyboardInterrupt",
          "evalue": "",
          "output_type": "error",
          "traceback": [
            "\u001b[0;31m---------------------------------------------------------------------------\u001b[0m",
            "\u001b[0;31mKeyboardInterrupt\u001b[0m                         Traceback (most recent call last)",
            "\u001b[1;32m/home/tomwelch/Cambridge/DINOSim/napari-dinoSim/src/dinoSim_example_original.ipynb Cell 33\u001b[0m line \u001b[0;36m1\n\u001b[0;32m----> <a href='vscode-notebook-cell:/home/tomwelch/Cambridge/DINOSim/napari-dinoSim/src/dinoSim_example_original.ipynb#X44sZmlsZQ%3D%3D?line=0'>1</a>\u001b[0m DINOSim()\n",
            "\u001b[1;32m/home/tomwelch/Cambridge/DINOSim/napari-dinoSim/src/dinoSim_example_original.ipynb Cell 33\u001b[0m line \u001b[0;36m5\n\u001b[1;32m     <a href='vscode-notebook-cell:/home/tomwelch/Cambridge/DINOSim/napari-dinoSim/src/dinoSim_example_original.ipynb#X44sZmlsZQ%3D%3D?line=52'>53</a>\u001b[0m     predictions \u001b[39m=\u001b[39m np\u001b[39m.\u001b[39marray(predictions)\n\u001b[1;32m     <a href='vscode-notebook-cell:/home/tomwelch/Cambridge/DINOSim/napari-dinoSim/src/dinoSim_example_original.ipynb#X44sZmlsZQ%3D%3D?line=53'>54</a>\u001b[0m \u001b[39m    \u001b[39m\u001b[39m'''\u001b[39;00m\n\u001b[1;32m     <a href='vscode-notebook-cell:/home/tomwelch/Cambridge/DINOSim/napari-dinoSim/src/dinoSim_example_original.ipynb#X44sZmlsZQ%3D%3D?line=54'>55</a>\u001b[0m \u001b[39m    # Define success metric function\u001b[39;00m\n\u001b[1;32m     <a href='vscode-notebook-cell:/home/tomwelch/Cambridge/DINOSim/napari-dinoSim/src/dinoSim_example_original.ipynb#X44sZmlsZQ%3D%3D?line=55'>56</a>\u001b[0m \u001b[39m    def f(preds, threshold):\u001b[39;00m\n\u001b[1;32m     <a href='vscode-notebook-cell:/home/tomwelch/Cambridge/DINOSim/napari-dinoSim/src/dinoSim_example_original.ipynb#X44sZmlsZQ%3D%3D?line=56'>57</a>\u001b[0m \u001b[39m        return np.mean(preds > threshold)\u001b[39;00m\n\u001b[1;32m     <a href='vscode-notebook-cell:/home/tomwelch/Cambridge/DINOSim/napari-dinoSim/src/dinoSim_example_original.ipynb#X44sZmlsZQ%3D%3D?line=57'>58</a>\u001b[0m \u001b[39m    '''\u001b[39;00m\n\u001b[0;32m---> <a href='vscode-notebook-cell:/home/tomwelch/Cambridge/DINOSim/napari-dinoSim/src/dinoSim_example_original.ipynb#X44sZmlsZQ%3D%3D?line=58'>59</a>\u001b[0m     success_rates \u001b[39m=\u001b[39m [f(predictions, t) \u001b[39mfor\u001b[39;00m t \u001b[39min\u001b[39;00m thresholds]\n\u001b[1;32m     <a href='vscode-notebook-cell:/home/tomwelch/Cambridge/DINOSim/napari-dinoSim/src/dinoSim_example_original.ipynb#X44sZmlsZQ%3D%3D?line=59'>60</a>\u001b[0m     all_success_rates\u001b[39m.\u001b[39mappend(success_rates)\n\u001b[1;32m     <a href='vscode-notebook-cell:/home/tomwelch/Cambridge/DINOSim/napari-dinoSim/src/dinoSim_example_original.ipynb#X44sZmlsZQ%3D%3D?line=61'>62</a>\u001b[0m \u001b[39m# Average across dates\u001b[39;00m\n",
            "\u001b[1;32m/home/tomwelch/Cambridge/DINOSim/napari-dinoSim/src/dinoSim_example_original.ipynb Cell 33\u001b[0m line \u001b[0;36m2\n\u001b[1;32m      <a href='vscode-notebook-cell:/home/tomwelch/Cambridge/DINOSim/napari-dinoSim/src/dinoSim_example_original.ipynb#X44sZmlsZQ%3D%3D?line=0'>1</a>\u001b[0m \u001b[39mdef\u001b[39;00m \u001b[39mf\u001b[39m(predictions, threshold):\n\u001b[0;32m----> <a href='vscode-notebook-cell:/home/tomwelch/Cambridge/DINOSim/napari-dinoSim/src/dinoSim_example_original.ipynb#X44sZmlsZQ%3D%3D?line=1'>2</a>\u001b[0m     \u001b[39mreturn\u001b[39;00m get_bbox(predictions, threshold)[\u001b[39m1\u001b[39m]\n",
            "\u001b[1;32m/home/tomwelch/Cambridge/DINOSim/napari-dinoSim/src/dinoSim_example_original.ipynb Cell 33\u001b[0m line \u001b[0;36m1\n\u001b[1;32m      <a href='vscode-notebook-cell:/home/tomwelch/Cambridge/DINOSim/napari-dinoSim/src/dinoSim_example_original.ipynb#X44sZmlsZQ%3D%3D?line=7'>8</a>\u001b[0m     failed\u001b[39m.\u001b[39mappend(i)\n\u001b[1;32m      <a href='vscode-notebook-cell:/home/tomwelch/Cambridge/DINOSim/napari-dinoSim/src/dinoSim_example_original.ipynb#X44sZmlsZQ%3D%3D?line=8'>9</a>\u001b[0m     \u001b[39mcontinue\u001b[39;00m\n\u001b[0;32m---> <a href='vscode-notebook-cell:/home/tomwelch/Cambridge/DINOSim/napari-dinoSim/src/dinoSim_example_original.ipynb#X44sZmlsZQ%3D%3D?line=9'>10</a>\u001b[0m bbox_1x, bbox_1y \u001b[39m=\u001b[39m \u001b[39mmin\u001b[39m(np\u001b[39m.\u001b[39mwhere(GT \u001b[39m==\u001b[39m \u001b[39m1\u001b[39m)[\u001b[39m1\u001b[39m])\u001b[39m-\u001b[39m\u001b[39m5\u001b[39m, \u001b[39mmin\u001b[39m(np\u001b[39m.\u001b[39mwhere(GT \u001b[39m==\u001b[39m \u001b[39m1\u001b[39m)[\u001b[39m0\u001b[39m])\u001b[39m-\u001b[39m\u001b[39m5\u001b[39m\n\u001b[1;32m     <a href='vscode-notebook-cell:/home/tomwelch/Cambridge/DINOSim/napari-dinoSim/src/dinoSim_example_original.ipynb#X44sZmlsZQ%3D%3D?line=10'>11</a>\u001b[0m bbox_2x, bbox_2y \u001b[39m=\u001b[39m \u001b[39mmax\u001b[39m(np\u001b[39m.\u001b[39mwhere(GT \u001b[39m==\u001b[39m \u001b[39m1\u001b[39m)[\u001b[39m1\u001b[39m])\u001b[39m+\u001b[39m\u001b[39m5\u001b[39m, \u001b[39mmax\u001b[39m(np\u001b[39m.\u001b[39mwhere(GT \u001b[39m==\u001b[39m \u001b[39m1\u001b[39m)[\u001b[39m0\u001b[39m])\u001b[39m+\u001b[39m\u001b[39m5\u001b[39m\n\u001b[1;32m     <a href='vscode-notebook-cell:/home/tomwelch/Cambridge/DINOSim/napari-dinoSim/src/dinoSim_example_original.ipynb#X44sZmlsZQ%3D%3D?line=11'>12</a>\u001b[0m bbox_list\u001b[39m.\u001b[39mappend(((bbox_1x, bbox_2x), (bbox_1y, bbox_2y)))\n",
            "\u001b[0;31mKeyboardInterrupt\u001b[0m: "
          ]
        },
        {
          "data": {
            "image/png": "[encoded data removed]",
            "text/plain": [
              "<Figure size 1500x1000 with 6 Axes>"
            ]
          },
          "metadata": {},
          "output_type": "display_data"
        }
      ],
      "source": [
        "DINOSim()"
      ]
    }
  ],
  "metadata": {
    "accelerator": "GPU",
    "colab": {
      "provenance": []
    },
    "gpuClass": "standard",
    "jupytext": {
      "cell_metadata_filter": "colab,colab_type,id,-all",
      "formats": "ipynb,py:percent",
      "main_language": "python"
    },
    "kernelspec": {
      "display_name": "Python 3",
      "language": "python",
      "name": "python3"
    },
    "language_info": {
      "codemirror_mode": {
        "name": "ipython",
        "version": 3
      },
      "file_extension": ".py",
      "mimetype": "text/x-python",
      "name": "python",
      "nbconvert_exporter": "python",
      "pygments_lexer": "ipython3",
      "version": "3.12.2"
    },
    "papermill": {
      "default_parameters": {},
      "duration": 24.542489,
      "end_time": "2022-05-03T01:17:43.180500",
      "environment_variables": {},
      "exception": null,
      "input_path": "course_UvA-DL/11-vision-transformer/Vision_Transformer.ipynb",
      "output_path": ".notebooks/course_UvA-DL/11-vision-transformer.ipynb",
      "parameters": {},
      "start_time": "2022-05-03T01:17:18.638011",
      "version": "2.3.4"
    },
    "vscode": {
      "interpreter": {
        "hash": "e7df9e58a0e73894e5865375860f80f2b4596667997f401ebab766884108c467"
      }
    }
  },
  "nbformat": 4,
  "nbformat_minor": 5
}
