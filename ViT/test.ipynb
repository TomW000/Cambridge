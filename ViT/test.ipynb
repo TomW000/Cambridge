{
 "cells": [
  {
   "cell_type": "code",
   "execution_count": 56,
   "metadata": {},
   "outputs": [
    {
     "name": "stdout",
     "output_type": "stream",
     "text": [
      "root:NXroot\n",
      "  annotations:NXgroup\n",
      "    ids = [0 1]\n",
      "    locations = float32(2x3)\n",
      "    presynaptic_site:NXgroup\n",
      "      partners = [[0 1]]\n",
      "    types = ['presynaptic_site', 'postsynaptic_site']\n",
      "  volumes:NXgroup\n",
      "    labels:NXgroup\n",
      "      neuron_ids = uint64(130x130x130)\n",
      "        @offset = [0, 0, 0]\n",
      "        @resolution = [8, 8, 8]\n",
      "    raw = uint8(130x130x130)\n",
      "      @offset = [0, 0, 0]\n",
      "      @resolution = [8, 8, 8]\n"
     ]
    }
   ],
   "source": [
    "import nexusformat.nexus as nx\n",
    "f = nx.nxload('/Users/tomw/Documents/MVA/Internship/Cambridge/Samia/Synister_NeurotransmitterPrediction/neurotransmitter_data/sylee_neurotrans_cubes_18Feb2025/acetylcholine/acetylcholine_1612-1742_y17627-17757_z10893-11023_1850706912.hdf')\n",
    "print(f.tree)"
   ]
  },
  {
   "cell_type": "code",
   "execution_count": 1,
   "metadata": {},
   "outputs": [],
   "source": [
    "import h5py\n",
    "import os\n",
    "import numpy as np\n",
    "list = []\n",
    "path = '/Users/tomw/Documents/MVA/Internship/Cambridge/Samia/Synister_NeurotransmitterPrediction/neurotransmitter_data/sylee_neurotrans_cubes_18Feb2025/acetylcholine'\n",
    "for file in os.listdir(path):\n",
    "    file_path = os.path.join(path, file)\n",
    "    with h5py.File(file_path) as f:\n",
    "        list.append(f['volumes/raw'][:])"
   ]
  },
  {
   "cell_type": "code",
   "execution_count": 2,
   "metadata": {},
   "outputs": [
    {
     "data": {
      "text/plain": [
       "numpy.ndarray"
      ]
     },
     "execution_count": 2,
     "metadata": {},
     "output_type": "execute_result"
    }
   ],
   "source": [
    "type(list[0])"
   ]
  },
  {
   "cell_type": "code",
   "execution_count": 4,
   "metadata": {},
   "outputs": [
    {
     "ename": "TypeError",
     "evalue": "get expected at least 1 argument, got 0",
     "output_type": "error",
     "traceback": [
      "\u001b[0;31m---------------------------------------------------------------------------\u001b[0m",
      "\u001b[0;31mTypeError\u001b[0m                                 Traceback (most recent call last)",
      "Cell \u001b[0;32mIn[4], line 3\u001b[0m\n\u001b[1;32m      1\u001b[0m \u001b[38;5;28mdict\u001b[39m \u001b[38;5;241m=\u001b[39m {\u001b[38;5;241m1\u001b[39m: \u001b[38;5;124m'\u001b[39m\u001b[38;5;124md\u001b[39m\u001b[38;5;124m'\u001b[39m,\n\u001b[1;32m      2\u001b[0m         \u001b[38;5;241m2\u001b[39m: \u001b[38;5;124m'\u001b[39m\u001b[38;5;124ms\u001b[39m\u001b[38;5;124m'\u001b[39m}\n\u001b[0;32m----> 3\u001b[0m \u001b[38;5;28;43mdict\u001b[39;49m\u001b[38;5;241;43m.\u001b[39;49m\u001b[43mget\u001b[49m\u001b[43m(\u001b[49m\u001b[43m)\u001b[49m\n",
      "\u001b[0;31mTypeError\u001b[0m: get expected at least 1 argument, got 0"
     ]
    }
   ],
   "source": [
    "dict = {1: 'd',\n",
    "        2: 's'}\n",
    "dict.get()"
   ]
  }
 ],
 "metadata": {
  "kernelspec": {
   "display_name": "base",
   "language": "python",
   "name": "python3"
  },
  "language_info": {
   "codemirror_mode": {
    "name": "ipython",
    "version": 3
   },
   "file_extension": ".py",
   "mimetype": "text/x-python",
   "name": "python",
   "nbconvert_exporter": "python",
   "pygments_lexer": "ipython3",
   "version": "3.10.0"
  }
 },
 "nbformat": 4,
 "nbformat_minor": 2
}
