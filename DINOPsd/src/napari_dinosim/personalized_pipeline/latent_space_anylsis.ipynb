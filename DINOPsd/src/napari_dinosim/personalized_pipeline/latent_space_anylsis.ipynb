{
 "cells": [
  {
   "cell_type": "code",
   "execution_count": null,
   "id": "c4a4feaf",
   "metadata": {},
   "outputs": [],
   "source": [
    "from setup import torch, \n",
    "import scipy"
   ]
  },
  {
   "cell_type": "code",
   "execution_count": null,
   "id": "8bf4bcdf",
   "metadata": {},
   "outputs": [],
   "source": [
    "embs = torch.load()"
   ]
  },
  {
   "cell_type": "code",
   "execution_count": null,
   "id": "cf90bc79",
   "metadata": {},
   "outputs": [],
   "source": [
    "#scipy.stats.wasserstein_distance\n",
    "\n",
    "\n",
    "#embs = list \n",
    "\n",
    "#i,j wassersetin distance between each embedding sets 60x60 matrix"
   ]
  }
 ],
 "metadata": {
  "language_info": {
   "name": "python"
  }
 },
 "nbformat": 4,
 "nbformat_minor": 5
}
