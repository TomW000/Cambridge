{
 "cells": [
  {
   "cell_type": "markdown",
   "metadata": {},
   "source": [
    "# Compute reference embeddings"
   ]
  },
  {
   "cell_type": "code",
   "execution_count": 72,
   "metadata": {},
   "outputs": [],
   "source": [
    "from setup import neurotransmitters, model, model_size, device, feat_dim, resize_size, dataset_path, curated_idx, few_shot_transforms\n",
    "from setup import tqdm, torch, np, os, h5py, sns, plt, tqdm, Trans, Image, chain\n",
    "from setup import cosine_similarity, euclidean_distances\n",
    "from perso_utils import get_fnames, load_image, get_latents\n",
    "from DINOSim import DinoSim_pipeline, diplay_features\n",
    "from napari_dinosim.utils import get_img_processing_f\n",
    "\n",
    "# Create an instance of the pipeline (not just assigning the class)\n",
    "few_shot = DinoSim_pipeline(model,\n",
    "                            model.patch_size,\n",
    "                            device,\n",
    "                            get_img_processing_f(resize_size),\n",
    "                            feat_dim, \n",
    "                            dino_image_size=resize_size\n",
    "                            )"
   ]
  },
  {
   "cell_type": "code",
   "execution_count": 73,
   "metadata": {},
   "outputs": [
    {
     "name": "stderr",
     "output_type": "stream",
     "text": [
      "Iterating through neurotransmitters: 0it [00:00, ?it/s]"
     ]
    },
    {
     "name": "stdout",
     "output_type": "stream",
     "text": [
      "Precomputing embeddings\n"
     ]
    },
    {
     "name": "stderr",
     "output_type": "stream",
     "text": [
      "100%|██████████| 1/1 [00:01<00:00,  1.73s/it]\n",
      "Iterating through neurotransmitters: 1it [00:01,  1.78s/it]"
     ]
    },
    {
     "name": "stdout",
     "output_type": "stream",
     "text": [
      "Precomputing embeddings\n"
     ]
    },
    {
     "name": "stderr",
     "output_type": "stream",
     "text": [
      "100%|██████████| 1/1 [00:01<00:00,  1.67s/it]\n",
      "Iterating through neurotransmitters: 2it [00:03,  1.74s/it]"
     ]
    },
    {
     "name": "stdout",
     "output_type": "stream",
     "text": [
      "Precomputing embeddings\n"
     ]
    },
    {
     "name": "stderr",
     "output_type": "stream",
     "text": [
      "100%|██████████| 1/1 [00:01<00:00,  1.69s/it]\n",
      "Iterating through neurotransmitters: 3it [00:05,  1.73s/it]"
     ]
    },
    {
     "name": "stdout",
     "output_type": "stream",
     "text": [
      "Precomputing embeddings\n"
     ]
    },
    {
     "name": "stderr",
     "output_type": "stream",
     "text": [
      "100%|██████████| 1/1 [00:01<00:00,  1.67s/it]\n",
      "Iterating through neurotransmitters: 4it [00:06,  1.72s/it]"
     ]
    },
    {
     "name": "stdout",
     "output_type": "stream",
     "text": [
      "Precomputing embeddings\n"
     ]
    },
    {
     "name": "stderr",
     "output_type": "stream",
     "text": [
      "100%|██████████| 1/1 [00:01<00:00,  1.67s/it]\n",
      "Iterating through neurotransmitters: 5it [00:08,  1.72s/it]"
     ]
    },
    {
     "name": "stdout",
     "output_type": "stream",
     "text": [
      "Precomputing embeddings\n"
     ]
    },
    {
     "name": "stderr",
     "output_type": "stream",
     "text": [
      "100%|██████████| 1/1 [00:01<00:00,  1.69s/it]\n",
      "Iterating through neurotransmitters: 6it [00:10,  1.73s/it]\n"
     ]
    }
   ],
   "source": [
    "data_aug = False\n",
    "k = 5\n",
    "\n",
    "files, labels = zip(*get_fnames()) \n",
    "\n",
    "if data_aug:    \n",
    "    nb_transformations = len(few_shot_transforms)\n",
    "    \n",
    "    # Preload images and metadata once\n",
    "    good_images = []\n",
    "    good_coordinates = []\n",
    "\n",
    "    for idx in curated_idx:\n",
    "        img, coord_y, coord_x = load_image(files[idx])\n",
    "        good_images.append(img.transpose(1,2,0))\n",
    "        good_coordinates.append([(0, coord_y, coord_x)] * nb_transformations)\n",
    "\n",
    "    transformed_images = []\n",
    "    for image in good_images:\n",
    "        transformed = [t(image).permute(1,2,0) for t in few_shot_transforms]\n",
    "        transformed_images.extend(transformed)\n",
    "\n",
    "    for j, img in enumerate(transformed_images):\n",
    "        if img.shape != torch.Size([130, 130, 1]):\n",
    "            h, w = img.shape[:2]\n",
    "            h_diff = (130 - h) // 2\n",
    "            w_diff = (130 - w) // 2\n",
    "            padded_img = torch.zeros(130, 130, 1)\n",
    "            padded_img[h_diff:h+h_diff, w_diff:w+w_diff, :] = img\n",
    "            transformed_images[j] = padded_img\n",
    "            \n",
    "    batch_size = int(len(curated_idx)/len(neurotransmitters)*len(few_shot_transforms))\n",
    "    good_datasets = [transformed_images[i:i+batch_size] for i in range(0,len(transformed_images),batch_size)]\n",
    "            \n",
    "    good_datasets = np.array(good_datasets)\n",
    "    good_coordinates = np.vstack(good_coordinates)\n",
    "\n",
    "\n",
    "else:\n",
    "    good_datasets = np.array([load_image(files[idx])[0] for idx in curated_idx])[np.newaxis,...].transpose(1,0,3,4,2)\n",
    "    good_coordinates = np.array([(0, load_image(files[idx])[1], load_image(files[idx])[2]) for idx in curated_idx])\n",
    "\n",
    "\n",
    "latent_list, label_list = [], []\n",
    "for dataset, batch_label in tqdm(zip(good_datasets, neurotransmitters), desc='Iterating through neurotransmitters'):\n",
    "    \n",
    "    # Pre-compute embeddings\n",
    "    few_shot.pre_compute_embeddings(\n",
    "        dataset,  # Pass numpy array of images\n",
    "        overlap=(0.5, 0.5),\n",
    "        padding=(0, 0),\n",
    "        crop_shape=(140, 140, 1),\n",
    "        verbose=True,\n",
    "        batch_size=10\n",
    "    )\n",
    "    \n",
    "    # Set reference vectors\n",
    "    few_shot.set_reference_vector(good_coordinates, filter=None)\n",
    "    ref = few_shot.get_refs()\n",
    "    \n",
    "    # Get closest elements - using the correct method name\n",
    "    close_embedding =  few_shot.get_k_closest_elements(k=k)\n",
    "    k_labels =  [batch_label for _ in range(k)]\n",
    "\n",
    "    \n",
    "    # Convert to numpy for storing\n",
    "    close_embedding_np = close_embedding.cpu().numpy() if isinstance(close_embedding, torch.Tensor) else close_embedding\n",
    "    \n",
    "    latent_list.append(close_embedding_np)\n",
    "    label_list.append(k_labels)\n",
    "    \n",
    "    # Clean up to free memory\n",
    "    few_shot.delete_precomputed_embeddings()\n",
    "    few_shot.delete_references()\n",
    "    \n",
    "mean_ref = torch.from_numpy(np.vstack([np.mean(l, axis=0) for l in latent_list]))\n",
    "# Stack all embeddings and labels\n",
    "ref_latents = np.vstack(latent_list)\n",
    "ref_labels = np.hstack(label_list)"
   ]
  },
  {
   "cell_type": "markdown",
   "metadata": {},
   "source": [
    "# Compute new image's embeddings"
   ]
  },
  {
   "cell_type": "code",
   "execution_count": 74,
   "metadata": {},
   "outputs": [
    {
     "name": "stdout",
     "output_type": "stream",
     "text": [
      "Precomputing embeddings\n"
     ]
    },
    {
     "name": "stderr",
     "output_type": "stream",
     "text": [
      "  0%|          | 0/4 [00:00<?, ?it/s]"
     ]
    },
    {
     "name": "stderr",
     "output_type": "stream",
     "text": [
      "100%|██████████| 4/4 [00:03<00:00,  1.21it/s]\n"
     ]
    }
   ],
   "source": [
    "new_image_index = 650\n",
    "\n",
    "img = np.array(load_image(files[new_image_index])[0])[...,np.newaxis]#.transpose(0,2,3,1)\n",
    "    \n",
    "few_shot.pre_compute_embeddings(\n",
    "        img,  # Pass numpy array of images\n",
    "        overlap=(0.5, 0.5),\n",
    "        padding=(0, 0),\n",
    "        crop_shape=(140, 140, 1),\n",
    "        verbose=True,\n",
    "        batch_size=1\n",
    "    )\n",
    "    \n",
    "new_img_embs = few_shot.get_embs().reshape(-1, feat_dim)\n",
    "    \n",
    "new_label = ['new' for _ in range(new_img_embs.shape[0])]\n",
    "    \n",
    "# Stack all embeddings and labels\n",
    "ref_latents = np.vstack(latent_list)\n",
    "ref_labels = np.hstack(label_list)\n",
    "    \n",
    "mean_ref = np.vstack([np.mean(list, axis=0) for list in latent_list])\n",
    "mean_labs = [neurotransmitter for neurotransmitter in neurotransmitters]\n",
    "    \n",
    "latents = np.vstack([ref_latents, new_img_embs])  # Changed from stack to vstack for proper concatenation\n",
    "labs = np.hstack([ref_labels, new_label])    # Changed from stack to hstack for proper concatenation"
   ]
  },
  {
   "cell_type": "code",
   "execution_count": 75,
   "metadata": {},
   "outputs": [
    {
     "name": "stdout",
     "output_type": "stream",
     "text": [
      "The actual EM belongs to the class: dopamine\n",
      "We have 5 reference points inside each of the 6 classes\n",
      "There are 6 average reference embeddings and 30 in total\n"
     ]
    }
   ],
   "source": [
    "print(f'The actual EM belongs to the class: {labels[new_image_index]}')\n",
    "print(f'We have {len(latent_list[0])} reference points inside each of the {len(neurotransmitters)} classes')\n",
    "print(f'There are {len(mean_ref)} average reference embeddings and {len(ref_latents)} in total')"
   ]
  },
  {
   "cell_type": "markdown",
   "metadata": {},
   "source": [
    "# Reference embeddings visualization"
   ]
  },
  {
   "cell_type": "code",
   "execution_count": 76,
   "metadata": {},
   "outputs": [
    {
     "data": {
      "image/png": "[encoded data removed]",
      "text/plain": [
       "<Figure size 1200x700 with 2 Axes>"
      ]
     },
     "metadata": {},
     "output_type": "display_data"
    }
   ],
   "source": [
    "model_size = 'giant'\n",
    "distance_matrix = euclidean_distances(mean_ref, mean_ref)\n",
    "plt.figure(figsize=(12,7), dpi=100)\n",
    "sns.heatmap(distance_matrix, xticklabels=mean_labs, yticklabels=mean_labs, cmap='Reds')\n",
    "plt.title(f'Distance matrix - {model_size} DINOv2 - Data augmentation: {data_aug}')\n",
    "plt.xlabel('Reference embeddings')\n",
    "plt.ylabel('Reference embeddings')\n",
    "plt.show()"
   ]
  },
  {
   "cell_type": "code",
   "execution_count": 77,
   "metadata": {},
   "outputs": [
    {
     "name": "stdout",
     "output_type": "stream",
     "text": [
      "The sum of distances is 842.2689819335938\n"
     ]
    }
   ],
   "source": [
    "print(f'The sum of distances is {np.sum(np.triu(distance_matrix, k=0))}')"
   ]
  },
  {
   "cell_type": "code",
   "execution_count": 78,
   "metadata": {},
   "outputs": [
    {
     "name": "stderr",
     "output_type": "stream",
     "text": [
      "/home/tomwelch/anaconda3/lib/python3.12/site-packages/umap/umap_.py:1952: UserWarning:\n",
      "\n",
      "n_jobs value 1 overridden to 1 by setting random_state. Use no seed for parallelism.\n",
      "\n"
     ]
    },
    {
     "data": {
      "application/vnd.plotly.v1+json": {
       "config": {
        "plotlyServerURL": "https://plot.ly"
       },
       "data": [
        {
         "hovertemplate": "color=acetylcholine<br>x=%{x}<br>y=%{y}<extra></extra>",
         "legendgroup": "acetylcholine",
         "marker": {
          "color": "#636efa",
          "symbol": "circle"
         },
         "mode": "markers",
         "name": "acetylcholine",
         "orientation": "v",
         "showlegend": true,
         "type": "scatter",
         "x": [
          27.101415634155273,
          26.2984676361084,
          26.59550666809082,
          26.106895446777344,
          25.430864334106445,
          25.266321182250977
         ],
         "xaxis": "x",
         "y": [
          -7.744652271270752,
          -8.680888175964355,
          -6.990937232971191,
          -7.718460559844971,
          -6.688022136688232,
          -7.6766462326049805
         ],
         "yaxis": "y"
        },
        {
         "hovertemplate": "color=dopamine<br>x=%{x}<br>y=%{y}<extra></extra>",
         "legendgroup": "dopamine",
         "marker": {
          "color": "#EF553B",
          "symbol": "circle"
         },
         "mode": "markers",
         "name": "dopamine",
         "orientation": "v",
         "showlegend": true,
         "type": "scatter",
         "x": [
          -20.324256896972656,
          -20.12458610534668,
          -20.746173858642578,
          -19.870553970336914,
          -21.627885818481445,
          -21.06315040588379
         ],
         "xaxis": "x",
         "y": [
          -1.9879237413406372,
          -3.401442050933838,
          -3.663350820541382,
          -2.7364261150360107,
          -3.1330268383026123,
          -2.365213394165039
         ],
         "yaxis": "y"
        },
        {
         "hovertemplate": "color=gaba<br>x=%{x}<br>y=%{y}<extra></extra>",
         "legendgroup": "gaba",
         "marker": {
          "color": "#00cc96",
          "symbol": "circle"
         },
         "mode": "markers",
         "name": "gaba",
         "orientation": "v",
         "showlegend": true,
         "type": "scatter",
         "x": [
          -12.929570198059082,
          -13.025078773498535,
          -13.866044998168945,
          -12.507980346679688,
          -14.318280220031738,
          -13.789016723632812
         ],
         "xaxis": "x",
         "y": [
          3.4582433700561523,
          4.816327095031738,
          4.458347797393799,
          4.100510120391846,
          4.004497051239014,
          3.0698084831237793
         ],
         "yaxis": "y"
        },
        {
         "hovertemplate": "color=glutamate<br>x=%{x}<br>y=%{y}<extra></extra>",
         "legendgroup": "glutamate",
         "marker": {
          "color": "#ab63fa",
          "symbol": "circle"
         },
         "mode": "markers",
         "name": "glutamate",
         "orientation": "v",
         "showlegend": true,
         "type": "scatter",
         "x": [
          18.076047897338867,
          17.191635131835938,
          16.815292358398438,
          16.30098533630371,
          17.691070556640625,
          17.92662811279297
         ],
         "xaxis": "x",
         "y": [
          22.143951416015625,
          22.500083923339844,
          21.184144973754883,
          21.851490020751953,
          20.671287536621094,
          21.633899688720703
         ],
         "yaxis": "y"
        },
        {
         "hovertemplate": "color=octopamine<br>x=%{x}<br>y=%{y}<extra></extra>",
         "legendgroup": "octopamine",
         "marker": {
          "color": "#FFA15A",
          "symbol": "circle"
         },
         "mode": "markers",
         "name": "octopamine",
         "orientation": "v",
         "showlegend": true,
         "type": "scatter",
         "x": [
          48.08722686767578,
          48.12479019165039,
          47.62582778930664,
          48.76215362548828,
          47.070858001708984,
          46.893470764160156
         ],
         "xaxis": "x",
         "y": [
          -26.427034378051758,
          -24.728254318237305,
          -25.561630249023438,
          -25.561790466308594,
          -24.696483612060547,
          -26.004737854003906
         ],
         "yaxis": "y"
        },
        {
         "hovertemplate": "color=serotonin<br>x=%{x}<br>y=%{y}<extra></extra>",
         "legendgroup": "serotonin",
         "marker": {
          "color": "#19d3f3",
          "symbol": "circle"
         },
         "mode": "markers",
         "name": "serotonin",
         "orientation": "v",
         "showlegend": true,
         "type": "scatter",
         "x": [
          -4.452982425689697,
          -3.5828051567077637,
          -4.235479354858398,
          -3.4245800971984863,
          -3.2813403606414795,
          -4.759365081787109
         ],
         "xaxis": "x",
         "y": [
          -10.824563980102539,
          -10.080424308776855,
          -9.27955436706543,
          -10.751928329467773,
          -9.184922218322754,
          -9.854392051696777
         ],
         "yaxis": "y"
        }
       ],
       "layout": {
        "height": 666,
        "legend": {
         "title": {
          "text": "color"
         },
         "tracegroupgap": 0
        },
        "template": {
         "data": {
          "bar": [
           {
            "error_x": {
             "color": "#2a3f5f"
            },
            "error_y": {
             "color": "#2a3f5f"
            },
            "marker": {
             "line": {
              "color": "#E5ECF6",
              "width": 0.5
             },
             "pattern": {
              "fillmode": "overlay",
              "size": 10,
              "solidity": 0.2
             }
            },
            "type": "bar"
           }
          ],
          "barpolar": [
           {
            "marker": {
             "line": {
              "color": "#E5ECF6",
              "width": 0.5
             },
             "pattern": {
              "fillmode": "overlay",
              "size": 10,
              "solidity": 0.2
             }
            },
            "type": "barpolar"
           }
          ],
          "carpet": [
           {
            "aaxis": {
             "endlinecolor": "#2a3f5f",
             "gridcolor": "white",
             "linecolor": "white",
             "minorgridcolor": "white",
             "startlinecolor": "#2a3f5f"
            },
            "baxis": {
             "endlinecolor": "#2a3f5f",
             "gridcolor": "white",
             "linecolor": "white",
             "minorgridcolor": "white",
             "startlinecolor": "#2a3f5f"
            },
            "type": "carpet"
           }
          ],
          "choropleth": [
           {
            "colorbar": {
             "outlinewidth": 0,
             "ticks": ""
            },
            "type": "choropleth"
           }
          ],
          "contour": [
           {
            "colorbar": {
             "outlinewidth": 0,
             "ticks": ""
            },
            "colorscale": [
             [
              0,
              "#0d0887"
             ],
             [
              0.1111111111111111,
              "#46039f"
             ],
             [
              0.2222222222222222,
              "#7201a8"
             ],
             [
              0.3333333333333333,
              "#9c179e"
             ],
             [
              0.4444444444444444,
              "#bd3786"
             ],
             [
              0.5555555555555556,
              "#d8576b"
             ],
             [
              0.6666666666666666,
              "#ed7953"
             ],
             [
              0.7777777777777778,
              "#fb9f3a"
             ],
             [
              0.8888888888888888,
              "#fdca26"
             ],
             [
              1,
              "#f0f921"
             ]
            ],
            "type": "contour"
           }
          ],
          "contourcarpet": [
           {
            "colorbar": {
             "outlinewidth": 0,
             "ticks": ""
            },
            "type": "contourcarpet"
           }
          ],
          "heatmap": [
           {
            "colorbar": {
             "outlinewidth": 0,
             "ticks": ""
            },
            "colorscale": [
             [
              0,
              "#0d0887"
             ],
             [
              0.1111111111111111,
              "#46039f"
             ],
             [
              0.2222222222222222,
              "#7201a8"
             ],
             [
              0.3333333333333333,
              "#9c179e"
             ],
             [
              0.4444444444444444,
              "#bd3786"
             ],
             [
              0.5555555555555556,
              "#d8576b"
             ],
             [
              0.6666666666666666,
              "#ed7953"
             ],
             [
              0.7777777777777778,
              "#fb9f3a"
             ],
             [
              0.8888888888888888,
              "#fdca26"
             ],
             [
              1,
              "#f0f921"
             ]
            ],
            "type": "heatmap"
           }
          ],
          "heatmapgl": [
           {
            "colorbar": {
             "outlinewidth": 0,
             "ticks": ""
            },
            "colorscale": [
             [
              0,
              "#0d0887"
             ],
             [
              0.1111111111111111,
              "#46039f"
             ],
             [
              0.2222222222222222,
              "#7201a8"
             ],
             [
              0.3333333333333333,
              "#9c179e"
             ],
             [
              0.4444444444444444,
              "#bd3786"
             ],
             [
              0.5555555555555556,
              "#d8576b"
             ],
             [
              0.6666666666666666,
              "#ed7953"
             ],
             [
              0.7777777777777778,
              "#fb9f3a"
             ],
             [
              0.8888888888888888,
              "#fdca26"
             ],
             [
              1,
              "#f0f921"
             ]
            ],
            "type": "heatmapgl"
           }
          ],
          "histogram": [
           {
            "marker": {
             "pattern": {
              "fillmode": "overlay",
              "size": 10,
              "solidity": 0.2
             }
            },
            "type": "histogram"
           }
          ],
          "histogram2d": [
           {
            "colorbar": {
             "outlinewidth": 0,
             "ticks": ""
            },
            "colorscale": [
             [
              0,
              "#0d0887"
             ],
             [
              0.1111111111111111,
              "#46039f"
             ],
             [
              0.2222222222222222,
              "#7201a8"
             ],
             [
              0.3333333333333333,
              "#9c179e"
             ],
             [
              0.4444444444444444,
              "#bd3786"
             ],
             [
              0.5555555555555556,
              "#d8576b"
             ],
             [
              0.6666666666666666,
              "#ed7953"
             ],
             [
              0.7777777777777778,
              "#fb9f3a"
             ],
             [
              0.8888888888888888,
              "#fdca26"
             ],
             [
              1,
              "#f0f921"
             ]
            ],
            "type": "histogram2d"
           }
          ],
          "histogram2dcontour": [
           {
            "colorbar": {
             "outlinewidth": 0,
             "ticks": ""
            },
            "colorscale": [
             [
              0,
              "#0d0887"
             ],
             [
              0.1111111111111111,
              "#46039f"
             ],
             [
              0.2222222222222222,
              "#7201a8"
             ],
             [
              0.3333333333333333,
              "#9c179e"
             ],
             [
              0.4444444444444444,
              "#bd3786"
             ],
             [
              0.5555555555555556,
              "#d8576b"
             ],
             [
              0.6666666666666666,
              "#ed7953"
             ],
             [
              0.7777777777777778,
              "#fb9f3a"
             ],
             [
              0.8888888888888888,
              "#fdca26"
             ],
             [
              1,
              "#f0f921"
             ]
            ],
            "type": "histogram2dcontour"
           }
          ],
          "mesh3d": [
           {
            "colorbar": {
             "outlinewidth": 0,
             "ticks": ""
            },
            "type": "mesh3d"
           }
          ],
          "parcoords": [
           {
            "line": {
             "colorbar": {
              "outlinewidth": 0,
              "ticks": ""
             }
            },
            "type": "parcoords"
           }
          ],
          "pie": [
           {
            "automargin": true,
            "type": "pie"
           }
          ],
          "scatter": [
           {
            "fillpattern": {
             "fillmode": "overlay",
             "size": 10,
             "solidity": 0.2
            },
            "type": "scatter"
           }
          ],
          "scatter3d": [
           {
            "line": {
             "colorbar": {
              "outlinewidth": 0,
              "ticks": ""
             }
            },
            "marker": {
             "colorbar": {
              "outlinewidth": 0,
              "ticks": ""
             }
            },
            "type": "scatter3d"
           }
          ],
          "scattercarpet": [
           {
            "marker": {
             "colorbar": {
              "outlinewidth": 0,
              "ticks": ""
             }
            },
            "type": "scattercarpet"
           }
          ],
          "scattergeo": [
           {
            "marker": {
             "colorbar": {
              "outlinewidth": 0,
              "ticks": ""
             }
            },
            "type": "scattergeo"
           }
          ],
          "scattergl": [
           {
            "marker": {
             "colorbar": {
              "outlinewidth": 0,
              "ticks": ""
             }
            },
            "type": "scattergl"
           }
          ],
          "scattermapbox": [
           {
            "marker": {
             "colorbar": {
              "outlinewidth": 0,
              "ticks": ""
             }
            },
            "type": "scattermapbox"
           }
          ],
          "scatterpolar": [
           {
            "marker": {
             "colorbar": {
              "outlinewidth": 0,
              "ticks": ""
             }
            },
            "type": "scatterpolar"
           }
          ],
          "scatterpolargl": [
           {
            "marker": {
             "colorbar": {
              "outlinewidth": 0,
              "ticks": ""
             }
            },
            "type": "scatterpolargl"
           }
          ],
          "scatterternary": [
           {
            "marker": {
             "colorbar": {
              "outlinewidth": 0,
              "ticks": ""
             }
            },
            "type": "scatterternary"
           }
          ],
          "surface": [
           {
            "colorbar": {
             "outlinewidth": 0,
             "ticks": ""
            },
            "colorscale": [
             [
              0,
              "#0d0887"
             ],
             [
              0.1111111111111111,
              "#46039f"
             ],
             [
              0.2222222222222222,
              "#7201a8"
             ],
             [
              0.3333333333333333,
              "#9c179e"
             ],
             [
              0.4444444444444444,
              "#bd3786"
             ],
             [
              0.5555555555555556,
              "#d8576b"
             ],
             [
              0.6666666666666666,
              "#ed7953"
             ],
             [
              0.7777777777777778,
              "#fb9f3a"
             ],
             [
              0.8888888888888888,
              "#fdca26"
             ],
             [
              1,
              "#f0f921"
             ]
            ],
            "type": "surface"
           }
          ],
          "table": [
           {
            "cells": {
             "fill": {
              "color": "#EBF0F8"
             },
             "line": {
              "color": "white"
             }
            },
            "header": {
             "fill": {
              "color": "#C8D4E3"
             },
             "line": {
              "color": "white"
             }
            },
            "type": "table"
           }
          ]
         },
         "layout": {
          "annotationdefaults": {
           "arrowcolor": "#2a3f5f",
           "arrowhead": 0,
           "arrowwidth": 1
          },
          "autotypenumbers": "strict",
          "coloraxis": {
           "colorbar": {
            "outlinewidth": 0,
            "ticks": ""
           }
          },
          "colorscale": {
           "diverging": [
            [
             0,
             "#8e0152"
            ],
            [
             0.1,
             "#c51b7d"
            ],
            [
             0.2,
             "#de77ae"
            ],
            [
             0.3,
             "#f1b6da"
            ],
            [
             0.4,
             "#fde0ef"
            ],
            [
             0.5,
             "#f7f7f7"
            ],
            [
             0.6,
             "#e6f5d0"
            ],
            [
             0.7,
             "#b8e186"
            ],
            [
             0.8,
             "#7fbc41"
            ],
            [
             0.9,
             "#4d9221"
            ],
            [
             1,
             "#276419"
            ]
           ],
           "sequential": [
            [
             0,
             "#0d0887"
            ],
            [
             0.1111111111111111,
             "#46039f"
            ],
            [
             0.2222222222222222,
             "#7201a8"
            ],
            [
             0.3333333333333333,
             "#9c179e"
            ],
            [
             0.4444444444444444,
             "#bd3786"
            ],
            [
             0.5555555555555556,
             "#d8576b"
            ],
            [
             0.6666666666666666,
             "#ed7953"
            ],
            [
             0.7777777777777778,
             "#fb9f3a"
            ],
            [
             0.8888888888888888,
             "#fdca26"
            ],
            [
             1,
             "#f0f921"
            ]
           ],
           "sequentialminus": [
            [
             0,
             "#0d0887"
            ],
            [
             0.1111111111111111,
             "#46039f"
            ],
            [
             0.2222222222222222,
             "#7201a8"
            ],
            [
             0.3333333333333333,
             "#9c179e"
            ],
            [
             0.4444444444444444,
             "#bd3786"
            ],
            [
             0.5555555555555556,
             "#d8576b"
            ],
            [
             0.6666666666666666,
             "#ed7953"
            ],
            [
             0.7777777777777778,
             "#fb9f3a"
            ],
            [
             0.8888888888888888,
             "#fdca26"
            ],
            [
             1,
             "#f0f921"
            ]
           ]
          },
          "colorway": [
           "#636efa",
           "#EF553B",
           "#00cc96",
           "#ab63fa",
           "#FFA15A",
           "#19d3f3",
           "#FF6692",
           "#B6E880",
           "#FF97FF",
           "#FECB52"
          ],
          "font": {
           "color": "#2a3f5f"
          },
          "geo": {
           "bgcolor": "white",
           "lakecolor": "white",
           "landcolor": "#E5ECF6",
           "showlakes": true,
           "showland": true,
           "subunitcolor": "white"
          },
          "hoverlabel": {
           "align": "left"
          },
          "hovermode": "closest",
          "mapbox": {
           "style": "light"
          },
          "paper_bgcolor": "white",
          "plot_bgcolor": "#E5ECF6",
          "polar": {
           "angularaxis": {
            "gridcolor": "white",
            "linecolor": "white",
            "ticks": ""
           },
           "bgcolor": "#E5ECF6",
           "radialaxis": {
            "gridcolor": "white",
            "linecolor": "white",
            "ticks": ""
           }
          },
          "scene": {
           "xaxis": {
            "backgroundcolor": "#E5ECF6",
            "gridcolor": "white",
            "gridwidth": 2,
            "linecolor": "white",
            "showbackground": true,
            "ticks": "",
            "zerolinecolor": "white"
           },
           "yaxis": {
            "backgroundcolor": "#E5ECF6",
            "gridcolor": "white",
            "gridwidth": 2,
            "linecolor": "white",
            "showbackground": true,
            "ticks": "",
            "zerolinecolor": "white"
           },
           "zaxis": {
            "backgroundcolor": "#E5ECF6",
            "gridcolor": "white",
            "gridwidth": 2,
            "linecolor": "white",
            "showbackground": true,
            "ticks": "",
            "zerolinecolor": "white"
           }
          },
          "shapedefaults": {
           "line": {
            "color": "#2a3f5f"
           }
          },
          "ternary": {
           "aaxis": {
            "gridcolor": "white",
            "linecolor": "white",
            "ticks": ""
           },
           "baxis": {
            "gridcolor": "white",
            "linecolor": "white",
            "ticks": ""
           },
           "bgcolor": "#E5ECF6",
           "caxis": {
            "gridcolor": "white",
            "linecolor": "white",
            "ticks": ""
           }
          },
          "title": {
           "x": 0.05
          },
          "xaxis": {
           "automargin": true,
           "gridcolor": "white",
           "linecolor": "white",
           "ticks": "",
           "title": {
            "standoff": 15
           },
           "zerolinecolor": "white",
           "zerolinewidth": 2
          },
          "yaxis": {
           "automargin": true,
           "gridcolor": "white",
           "linecolor": "white",
           "ticks": "",
           "title": {
            "standoff": 15
           },
           "zerolinecolor": "white",
           "zerolinewidth": 2
          }
         }
        },
        "title": {
         "text": "PCA=False (100) - UMAP (n_neighbors=10, min_dist=1, n_components=2, metric=cosine)"
        },
        "width": 1000,
        "xaxis": {
         "anchor": "y",
         "domain": [
          0,
          1
         ],
         "title": {
          "text": "x"
         }
        },
        "yaxis": {
         "anchor": "x",
         "domain": [
          0,
          1
         ],
         "title": {
          "text": "y"
         }
        }
       }
      }
     },
     "metadata": {},
     "output_type": "display_data"
    }
   ],
   "source": [
    "diplay_features(\n",
    "        np.vstack([ref_latents, np.vstack(mean_ref)]),\n",
    "        np.hstack([ref_labels, np.hstack(mean_labs)]),\n",
    "\n",
    "        include_pca=False,\n",
    "        pca_nb_components=100,\n",
    "        clustering=False,\n",
    "        nb_clusters=6,\n",
    "        nb_neighbor=10,\n",
    "        min_dist=1,\n",
    "        nb_components=2,\n",
    "        metric='cosine'\n",
    "    )"
   ]
  },
  {
   "cell_type": "code",
   "execution_count": 79,
   "metadata": {},
   "outputs": [
    {
     "data": {
      "image/png": "[encoded data removed]",
      "text/plain": [
       "<Figure size 1200x700 with 1 Axes>"
      ]
     },
     "metadata": {},
     "output_type": "display_data"
    }
   ],
   "source": [
    "from sklearn.cluster import KMeans\n",
    "inertia_list = []\n",
    "for k in range(1,len(mean_labs)+1):\n",
    "    kmeans = KMeans(n_clusters=k).fit(ref_latents)\n",
    "    inertia_list.append(kmeans.inertia_)\n",
    "plt.figure(figsize=(12,7),dpi=100)\n",
    "plt.plot([i for i in range(1,len(mean_labs)+1)], inertia_list)\n",
    "plt.title(f'Reference Embeddings - KMeans inertia - {model_size} DINOv2 - Data augmentation: {data_aug}')\n",
    "plt.ylabel('Inertia')\n",
    "plt.xlabel('Nb of clusters')\n",
    "plt.show()"
   ]
  },
  {
   "cell_type": "markdown",
   "metadata": {},
   "source": [
    "# Results "
   ]
  },
  {
   "cell_type": "code",
   "execution_count": 80,
   "metadata": {},
   "outputs": [
    {
     "name": "stderr",
     "output_type": "stream",
     "text": [
      "/home/tomwelch/anaconda3/lib/python3.12/site-packages/umap/umap_.py:1952: UserWarning:\n",
      "\n",
      "n_jobs value 1 overridden to 1 by setting random_state. Use no seed for parallelism.\n",
      "\n",
      "/home/tomwelch/anaconda3/lib/python3.12/site-packages/umap/spectral.py:548: UserWarning:\n",
      "\n",
      "Spectral initialisation failed! The eigenvector solver\n",
      "failed. This is likely due to too small an eigengap. Consider\n",
      "adding some noise or jitter to your data.\n",
      "\n",
      "Falling back to random initialisation!\n",
      "\n"
     ]
    },
    {
     "data": {
      "application/vnd.plotly.v1+json": {
       "config": {
        "plotlyServerURL": "https://plot.ly"
       },
       "data": [
        {
         "hovertemplate": "color=acetylcholine<br>x=%{x}<br>y=%{y}<extra></extra>",
         "legendgroup": "acetylcholine",
         "marker": {
          "color": "#636efa",
          "symbol": "circle"
         },
         "mode": "markers",
         "name": "acetylcholine",
         "orientation": "v",
         "showlegend": true,
         "type": "scatter",
         "x": [
          0.32632893323898315,
          0.41542550921440125,
          0.06264632195234299,
          -0.14647972583770752,
          0.18622927367687225
         ],
         "xaxis": "x",
         "y": [
          10.269545555114746,
          10.035615921020508,
          10.152039527893066,
          9.669044494628906,
          10.31856918334961
         ],
         "yaxis": "y"
        },
        {
         "hovertemplate": "color=dopamine<br>x=%{x}<br>y=%{y}<extra></extra>",
         "legendgroup": "dopamine",
         "marker": {
          "color": "#EF553B",
          "symbol": "circle"
         },
         "mode": "markers",
         "name": "dopamine",
         "orientation": "v",
         "showlegend": true,
         "type": "scatter",
         "x": [
          1.4540740251541138,
          1.5943399667739868,
          1.4929488897323608,
          1.660452961921692,
          1.9143296480178833
         ],
         "xaxis": "x",
         "y": [
          0.6164308786392212,
          -0.17643104493618011,
          0.503713071346283,
          0.03474368900060654,
          0.6055876612663269
         ],
         "yaxis": "y"
        },
        {
         "hovertemplate": "color=gaba<br>x=%{x}<br>y=%{y}<extra></extra>",
         "legendgroup": "gaba",
         "marker": {
          "color": "#00cc96",
          "symbol": "circle"
         },
         "mode": "markers",
         "name": "gaba",
         "orientation": "v",
         "showlegend": true,
         "type": "scatter",
         "x": [
          2.473026990890503,
          2.0010509490966797,
          1.8871214389801025,
          2.093038558959961,
          2.1468958854675293
         ],
         "xaxis": "x",
         "y": [
          4.81184196472168,
          4.297032356262207,
          4.469605922698975,
          4.691641807556152,
          4.906554222106934
         ],
         "yaxis": "y"
        },
        {
         "hovertemplate": "color=glutamate<br>x=%{x}<br>y=%{y}<extra></extra>",
         "legendgroup": "glutamate",
         "marker": {
          "color": "#ab63fa",
          "symbol": "circle"
         },
         "mode": "markers",
         "name": "glutamate",
         "orientation": "v",
         "showlegend": true,
         "type": "scatter",
         "x": [
          0.7379221320152283,
          0.6884446144104004,
          0.4577382206916809,
          0.3399193286895752,
          0.8998750448226929
         ],
         "xaxis": "x",
         "y": [
          7.298520565032959,
          7.072534561157227,
          7.357738494873047,
          7.681349754333496,
          7.104389190673828
         ],
         "yaxis": "y"
        },
        {
         "hovertemplate": "color=octopamine<br>x=%{x}<br>y=%{y}<extra></extra>",
         "legendgroup": "octopamine",
         "marker": {
          "color": "#FFA15A",
          "symbol": "circle"
         },
         "mode": "markers",
         "name": "octopamine",
         "orientation": "v",
         "showlegend": true,
         "type": "scatter",
         "x": [
          -0.16632963716983795,
          -0.1604432761669159,
          0.12136553227901459,
          -0.45165348052978516,
          -0.3051004409790039
         ],
         "xaxis": "x",
         "y": [
          8.11392879486084,
          7.6938300132751465,
          8.36257266998291,
          7.994992256164551,
          7.96437406539917
         ],
         "yaxis": "y"
        },
        {
         "hovertemplate": "color=serotonin<br>x=%{x}<br>y=%{y}<extra></extra>",
         "legendgroup": "serotonin",
         "marker": {
          "color": "#19d3f3",
          "symbol": "circle"
         },
         "mode": "markers",
         "name": "serotonin",
         "orientation": "v",
         "showlegend": true,
         "type": "scatter",
         "x": [
          1.4128425121307373,
          0.7003337144851685,
          1.1646913290023804,
          0.9359103441238403,
          1.357613444328308
         ],
         "xaxis": "x",
         "y": [
          8.685956001281738,
          8.880913734436035,
          8.576903343200684,
          8.4310884475708,
          8.036735534667969
         ],
         "yaxis": "y"
        },
        {
         "hovertemplate": "color=new<br>x=%{x}<br>y=%{y}<extra></extra>",
         "legendgroup": "new",
         "marker": {
          "color": "#FF6692",
          "symbol": "circle"
         },
         "mode": "markers",
         "name": "new",
         "orientation": "v",
         "showlegend": true,
         "type": "scatter",
         "x": [
          -13.221894264221191,
          -14.681558609008789,
          -14.10398006439209,
          -10.124942779541016,
          20.52996063232422,
          20.764673233032227,
          -9.658079147338867,
          -11.203721046447754,
          7.495508670806885,
          -12.625985145568848,
          17.499086380004883,
          16.04259490966797,
          27.46286392211914,
          2.7640321254730225,
          20.122390747070312,
          20.945531845092773,
          21.253986358642578,
          7.050073623657227,
          -6.252107620239258,
          8.315023422241211,
          -18.764293670654297,
          16.789335250854492,
          27.266992568969727,
          0.009403693489730358,
          12.4580078125,
          21.874114990234375,
          22.739946365356445,
          4.055089950561523,
          7.839351654052734,
          -11.629670143127441,
          -12.796419143676758,
          -19.626319885253906,
          16.688766479492188,
          0.18001346290111542,
          0.983971893787384,
          32.70524978637695,
          4.768887996673584,
          7.8220624923706055,
          19.52946662902832,
          1.761631727218628,
          -13.055563926696777,
          30.278247833251953,
          -10.069886207580566,
          -10.941768646240234,
          1.7378287315368652,
          -0.5788406729698181,
          5.139625072479248,
          -1.174843668937683,
          2.7329585552215576,
          6.974749565124512,
          0.7044138312339783,
          29.917173385620117,
          13.698122024536133,
          -10.092462539672852,
          2.2909653186798096,
          -0.3951142430305481,
          4.154751300811768,
          -1.5609173774719238,
          12.689937591552734,
          14.181497573852539,
          0.5768404603004456,
          29.25489044189453,
          28.2584228515625,
          18.97989273071289,
          32.081321716308594,
          0.295427531003952,
          4.135240077972412,
          8.574993133544922,
          0.955080509185791,
          2.456474542617798,
          -11.846661567687988,
          -0.4658588767051697,
          17.234743118286133,
          18.171369552612305,
          -1.773176908493042,
          -1.9742857217788696,
          -0.17763559520244598,
          -6.723674297332764,
          9.625885009765625,
          0.2665684223175049,
          -24.578388214111328,
          -23.97528839111328,
          3.917548894882202,
          4.13262414932251,
          4.794379711151123,
          -1.4478824138641357,
          -0.30193188786506653,
          0.1413954198360443,
          9.910613059997559,
          9.96544075012207,
          6.97404670715332,
          -25.166099548339844,
          3.8538973331451416,
          3.8375253677368164,
          7.553879261016846,
          6.826231479644775,
          6.228784561157227,
          -17.808645248413086,
          -18.241003036499023,
          7.255128860473633,
          -12.681933403015137,
          -14.29707145690918,
          -14.812385559082031,
          -10.192035675048828,
          20.18280601501465,
          21.222543716430664,
          -10.308218955993652,
          -11.402931213378906,
          7.9696946144104,
          -12.80048656463623,
          16.991809844970703,
          16.29072380065918,
          27.011938095092773,
          2.442077159881592,
          19.564674377441406,
          21.0789794921875,
          20.855073928833008,
          7.301662445068359,
          -6.575921535491943,
          7.7723236083984375,
          -19.317747116088867,
          16.524545669555664,
          26.923368453979492,
          0.9596090912818909,
          12.813854217529297,
          21.83494758605957,
          22.469099044799805,
          4.948339939117432,
          8.281792640686035,
          -11.441073417663574,
          -13.206003189086914,
          -18.935569763183594,
          17.36376190185547,
          0.3428276479244232,
          0.8777791261672974,
          31.872577667236328,
          4.298928260803223,
          7.030652046203613,
          19.53707504272461,
          1.656191349029541,
          -13.363642692565918,
          30.555099487304688,
          -10.181209564208984,
          -10.976912498474121,
          1.562423825263977,
          -1.1291810274124146,
          4.755815505981445,
          -1.1661670207977295,
          3.1623194217681885,
          7.061176776885986,
          0.8356653451919556,
          29.850732803344727,
          13.686005592346191,
          -10.890480995178223,
          2.7025294303894043,
          -0.11034166067838669,
          5.003288269042969,
          -1.255873680114746,
          12.486157417297363,
          14.16926097869873,
          0.3006094694137573,
          28.738361358642578,
          28.326757431030273,
          18.70166015625,
          32.57319641113281,
          0.13027095794677734,
          4.349939823150635,
          8.66224479675293,
          1.1384844779968262,
          2.256396770477295,
          -11.924318313598633,
          -0.35711872577667236,
          17.53042984008789,
          18.101131439208984,
          -2.141507863998413,
          -2.2700600624084473,
          -0.39676347374916077,
          -6.239476203918457,
          9.74510669708252,
          0.8098506331443787,
          -24.508928298950195,
          -23.985166549682617,
          4.46693229675293,
          4.943223476409912,
          4.592330455780029,
          -1.3182038068771362,
          -0.27767014503479004,
          -0.019787415862083435,
          10.298928260803223,
          9.719799041748047,
          7.4828033447265625,
          -24.861312866210938,
          3.227170705795288,
          3.3000905513763428,
          7.556272983551025,
          6.888317108154297,
          6.3025617599487305,
          -18.103042602539062,
          -18.065427780151367,
          7.899965286254883,
          -13.071355819702148,
          -14.049050331115723,
          -14.900223731994629,
          -10.731910705566406,
          20.72480583190918,
          20.530263900756836,
          -9.982881546020508,
          -10.85114574432373,
          8.03139877319336,
          -13.243491172790527,
          17.40401840209961,
          16.014535903930664,
          27.652894973754883,
          3.136859178543091,
          19.95268440246582,
          21.093873977661133,
          20.533449172973633,
          7.028637886047363,
          -7.020677089691162,
          8.495504379272461,
          -18.99213409423828,
          17.097856521606445,
          26.716842651367188,
          0.49751561880111694,
          12.124748229980469,
          21.850461959838867,
          22.617368698120117,
          4.6519694328308105,
          8.260164260864258,
          -11.705779075622559,
          -12.62217903137207,
          -19.47936248779297,
          17.366561889648438,
          -0.017395440489053726,
          0.5067653656005859,
          32.150665283203125,
          5.109187126159668,
          8.116303443908691,
          19.330923080444336,
          1.7862287759780884,
          -13.378615379333496,
          30.663339614868164,
          -10.539274215698242,
          -10.538680076599121,
          1.6289091110229492,
          -1.3628966808319092,
          4.682810306549072,
          -1.7130060195922852,
          3.334134101867676,
          7.339510440826416,
          0.5537732243537903,
          29.55257797241211,
          13.261580467224121,
          -10.579116821289062,
          2.487107515335083,
          -0.6235756278038025,
          4.562080383300781,
          -1.0695289373397827,
          13.206039428710938,
          14.087484359741211,
          0.3041025996208191,
          28.953418731689453,
          28.189807891845703,
          18.648530960083008,
          32.255096435546875,
          0.0017693868139758706,
          4.794275760650635,
          8.40656852722168,
          1.412514328956604,
          2.5096168518066406,
          -11.599806785583496,
          -0.17466984689235687,
          17.243728637695312,
          17.964750289916992,
          -2.1333038806915283,
          -1.9680001735687256,
          -0.16320379078388214,
          -7.0254435539245605,
          9.376169204711914,
          0.27725040912628174,
          -24.365638732910156,
          -23.698896408081055,
          3.8762245178222656,
          4.67606782913208,
          4.504951000213623,
          -1.1970765590667725,
          -0.48173394799232483,
          0.29375144839286804,
          10.230226516723633,
          10.140265464782715,
          7.6499481201171875,
          -25.194353103637695,
          3.2480826377868652,
          3.9532968997955322,
          7.426000118255615,
          6.899192810058594,
          6.3738274574279785,
          -17.530500411987305,
          -17.43398666381836,
          8.009278297424316,
          -13.5076904296875,
          -14.234031677246094,
          -14.646815299987793,
          -10.35083293914795,
          20.377460479736328,
          20.951675415039062,
          -9.78493881225586,
          -11.198603630065918,
          7.670940399169922,
          -13.083480834960938,
          16.90582275390625,
          16.03070640563965,
          27.565692901611328,
          3.134270429611206,
          19.826828002929688,
          21.220754623413086,
          20.98855972290039,
          7.576026439666748,
          -6.731584072113037,
          8.052925109863281,
          -19.102495193481445,
          16.843891143798828,
          27.114439010620117,
          0.17558032274246216,
          12.489423751831055,
          22.141138076782227,
          22.57011604309082,
          4.418910503387451,
          7.8177289962768555,
          -12.079904556274414,
          -13.040740966796875,
          -19.36827278137207,
          17.031206130981445,
          0.6369117498397827,
          0.8211369514465332,
          32.56578826904297,
          4.67821741104126,
          7.388224124908447,
          19.271543502807617,
          1.501863718032837,
          -13.370885848999023,
          30.402374267578125,
          -10.391572952270508,
          -10.405707359313965,
          1.9254552125930786,
          -0.9331747889518738,
          4.567236423492432,
          -1.8157374858856201,
          3.0100691318511963,
          6.9393086433410645,
          1.0266106128692627,
          29.784502029418945,
          13.306899070739746,
          -9.883830070495605,
          2.556321859359741,
          -0.5199670791625977,
          4.95651388168335,
          -1.7856216430664062,
          12.658061981201172,
          13.901516914367676,
          0.09721764922142029,
          29.036375045776367,
          28.239402770996094,
          18.525739669799805,
          31.863637924194336,
          0.2201409786939621,
          4.205830097198486,
          8.585846900939941,
          1.0186814069747925,
          2.526418447494507,
          -12.229790687561035,
          -0.16976934671401978,
          17.357826232910156,
          17.84064292907715,
          -2.0760014057159424,
          -2.002934694290161,
          -0.5971564650535583,
          -6.789326190948486,
          9.400299072265625,
          0.48816171288490295,
          -24.413761138916016,
          -23.596458435058594,
          4.292485237121582,
          3.916252613067627,
          4.10038423538208,
          -1.4907159805297852,
          -0.4942120313644409,
          0.24600829184055328,
          10.16972827911377,
          10.345781326293945,
          7.137781143188477,
          -25.316225051879883,
          3.620649576187134,
          3.2744812965393066,
          7.266621112823486,
          6.872507095336914,
          6.152920722961426,
          -17.65046501159668,
          -17.356426239013672,
          7.423360824584961
         ],
         "xaxis": "x",
         "y": [
          -11.077667236328125,
          14.485526084899902,
          13.902673721313477,
          -3.230159044265747,
          12.67630672454834,
          11.35155963897705,
          -3.8188562393188477,
          -3.279144287109375,
          7.416201114654541,
          -10.482209205627441,
          -26.913372039794922,
          -26.16655731201172,
          1.8716316223144531,
          12.970099449157715,
          13.555179595947266,
          12.074172019958496,
          10.730317115783691,
          10.62598705291748,
          -17.06509017944336,
          7.63978910446167,
          -2.5008840560913086,
          -26.572906494140625,
          2.068836212158203,
          19.590782165527344,
          15.601888656616211,
          12.88900089263916,
          12.383097648620605,
          -2.065568685531616,
          9.347555160522461,
          -2.7093160152435303,
          -22.759126663208008,
          -2.3206064701080322,
          -25.49812126159668,
          19.316099166870117,
          19.90064811706543,
          -13.716084480285645,
          -1.6046863794326782,
          10.0984525680542,
          -13.791000366210938,
          12.700640678405762,
          -22.969200134277344,
          12.649189949035645,
          15.229146003723145,
          16.4498233795166,
          19.708202362060547,
          0.444686621427536,
          -0.9411380887031555,
          10.892369270324707,
          11.310057640075684,
          17.316030502319336,
          -6.31948184967041,
          13.634591102600098,
          14.44101333618164,
          16.0101375579834,
          19.123138427734375,
          -0.13098615407943726,
          -0.10654639452695847,
          10.490886688232422,
          14.560948371887207,
          13.93110466003418,
          -5.499887943267822,
          13.565113067626953,
          13.425924301147461,
          -13.47852897644043,
          -13.091922760009766,
          0.02670317515730858,
          0.3641124665737152,
          8.819450378417969,
          12.773035049438477,
          11.796113967895508,
          -2.0631167888641357,
          -5.982000350952148,
          -13.429777145385742,
          -13.10982894897461,
          4.407337188720703,
          5.178340911865234,
          5.943652629852295,
          -17.53655242919922,
          8.638510704040527,
          13.418838500976562,
          -13.245220184326172,
          -13.412976264953613,
          5.625982284545898,
          5.896275520324707,
          6.8663177490234375,
          4.842030048370361,
          5.161337375640869,
          5.249998092651367,
          9.079444885253906,
          7.61955451965332,
          17.44437026977539,
          -12.55606460571289,
          3.277492046356201,
          2.4302914142608643,
          31.006793975830078,
          31.735422134399414,
          32.33395767211914,
          0.7559799551963806,
          0.7222810387611389,
          18.1313533782959,
          -10.53810977935791,
          14.103538513183594,
          14.62172794342041,
          -3.547403335571289,
          12.60803508758545,
          11.133971214294434,
          -4.341116428375244,
          -3.3397717475891113,
          7.153862953186035,
          -10.65659236907959,
          -27.190025329589844,
          -25.535730361938477,
          2.3318755626678467,
          12.473864555358887,
          12.973186492919922,
          12.220802307128906,
          10.474501609802246,
          10.590892791748047,
          -17.388916015625,
          8.003274917602539,
          -2.601736307144165,
          -26.515134811401367,
          2.4108526706695557,
          19.095876693725586,
          15.434569358825684,
          12.694597244262695,
          12.888880729675293,
          -2.083181619644165,
          9.67917537689209,
          -2.3839926719665527,
          -22.037158966064453,
          -1.9529963731765747,
          -25.798044204711914,
          20.109960556030273,
          19.789457321166992,
          -12.883277893066406,
          -1.7356338500976562,
          9.686878204345703,
          -14.167887687683105,
          12.269584655761719,
          -22.70348358154297,
          12.694022178649902,
          15.226910591125488,
          16.33922004699707,
          19.34193229675293,
          0.307911217212677,
          -0.9298756122589111,
          10.120019912719727,
          12.066885948181152,
          16.915937423706055,
          -6.455412864685059,
          13.17833137512207,
          14.732806205749512,
          15.763071060180664,
          19.46512222290039,
          0.14962540566921234,
          0.03852696344256401,
          10.859087944030762,
          14.638296127319336,
          14.341922760009766,
          -6.394900798797607,
          12.961878776550293,
          13.953760147094727,
          -13.518913269042969,
          -13.584181785583496,
          -0.7360309362411499,
          0.4178372621536255,
          8.711756706237793,
          12.978936195373535,
          12.118426322937012,
          -1.8196845054626465,
          -5.660286903381348,
          -12.702363014221191,
          -13.356879234313965,
          4.623565673828125,
          5.441003322601318,
          6.344481468200684,
          -17.052427291870117,
          8.520581245422363,
          13.732032775878906,
          -13.254395484924316,
          -12.611486434936523,
          5.46445369720459,
          6.1662421226501465,
          6.766304969787598,
          5.317755222320557,
          5.658952713012695,
          4.506011962890625,
          8.737295150756836,
          7.529024600982666,
          17.202411651611328,
          -12.941935539245605,
          3.2937989234924316,
          2.707354784011841,
          31.00444984436035,
          31.67347526550293,
          32.259117126464844,
          0.13193973898887634,
          0.8889803290367126,
          17.908676147460938,
          -10.927247047424316,
          13.859203338623047,
          14.707191467285156,
          -3.9004623889923096,
          13.226274490356445,
          11.341523170471191,
          -4.116086959838867,
          -2.856656074523926,
          7.151251792907715,
          -11.099422454833984,
          -27.06588363647461,
          -26.20909881591797,
          1.6830990314483643,
          12.585549354553223,
          13.27001953125,
          12.204130172729492,
          10.422348022460938,
          10.30858039855957,
          -17.833465576171875,
          7.600742340087891,
          -2.6794605255126953,
          -26.241764068603516,
          2.6173572540283203,
          18.989444732666016,
          15.165754318237305,
          12.136991500854492,
          12.879061698913574,
          -2.594980239868164,
          9.553391456604004,
          -2.4438834190368652,
          -22.14397430419922,
          -2.4247679710388184,
          -25.584938049316406,
          19.638229370117188,
          19.4974308013916,
          -13.161468505859375,
          -1.8347362279891968,
          10.377488136291504,
          -14.315472602844238,
          12.970900535583496,
          -22.043376922607422,
          12.988512992858887,
          15.084980010986328,
          16.80522918701172,
          19.038272857666016,
          0.04097706079483032,
          -0.8559619784355164,
          10.972222328186035,
          11.644530296325684,
          16.769563674926758,
          -5.707555294036865,
          12.855287551879883,
          14.179718017578125,
          16.13018035888672,
          19.375268936157227,
          -0.519812285900116,
          -0.09401018917560577,
          10.958850860595703,
          15.025480270385742,
          14.048911094665527,
          -5.854691505432129,
          13.722046852111816,
          13.250330924987793,
          -14.27857494354248,
          -13.26560115814209,
          -0.6570010185241699,
          0.6113911867141724,
          8.58884048461914,
          13.49988842010498,
          12.44320297241211,
          -1.6882246732711792,
          -5.97054386138916,
          -13.084650039672852,
          -13.530442237854004,
          4.548399448394775,
          5.843686103820801,
          6.059061527252197,
          -17.838401794433594,
          8.266024589538574,
          13.329472541809082,
          -12.443684577941895,
          -13.051606178283691,
          5.621079921722412,
          6.088274955749512,
          6.561299800872803,
          5.162181377410889,
          5.479222774505615,
          4.730197906494141,
          8.505902290344238,
          7.732820987701416,
          17.324647903442383,
          -12.716349601745605,
          2.948519229888916,
          2.81278920173645,
          31.133974075317383,
          31.66362190246582,
          32.18842697143555,
          0.459261953830719,
          1.090533971786499,
          17.977617263793945,
          -11.363422393798828,
          14.036088943481445,
          14.445516586303711,
          -3.3562185764312744,
          12.773123741149902,
          11.229262351989746,
          -4.1156392097473145,
          -3.42084002494812,
          7.0240983963012695,
          -10.93978214263916,
          -27.324913024902344,
          -25.89788246154785,
          1.767772912979126,
          12.73946762084961,
          13.388028144836426,
          12.09221076965332,
          10.377367973327637,
          10.822694778442383,
          -17.544540405273438,
          7.988003730773926,
          -2.0857367515563965,
          -26.228443145751953,
          2.2197680473327637,
          19.9503116607666,
          15.45190143585205,
          12.088743209838867,
          12.643539428710938,
          -2.3457207679748535,
          9.392864227294922,
          -2.6774020195007324,
          -22.501676559448242,
          -1.7989286184310913,
          -25.66059684753418,
          18.86803436279297,
          19.97270393371582,
          -13.576302528381348,
          -1.6617318391799927,
          9.970766067504883,
          -13.909810066223145,
          12.205917358398438,
          -22.233165740966797,
          12.900071144104004,
          15.155694007873535,
          16.51226043701172,
          20.078289031982422,
          0.49731549620628357,
          -0.8487292528152466,
          10.312936782836914,
          11.495375633239746,
          16.555770874023438,
          -6.156872272491455,
          13.190715789794922,
          13.984573364257812,
          15.939336776733398,
          19.504533767700195,
          -0.07892747223377228,
          0.004273546859622002,
          10.543245315551758,
          14.653058052062988,
          13.728029251098633,
          -6.512295246124268,
          13.645973205566406,
          13.11184024810791,
          -14.096351623535156,
          -12.875289916992188,
          -0.9257195591926575,
          0.5940027236938477,
          8.421394348144531,
          13.13116455078125,
          11.961565017700195,
          -1.8516302108764648,
          -5.574835777282715,
          -13.33668327331543,
          -13.806327819824219,
          4.901644229888916,
          5.7722272872924805,
          6.077913284301758,
          -17.602170944213867,
          8.160057067871094,
          13.518166542053223,
          -13.477721214294434,
          -13.157498359680176,
          5.360686779022217,
          6.265443325042725,
          6.888069152832031,
          5.526177406311035,
          5.020866870880127,
          4.768082141876221,
          9.059244155883789,
          7.905670642852783,
          17.730133056640625,
          -13.143977165222168,
          3.2029240131378174,
          2.670611619949341,
          31.291658401489258,
          31.688142776489258,
          32.41550064086914,
          0.3016987442970276,
          0.10454820096492767,
          18.103483200073242
         ],
         "yaxis": "y"
        }
       ],
       "layout": {
        "height": 666,
        "legend": {
         "title": {
          "text": "color"
         },
         "tracegroupgap": 0
        },
        "template": {
         "data": {
          "bar": [
           {
            "error_x": {
             "color": "#2a3f5f"
            },
            "error_y": {
             "color": "#2a3f5f"
            },
            "marker": {
             "line": {
              "color": "#E5ECF6",
              "width": 0.5
             },
             "pattern": {
              "fillmode": "overlay",
              "size": 10,
              "solidity": 0.2
             }
            },
            "type": "bar"
           }
          ],
          "barpolar": [
           {
            "marker": {
             "line": {
              "color": "#E5ECF6",
              "width": 0.5
             },
             "pattern": {
              "fillmode": "overlay",
              "size": 10,
              "solidity": 0.2
             }
            },
            "type": "barpolar"
           }
          ],
          "carpet": [
           {
            "aaxis": {
             "endlinecolor": "#2a3f5f",
             "gridcolor": "white",
             "linecolor": "white",
             "minorgridcolor": "white",
             "startlinecolor": "#2a3f5f"
            },
            "baxis": {
             "endlinecolor": "#2a3f5f",
             "gridcolor": "white",
             "linecolor": "white",
             "minorgridcolor": "white",
             "startlinecolor": "#2a3f5f"
            },
            "type": "carpet"
           }
          ],
          "choropleth": [
           {
            "colorbar": {
             "outlinewidth": 0,
             "ticks": ""
            },
            "type": "choropleth"
           }
          ],
          "contour": [
           {
            "colorbar": {
             "outlinewidth": 0,
             "ticks": ""
            },
            "colorscale": [
             [
              0,
              "#0d0887"
             ],
             [
              0.1111111111111111,
              "#46039f"
             ],
             [
              0.2222222222222222,
              "#7201a8"
             ],
             [
              0.3333333333333333,
              "#9c179e"
             ],
             [
              0.4444444444444444,
              "#bd3786"
             ],
             [
              0.5555555555555556,
              "#d8576b"
             ],
             [
              0.6666666666666666,
              "#ed7953"
             ],
             [
              0.7777777777777778,
              "#fb9f3a"
             ],
             [
              0.8888888888888888,
              "#fdca26"
             ],
             [
              1,
              "#f0f921"
             ]
            ],
            "type": "contour"
           }
          ],
          "contourcarpet": [
           {
            "colorbar": {
             "outlinewidth": 0,
             "ticks": ""
            },
            "type": "contourcarpet"
           }
          ],
          "heatmap": [
           {
            "colorbar": {
             "outlinewidth": 0,
             "ticks": ""
            },
            "colorscale": [
             [
              0,
              "#0d0887"
             ],
             [
              0.1111111111111111,
              "#46039f"
             ],
             [
              0.2222222222222222,
              "#7201a8"
             ],
             [
              0.3333333333333333,
              "#9c179e"
             ],
             [
              0.4444444444444444,
              "#bd3786"
             ],
             [
              0.5555555555555556,
              "#d8576b"
             ],
             [
              0.6666666666666666,
              "#ed7953"
             ],
             [
              0.7777777777777778,
              "#fb9f3a"
             ],
             [
              0.8888888888888888,
              "#fdca26"
             ],
             [
              1,
              "#f0f921"
             ]
            ],
            "type": "heatmap"
           }
          ],
          "heatmapgl": [
           {
            "colorbar": {
             "outlinewidth": 0,
             "ticks": ""
            },
            "colorscale": [
             [
              0,
              "#0d0887"
             ],
             [
              0.1111111111111111,
              "#46039f"
             ],
             [
              0.2222222222222222,
              "#7201a8"
             ],
             [
              0.3333333333333333,
              "#9c179e"
             ],
             [
              0.4444444444444444,
              "#bd3786"
             ],
             [
              0.5555555555555556,
              "#d8576b"
             ],
             [
              0.6666666666666666,
              "#ed7953"
             ],
             [
              0.7777777777777778,
              "#fb9f3a"
             ],
             [
              0.8888888888888888,
              "#fdca26"
             ],
             [
              1,
              "#f0f921"
             ]
            ],
            "type": "heatmapgl"
           }
          ],
          "histogram": [
           {
            "marker": {
             "pattern": {
              "fillmode": "overlay",
              "size": 10,
              "solidity": 0.2
             }
            },
            "type": "histogram"
           }
          ],
          "histogram2d": [
           {
            "colorbar": {
             "outlinewidth": 0,
             "ticks": ""
            },
            "colorscale": [
             [
              0,
              "#0d0887"
             ],
             [
              0.1111111111111111,
              "#46039f"
             ],
             [
              0.2222222222222222,
              "#7201a8"
             ],
             [
              0.3333333333333333,
              "#9c179e"
             ],
             [
              0.4444444444444444,
              "#bd3786"
             ],
             [
              0.5555555555555556,
              "#d8576b"
             ],
             [
              0.6666666666666666,
              "#ed7953"
             ],
             [
              0.7777777777777778,
              "#fb9f3a"
             ],
             [
              0.8888888888888888,
              "#fdca26"
             ],
             [
              1,
              "#f0f921"
             ]
            ],
            "type": "histogram2d"
           }
          ],
          "histogram2dcontour": [
           {
            "colorbar": {
             "outlinewidth": 0,
             "ticks": ""
            },
            "colorscale": [
             [
              0,
              "#0d0887"
             ],
             [
              0.1111111111111111,
              "#46039f"
             ],
             [
              0.2222222222222222,
              "#7201a8"
             ],
             [
              0.3333333333333333,
              "#9c179e"
             ],
             [
              0.4444444444444444,
              "#bd3786"
             ],
             [
              0.5555555555555556,
              "#d8576b"
             ],
             [
              0.6666666666666666,
              "#ed7953"
             ],
             [
              0.7777777777777778,
              "#fb9f3a"
             ],
             [
              0.8888888888888888,
              "#fdca26"
             ],
             [
              1,
              "#f0f921"
             ]
            ],
            "type": "histogram2dcontour"
           }
          ],
          "mesh3d": [
           {
            "colorbar": {
             "outlinewidth": 0,
             "ticks": ""
            },
            "type": "mesh3d"
           }
          ],
          "parcoords": [
           {
            "line": {
             "colorbar": {
              "outlinewidth": 0,
              "ticks": ""
             }
            },
            "type": "parcoords"
           }
          ],
          "pie": [
           {
            "automargin": true,
            "type": "pie"
           }
          ],
          "scatter": [
           {
            "fillpattern": {
             "fillmode": "overlay",
             "size": 10,
             "solidity": 0.2
            },
            "type": "scatter"
           }
          ],
          "scatter3d": [
           {
            "line": {
             "colorbar": {
              "outlinewidth": 0,
              "ticks": ""
             }
            },
            "marker": {
             "colorbar": {
              "outlinewidth": 0,
              "ticks": ""
             }
            },
            "type": "scatter3d"
           }
          ],
          "scattercarpet": [
           {
            "marker": {
             "colorbar": {
              "outlinewidth": 0,
              "ticks": ""
             }
            },
            "type": "scattercarpet"
           }
          ],
          "scattergeo": [
           {
            "marker": {
             "colorbar": {
              "outlinewidth": 0,
              "ticks": ""
             }
            },
            "type": "scattergeo"
           }
          ],
          "scattergl": [
           {
            "marker": {
             "colorbar": {
              "outlinewidth": 0,
              "ticks": ""
             }
            },
            "type": "scattergl"
           }
          ],
          "scattermapbox": [
           {
            "marker": {
             "colorbar": {
              "outlinewidth": 0,
              "ticks": ""
             }
            },
            "type": "scattermapbox"
           }
          ],
          "scatterpolar": [
           {
            "marker": {
             "colorbar": {
              "outlinewidth": 0,
              "ticks": ""
             }
            },
            "type": "scatterpolar"
           }
          ],
          "scatterpolargl": [
           {
            "marker": {
             "colorbar": {
              "outlinewidth": 0,
              "ticks": ""
             }
            },
            "type": "scatterpolargl"
           }
          ],
          "scatterternary": [
           {
            "marker": {
             "colorbar": {
              "outlinewidth": 0,
              "ticks": ""
             }
            },
            "type": "scatterternary"
           }
          ],
          "surface": [
           {
            "colorbar": {
             "outlinewidth": 0,
             "ticks": ""
            },
            "colorscale": [
             [
              0,
              "#0d0887"
             ],
             [
              0.1111111111111111,
              "#46039f"
             ],
             [
              0.2222222222222222,
              "#7201a8"
             ],
             [
              0.3333333333333333,
              "#9c179e"
             ],
             [
              0.4444444444444444,
              "#bd3786"
             ],
             [
              0.5555555555555556,
              "#d8576b"
             ],
             [
              0.6666666666666666,
              "#ed7953"
             ],
             [
              0.7777777777777778,
              "#fb9f3a"
             ],
             [
              0.8888888888888888,
              "#fdca26"
             ],
             [
              1,
              "#f0f921"
             ]
            ],
            "type": "surface"
           }
          ],
          "table": [
           {
            "cells": {
             "fill": {
              "color": "#EBF0F8"
             },
             "line": {
              "color": "white"
             }
            },
            "header": {
             "fill": {
              "color": "#C8D4E3"
             },
             "line": {
              "color": "white"
             }
            },
            "type": "table"
           }
          ]
         },
         "layout": {
          "annotationdefaults": {
           "arrowcolor": "#2a3f5f",
           "arrowhead": 0,
           "arrowwidth": 1
          },
          "autotypenumbers": "strict",
          "coloraxis": {
           "colorbar": {
            "outlinewidth": 0,
            "ticks": ""
           }
          },
          "colorscale": {
           "diverging": [
            [
             0,
             "#8e0152"
            ],
            [
             0.1,
             "#c51b7d"
            ],
            [
             0.2,
             "#de77ae"
            ],
            [
             0.3,
             "#f1b6da"
            ],
            [
             0.4,
             "#fde0ef"
            ],
            [
             0.5,
             "#f7f7f7"
            ],
            [
             0.6,
             "#e6f5d0"
            ],
            [
             0.7,
             "#b8e186"
            ],
            [
             0.8,
             "#7fbc41"
            ],
            [
             0.9,
             "#4d9221"
            ],
            [
             1,
             "#276419"
            ]
           ],
           "sequential": [
            [
             0,
             "#0d0887"
            ],
            [
             0.1111111111111111,
             "#46039f"
            ],
            [
             0.2222222222222222,
             "#7201a8"
            ],
            [
             0.3333333333333333,
             "#9c179e"
            ],
            [
             0.4444444444444444,
             "#bd3786"
            ],
            [
             0.5555555555555556,
             "#d8576b"
            ],
            [
             0.6666666666666666,
             "#ed7953"
            ],
            [
             0.7777777777777778,
             "#fb9f3a"
            ],
            [
             0.8888888888888888,
             "#fdca26"
            ],
            [
             1,
             "#f0f921"
            ]
           ],
           "sequentialminus": [
            [
             0,
             "#0d0887"
            ],
            [
             0.1111111111111111,
             "#46039f"
            ],
            [
             0.2222222222222222,
             "#7201a8"
            ],
            [
             0.3333333333333333,
             "#9c179e"
            ],
            [
             0.4444444444444444,
             "#bd3786"
            ],
            [
             0.5555555555555556,
             "#d8576b"
            ],
            [
             0.6666666666666666,
             "#ed7953"
            ],
            [
             0.7777777777777778,
             "#fb9f3a"
            ],
            [
             0.8888888888888888,
             "#fdca26"
            ],
            [
             1,
             "#f0f921"
            ]
           ]
          },
          "colorway": [
           "#636efa",
           "#EF553B",
           "#00cc96",
           "#ab63fa",
           "#FFA15A",
           "#19d3f3",
           "#FF6692",
           "#B6E880",
           "#FF97FF",
           "#FECB52"
          ],
          "font": {
           "color": "#2a3f5f"
          },
          "geo": {
           "bgcolor": "white",
           "lakecolor": "white",
           "landcolor": "#E5ECF6",
           "showlakes": true,
           "showland": true,
           "subunitcolor": "white"
          },
          "hoverlabel": {
           "align": "left"
          },
          "hovermode": "closest",
          "mapbox": {
           "style": "light"
          },
          "paper_bgcolor": "white",
          "plot_bgcolor": "#E5ECF6",
          "polar": {
           "angularaxis": {
            "gridcolor": "white",
            "linecolor": "white",
            "ticks": ""
           },
           "bgcolor": "#E5ECF6",
           "radialaxis": {
            "gridcolor": "white",
            "linecolor": "white",
            "ticks": ""
           }
          },
          "scene": {
           "xaxis": {
            "backgroundcolor": "#E5ECF6",
            "gridcolor": "white",
            "gridwidth": 2,
            "linecolor": "white",
            "showbackground": true,
            "ticks": "",
            "zerolinecolor": "white"
           },
           "yaxis": {
            "backgroundcolor": "#E5ECF6",
            "gridcolor": "white",
            "gridwidth": 2,
            "linecolor": "white",
            "showbackground": true,
            "ticks": "",
            "zerolinecolor": "white"
           },
           "zaxis": {
            "backgroundcolor": "#E5ECF6",
            "gridcolor": "white",
            "gridwidth": 2,
            "linecolor": "white",
            "showbackground": true,
            "ticks": "",
            "zerolinecolor": "white"
           }
          },
          "shapedefaults": {
           "line": {
            "color": "#2a3f5f"
           }
          },
          "ternary": {
           "aaxis": {
            "gridcolor": "white",
            "linecolor": "white",
            "ticks": ""
           },
           "baxis": {
            "gridcolor": "white",
            "linecolor": "white",
            "ticks": ""
           },
           "bgcolor": "#E5ECF6",
           "caxis": {
            "gridcolor": "white",
            "linecolor": "white",
            "ticks": ""
           }
          },
          "title": {
           "x": 0.05
          },
          "xaxis": {
           "automargin": true,
           "gridcolor": "white",
           "linecolor": "white",
           "ticks": "",
           "title": {
            "standoff": 15
           },
           "zerolinecolor": "white",
           "zerolinewidth": 2
          },
          "yaxis": {
           "automargin": true,
           "gridcolor": "white",
           "linecolor": "white",
           "ticks": "",
           "title": {
            "standoff": 15
           },
           "zerolinecolor": "white",
           "zerolinewidth": 2
          }
         }
        },
        "title": {
         "text": "PCA=False (100) - UMAP (n_neighbors=30, min_dist=1, n_components=2, metric=cosine)"
        },
        "width": 1000,
        "xaxis": {
         "anchor": "y",
         "domain": [
          0,
          1
         ],
         "title": {
          "text": "x"
         }
        },
        "yaxis": {
         "anchor": "x",
         "domain": [
          0,
          1
         ],
         "title": {
          "text": "y"
         }
        }
       }
      }
     },
     "metadata": {},
     "output_type": "display_data"
    }
   ],
   "source": [
    "diplay_features(\n",
    "        latents,\n",
    "        labs,\n",
    "        include_pca=False,\n",
    "        pca_nb_components=100,\n",
    "        clustering=False,\n",
    "        nb_clusters=6,\n",
    "        nb_neighbor=30,\n",
    "        min_dist=1,\n",
    "        nb_components=2,\n",
    "        metric='cosine'\n",
    "    )"
   ]
  },
  {
   "cell_type": "code",
   "execution_count": 81,
   "metadata": {},
   "outputs": [
    {
     "data": {
      "image/png": "[encoded data removed]",
      "text/plain": [
       "<Figure size 4500x1500 with 2 Axes>"
      ]
     },
     "metadata": {},
     "output_type": "display_data"
    }
   ],
   "source": [
    "test_similarity_matrix = euclidean_distances(mean_ref, new_img_embs)\n",
    "test_similarity_matrix_normalized = (test_similarity_matrix - np.min(test_similarity_matrix)) / (np.max(test_similarity_matrix) - np.min(test_similarity_matrix))\n",
    "plt.figure(figsize=(15,5),dpi=300)\n",
    "sns.heatmap(test_similarity_matrix_normalized, yticklabels=mean_labs, cmap='Reds')\n",
    "plt.title(f'Distance matrix New image - References - {model_size} DINOv2 - Data augmentation: {data_aug}')\n",
    "plt.xlabel('Image patches')\n",
    "plt.ylabel('Reference embeddings')\n",
    "plt.show()"
   ]
  },
  {
   "cell_type": "markdown",
   "metadata": {},
   "source": [
    "# Loading data embeddings"
   ]
  },
  {
   "cell_type": "code",
   "execution_count": 82,
   "metadata": {},
   "outputs": [],
   "source": [
    "one_hot_neurotransmitters = np.zeros((len(neurotransmitters),len(neurotransmitters))) + np.identity(len(neurotransmitters))\n",
    "emb_labels = np.hstack([[labels[i+1]]*240000 for i in range(0, 3600, 600)]).reshape(-1,1)"
   ]
  },
  {
   "cell_type": "code",
   "execution_count": 83,
   "metadata": {},
   "outputs": [],
   "source": [
    "embeddings_saved = True\n",
    "\n",
    "if embeddings_saved:\n",
    "        new_embeddings = torch.load('/home/tomwelch/Cambridge/Datasets/g_embs_140_140.pt')\n",
    "\n",
    "else:\n",
    "        \n",
    "        images = np.array([load_image(file)[0] for file in tqdm(files, desc='Loading images')]).transpose(0,2,3,1)\n",
    "\n",
    "        few_shot.pre_compute_embeddings(\n",
    "                images,  # Pass numpy array of images\n",
    "                overlap=(0.5, 0.5),\n",
    "                padding=(0, 0),\n",
    "                crop_shape=(140, 140, 1),\n",
    "                verbose=True,\n",
    "                batch_size=60\n",
    "                )\n",
    "        new_embeddings = few_shot.get_embs().reshape(-1, feat_dim)\n",
    "\n",
    "        torch.save(new_embeddings, os.path.join(dataset_path, 'g_embs_140_140.pt'))"
   ]
  },
  {
   "cell_type": "markdown",
   "metadata": {},
   "source": [
    "# Results"
   ]
  },
  {
   "cell_type": "code",
   "execution_count": 87,
   "metadata": {},
   "outputs": [],
   "source": [
    "def results(reference_embeddings = mean_ref, \n",
    "            test_embeddings = new_embeddings,\n",
    "            metric = euclidean_distances,\n",
    "            model_size = model_size,\n",
    "            distance_threshold = 0.2,\n",
    "            data_aug = True,\n",
    "            Cross_Entropy_Loss = False,\n",
    "            MSE_Loss = False):\n",
    "\n",
    "    score_lists = [[],[],[],[],[],[]]\n",
    "\n",
    "    similarity_matrix = metric(reference_embeddings, test_embeddings)\n",
    "    similarity_matrix_normalized = (similarity_matrix - np.min(similarity_matrix)) / (np.max(similarity_matrix) - np.min(similarity_matrix))\n",
    "\n",
    "    similarity_matrix_normalized_filtered = np.where(similarity_matrix_normalized <= distance_threshold, similarity_matrix_normalized, 0)\n",
    "\n",
    "    for i, label in tqdm(enumerate(emb_labels)):\n",
    "\n",
    "        column = similarity_matrix_normalized_filtered[:,i]\n",
    "\n",
    "        if sum(column) == 0:\n",
    "            pass\n",
    "        else:\n",
    "            if Cross_Entropy_Loss:\n",
    "                pass \n",
    "            elif MSE_Loss:\n",
    "                pass \n",
    "            else: \n",
    "                patch_wise_distances_filtered = np.where(column == 0, 1, column)\n",
    "\n",
    "                output_class = one_hot_neurotransmitters[np.argmin(patch_wise_distances_filtered)]\n",
    "\n",
    "                gt_index = neurotransmitters.index(label)\n",
    "                ground_truth = one_hot_neurotransmitters[gt_index]\n",
    "                score = np.sum(output_class*ground_truth)\n",
    "                score_lists[gt_index].append(score)\n",
    "\n",
    "    accuracies = [np.mean(scores)*100 for scores in score_lists]\n",
    "\n",
    "    plt.figure(figsize=(12,7), dpi=300)\n",
    "    plt.bar(neurotransmitters, accuracies)\n",
    "    plt.xlabel('Classes')\n",
    "    plt.ylabel('Mean hard accuracy')\n",
    "    plt.title(f'Mean hard accuracies across classes - {model_size} DINOv2 - 140x140 images - Threshold = {distance_threshold} - Data augmentation: {data_aug}')\n",
    "    plt.axhline(np.mean(accuracies), color='r', linestyle='--', label='Average')\n",
    "    plt.axhline(y=(100/6), color='b', linestyle='--', label='Randomness')\n",
    "    plt.legend()\n",
    "    ax = plt.gca()\n",
    "    ax.set_ylim([0,110])\n",
    "    plt.show()\n",
    "    \n",
    "    return np.mean(accuracies)"
   ]
  },
  {
   "cell_type": "code",
   "execution_count": 88,
   "metadata": {},
   "outputs": [
    {
     "name": "stderr",
     "output_type": "stream",
     "text": [
      "1440000it [00:05, 277021.26it/s]\n",
      "/home/tomwelch/anaconda3/lib/python3.12/site-packages/numpy/core/fromnumeric.py:3504: RuntimeWarning:\n",
      "\n",
      "Mean of empty slice.\n",
      "\n",
      "/home/tomwelch/anaconda3/lib/python3.12/site-packages/numpy/core/_methods.py:129: RuntimeWarning:\n",
      "\n",
      "invalid value encountered in scalar divide\n",
      "\n"
     ]
    },
    {
     "data": {
      "image/png": "[encoded data removed]",
      "text/plain": [
       "<Figure size 3600x2100 with 1 Axes>"
      ]
     },
     "metadata": {},
     "output_type": "display_data"
    },
    {
     "data": {
      "text/plain": [
       "nan"
      ]
     },
     "execution_count": 88,
     "metadata": {},
     "output_type": "execute_result"
    }
   ],
   "source": [
    "results()"
   ]
  },
  {
   "cell_type": "markdown",
   "metadata": {},
   "source": [
    "# Results analysis"
   ]
  },
  {
   "cell_type": "code",
   "execution_count": 86,
   "metadata": {},
   "outputs": [
    {
     "name": "stderr",
     "output_type": "stream",
     "text": [
      "  0%|          | 0/39 [00:00<?, ?it/s]/home/tomwelch/anaconda3/lib/python3.12/site-packages/numpy/core/fromnumeric.py:3504: RuntimeWarning:\n",
      "\n",
      "Mean of empty slice.\n",
      "\n",
      "/home/tomwelch/anaconda3/lib/python3.12/site-packages/numpy/core/_methods.py:129: RuntimeWarning:\n",
      "\n",
      "invalid value encountered in scalar divide\n",
      "\n",
      " 18%|█▊        | 7/39 [00:39<03:02,  5.70s/it]\n"
     ]
    },
    {
     "ename": "KeyboardInterrupt",
     "evalue": "",
     "output_type": "error",
     "traceback": [
      "\u001b[0;31m---------------------------------------------------------------------------\u001b[0m",
      "\u001b[0;31mKeyboardInterrupt\u001b[0m                         Traceback (most recent call last)",
      "\u001b[1;32m/home/tomwelch/Cambridge/Code/DINOPsd/src/napari_dinosim/personalized_pipeline/Exploration.ipynb Cell 22\u001b[0m line \u001b[0;36m1\n\u001b[1;32m     <a href='vscode-notebook-cell:/home/tomwelch/Cambridge/Code/DINOPsd/src/napari_dinosim/personalized_pipeline/Exploration.ipynb#X31sZmlsZQ%3D%3D?line=12'>13</a>\u001b[0m \u001b[39mfor\u001b[39;00m i, label \u001b[39min\u001b[39;00m \u001b[39menumerate\u001b[39m(emb_labels):\n\u001b[1;32m     <a href='vscode-notebook-cell:/home/tomwelch/Cambridge/Code/DINOPsd/src/napari_dinosim/personalized_pipeline/Exploration.ipynb#X31sZmlsZQ%3D%3D?line=14'>15</a>\u001b[0m     column \u001b[39m=\u001b[39m similarity_matrix_normalized_filtered[:,i]\n\u001b[0;32m---> <a href='vscode-notebook-cell:/home/tomwelch/Cambridge/Code/DINOPsd/src/napari_dinosim/personalized_pipeline/Exploration.ipynb#X31sZmlsZQ%3D%3D?line=16'>17</a>\u001b[0m     \u001b[39mif\u001b[39;00m \u001b[39msum\u001b[39m(column) \u001b[39m==\u001b[39m \u001b[39m0\u001b[39m:\n\u001b[1;32m     <a href='vscode-notebook-cell:/home/tomwelch/Cambridge/Code/DINOPsd/src/napari_dinosim/personalized_pipeline/Exploration.ipynb#X31sZmlsZQ%3D%3D?line=17'>18</a>\u001b[0m         \u001b[39mpass\u001b[39;00m\n\u001b[1;32m     <a href='vscode-notebook-cell:/home/tomwelch/Cambridge/Code/DINOPsd/src/napari_dinosim/personalized_pipeline/Exploration.ipynb#X31sZmlsZQ%3D%3D?line=18'>19</a>\u001b[0m     \u001b[39melse\u001b[39;00m:\n",
      "\u001b[0;31mKeyboardInterrupt\u001b[0m: "
     ]
    }
   ],
   "source": [
    "score_lists = [[],[],[],[],[],[]]\n",
    "mean_accuracies_list, included_list = [], []\n",
    "\n",
    "similarity_matrix = euclidean_distances(mean_ref, new_embeddings)\n",
    "similarity_matrix_normalized = (similarity_matrix - np.min(similarity_matrix)) / (np.max(similarity_matrix) - np.min(similarity_matrix))\n",
    "\n",
    "for distance_threshold in tqdm(np.arange(0.05, 1.025, 0.025)): \n",
    "\n",
    "    similarity_matrix_normalized_filtered = np.where(similarity_matrix_normalized <= distance_threshold, similarity_matrix_normalized, 0)\n",
    "    \n",
    "    included_list.append(len(np.where(similarity_matrix_normalized_filtered !=0)[0]))\n",
    "\n",
    "    for i, label in enumerate(emb_labels):\n",
    "\n",
    "        column = similarity_matrix_normalized_filtered[:,i]\n",
    "\n",
    "        if sum(column) == 0:\n",
    "            pass\n",
    "        else:\n",
    "            patch_wise_distances_filtered = np.where(column == 0, 1, column)\n",
    "\n",
    "            output_class = one_hot_neurotransmitters[np.argmin(patch_wise_distances_filtered)]\n",
    "\n",
    "            gt_index = neurotransmitters.index(label)\n",
    "            ground_truth = one_hot_neurotransmitters[gt_index]\n",
    "            score = np.sum(output_class*ground_truth)\n",
    "            score_lists[gt_index].append(score)\n",
    "\n",
    "    mean_accuracies_list.append(np.mean([np.mean(scores)*100 for scores in score_lists]))\n",
    "    \n",
    "included_list = [inclusion/(400*len(files)) for inclusion in included_list]"
   ]
  },
  {
   "cell_type": "code",
   "execution_count": null,
   "metadata": {},
   "outputs": [
    {
     "data": {
      "image/png": "[encoded data removed]",
      "text/plain": [
       "<Figure size 1200x700 with 1 Axes>"
      ]
     },
     "metadata": {},
     "output_type": "display_data"
    }
   ],
   "source": [
    "plt.figure(figsize=(12,7), dpi=100)\n",
    "plt.plot([i for i in np.arange(0.05, 1.025, 0.025)], mean_accuracies_list)\n",
    "plt.xlabel('Thresholds')\n",
    "plt.ylabel('Mean hard accuracy')\n",
    "plt.title(f'Mean hard accuracies per distance threshold - {model_size} DINOv2 - 140x140 images - Data augmentation: {data_aug}')\n",
    "ax = plt.gca()\n",
    "ax.set_ylim([0,110])\n",
    "plt.show()"
   ]
  },
  {
   "cell_type": "code",
   "execution_count": null,
   "metadata": {},
   "outputs": [
    {
     "data": {
      "image/png": "[encoded data removed]",
      "text/plain": [
       "<Figure size 1200x700 with 1 Axes>"
      ]
     },
     "metadata": {},
     "output_type": "display_data"
    }
   ],
   "source": [
    "plt.figure(figsize=(12,7), dpi=100)\n",
    "plt.plot([i for i in np.arange(0.05, 1.025, 0.025)], included_list)\n",
    "plt.xlabel('Thresholds')\n",
    "plt.ylabel('Percentage included')\n",
    "plt.title(f'Percentage of patches included per distance threshold - {model_size} DINOv2 - 140x140 images - Data augmentation: {data_aug}')\n",
    "ax = plt.gca()\n",
    "#ax.set_ylim([0,110])\n",
    "plt.show()"
   ]
  }
 ],
 "metadata": {
  "kernelspec": {
   "display_name": "base",
   "language": "python",
   "name": "python3"
  },
  "language_info": {
   "codemirror_mode": {
    "name": "ipython",
    "version": 3
   },
   "file_extension": ".py",
   "mimetype": "text/x-python",
   "name": "python",
   "nbconvert_exporter": "python",
   "pygments_lexer": "ipython3",
   "version": "3.12.2"
  }
 },
 "nbformat": 4,
 "nbformat_minor": 2
}
