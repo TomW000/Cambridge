{
 "cells": [
  {
   "cell_type": "markdown",
   "metadata": {},
   "source": [
    "# Compute reference embeddings"
   ]
  },
  {
   "cell_type": "code",
   "execution_count": 1,
   "metadata": {},
   "outputs": [
    {
     "name": "stdout",
     "output_type": "stream",
     "text": [
      "Device: cpu\n"
     ]
    },
    {
     "name": "stderr",
     "output_type": "stream",
     "text": [
      "Using cache found in /home/tomwelch/.cache/torch/hub/facebookresearch_dinov2_main\n",
      "/home/tomwelch/.cache/torch/hub/facebookresearch_dinov2_main/dinov2/layers/swiglu_ffn.py:51: UserWarning: xFormers is not available (SwiGLU)\n",
      "  warnings.warn(\"xFormers is not available (SwiGLU)\")\n",
      "/home/tomwelch/.cache/torch/hub/facebookresearch_dinov2_main/dinov2/layers/attention.py:33: UserWarning: xFormers is not available (Attention)\n",
      "  warnings.warn(\"xFormers is not available (Attention)\")\n",
      "/home/tomwelch/.cache/torch/hub/facebookresearch_dinov2_main/dinov2/layers/block.py:40: UserWarning: xFormers is not available (Block)\n",
      "  warnings.warn(\"xFormers is not available (Block)\")\n"
     ]
    },
    {
     "name": "stdout",
     "output_type": "stream",
     "text": [
      "Model loaded\n"
     ]
    }
   ],
   "source": [
    "from setup import neurotransmitters, model, model_size, device, feat_dim, resize_size, dataset_path, curated_idx, trans\n",
    "from setup import tqdm, torch, np, os, h5py, sns, plt, tqdm, Trans, Image\n",
    "from setup import cosine_similarity, euclidean_distances\n",
    "from perso_utils import get_fnames, load_image, get_latents\n",
    "from DINOSim import DinoSim_pipeline, diplay_features\n",
    "from napari_dinosim.utils import get_img_processing_f\n",
    "\n",
    "# Create an instance of the pipeline (not just assigning the class)\n",
    "few_shot = DinoSim_pipeline(model,\n",
    "                            model.patch_size,\n",
    "                            device,\n",
    "                            get_img_processing_f(resize_size),\n",
    "                            feat_dim, \n",
    "                            dino_image_size=resize_size\n",
    "                            )"
   ]
  },
  {
   "cell_type": "code",
   "execution_count": 1,
   "metadata": {},
   "outputs": [
    {
     "name": "stdout",
     "output_type": "stream",
     "text": [
      "Device: cpu\n"
     ]
    },
    {
     "name": "stderr",
     "output_type": "stream",
     "text": [
      "Using cache found in /home/tomwelch/.cache/torch/hub/facebookresearch_dinov2_main\n",
      "/home/tomwelch/.cache/torch/hub/facebookresearch_dinov2_main/dinov2/layers/swiglu_ffn.py:51: UserWarning: xFormers is not available (SwiGLU)\n",
      "  warnings.warn(\"xFormers is not available (SwiGLU)\")\n",
      "/home/tomwelch/.cache/torch/hub/facebookresearch_dinov2_main/dinov2/layers/attention.py:33: UserWarning: xFormers is not available (Attention)\n",
      "  warnings.warn(\"xFormers is not available (Attention)\")\n",
      "/home/tomwelch/.cache/torch/hub/facebookresearch_dinov2_main/dinov2/layers/block.py:40: UserWarning: xFormers is not available (Block)\n",
      "  warnings.warn(\"xFormers is not available (Block)\")\n"
     ]
    },
    {
     "name": "stdout",
     "output_type": "stream",
     "text": [
      "Downloading: \"https://dl.fbaipublicfiles.com/dinov2/dinov2_vitg14/dinov2_vitg14_reg4_pretrain.pth\" to /home/tomwelch/.cache/torch/hub/checkpoints/dinov2_vitg14_reg4_pretrain.pth\n"
     ]
    },
    {
     "name": "stderr",
     "output_type": "stream",
     "text": [
      "100%|██████████| 4.23G/4.23G [00:39<00:00, 116MB/s] \n"
     ]
    },
    {
     "name": "stdout",
     "output_type": "stream",
     "text": [
      "Model loaded\n"
     ]
    },
    {
     "name": "stderr",
     "output_type": "stream",
     "text": [
      "Iterating through neurotransmitters: 0it [00:00, ?it/s]"
     ]
    },
    {
     "name": "stdout",
     "output_type": "stream",
     "text": [
      "Precomputing embeddings\n"
     ]
    },
    {
     "name": "stderr",
     "output_type": "stream",
     "text": [
      "100%|██████████| 40/40 [00:30<00:00,  1.31it/s]\n",
      "Iterating through neurotransmitters: 1it [00:31, 31.17s/it]"
     ]
    },
    {
     "name": "stdout",
     "output_type": "stream",
     "text": [
      "Precomputing embeddings\n"
     ]
    },
    {
     "name": "stderr",
     "output_type": "stream",
     "text": [
      "100%|██████████| 40/40 [00:34<00:00,  1.16it/s]\n",
      "Iterating through neurotransmitters: 2it [01:06, 33.47s/it]"
     ]
    },
    {
     "name": "stdout",
     "output_type": "stream",
     "text": [
      "Precomputing embeddings\n"
     ]
    },
    {
     "name": "stderr",
     "output_type": "stream",
     "text": [
      "100%|██████████| 40/40 [00:32<00:00,  1.23it/s]\n",
      "Iterating through neurotransmitters: 3it [01:39, 33.34s/it]"
     ]
    },
    {
     "name": "stdout",
     "output_type": "stream",
     "text": [
      "Precomputing embeddings\n"
     ]
    },
    {
     "name": "stderr",
     "output_type": "stream",
     "text": [
      "100%|██████████| 40/40 [00:35<00:00,  1.13it/s]\n",
      "Iterating through neurotransmitters: 4it [02:15, 34.48s/it]"
     ]
    },
    {
     "name": "stdout",
     "output_type": "stream",
     "text": [
      "Precomputing embeddings\n"
     ]
    },
    {
     "name": "stderr",
     "output_type": "stream",
     "text": [
      "100%|██████████| 40/40 [00:35<00:00,  1.13it/s]\n",
      "Iterating through neurotransmitters: 5it [02:51, 35.04s/it]"
     ]
    },
    {
     "name": "stdout",
     "output_type": "stream",
     "text": [
      "Precomputing embeddings\n"
     ]
    },
    {
     "name": "stderr",
     "output_type": "stream",
     "text": [
      "100%|██████████| 40/40 [00:35<00:00,  1.13it/s]\n",
      "Iterating through neurotransmitters: 6it [03:27, 34.63s/it]\n"
     ]
    }
   ],
   "source": [
    "k = 10\n",
    "data_aug = True\n",
    "\n",
    "files, labels = zip(*get_fnames()) \n",
    "good_files = [files[idx] for idx in curated_idx] \n",
    "good_labels = [labels[idx] for idx in curated_idx]\n",
    "\n",
    "if data_aug:\n",
    "    for file in good_files:\n",
    "        pass\n",
    "        \n",
    "    \n",
    "    \n",
    "    datasets = [good_files[i:i+10] for i in range(0, len(curated_idx), 10)] # list of lists of files\n",
    "    _labels = [good_labels[i:i+10] for i in range(0, len(curated_idx), 10)] # list of lists of labels\n",
    "\n",
    "\n",
    "else:\n",
    "    datasets = [good_files[i:i+10] for i in range(0, len(curated_idx), 10)] # list of lists of files\n",
    "    _labels = [good_labels[i:i+10] for i in range(0, len(curated_idx), 10)] # list of lists of labels\n",
    "\n",
    "\n",
    "latent_list, label_list = [], []\n",
    "for dataset, batch_label in tqdm(zip(datasets, _labels), desc='Iterating through neurotransmitters'):\n",
    "#for d, l in tqdm(zip(good_files, good_labels), desc='Iterating through neurotransmitters'):\n",
    "    # Load images and prepare data\n",
    "    images = np.array([load_image(file)[0] for file in dataset]).transpose(0,2,3,1)  # Convert to numpy array\n",
    "    coordinates = [(0, load_image(file)[1], load_image(file)[2]) for file in dataset]\n",
    "    # Pre-compute embeddings\n",
    "    few_shot.pre_compute_embeddings(\n",
    "        images,  # Pass numpy array of images\n",
    "        overlap=(0.5, 0.5),\n",
    "        padding=(0, 0),\n",
    "        crop_shape=(512, 512, 1),\n",
    "        verbose=True,\n",
    "        batch_size=1\n",
    "    )\n",
    "    \n",
    "    # Set reference vectors\n",
    "    few_shot.set_reference_vector(coordinates, filter=None)\n",
    "    ref = few_shot.get_refs()\n",
    "    \n",
    "    # Get closest elements - using the correct method name\n",
    "    \n",
    "    close_embedding =  few_shot.get_k_closest_elements(k=k)\n",
    "    #k_labels = [l for _ in range(k)]\n",
    "    k_labels =  [batch_label[0] for _ in range(k)]\n",
    "\n",
    "    \n",
    "    # Convert to numpy for storing\n",
    "    close_embedding_np = close_embedding.cpu().numpy() if isinstance(close_embedding, torch.Tensor) else close_embedding\n",
    "    \n",
    "    latent_list.append(close_embedding_np)\n",
    "    label_list.append(k_labels)\n",
    "    \n",
    "    # Clean up to free memory\n",
    "    few_shot.delete_precomputed_embeddings()\n",
    "    few_shot.delete_references()\n",
    "    \n",
    "mean_ref = torch.from_numpy(np.vstack([np.mean(list, axis=0) for list in latent_list]))\n",
    "# Stack all embeddings and labels\n",
    "ref_latents = np.vstack(latent_list)\n",
    "ref_labels = np.hstack(label_list)"
   ]
  },
  {
   "cell_type": "markdown",
   "metadata": {},
   "source": [
    "# Compute new image's embeddings"
   ]
  },
  {
   "cell_type": "code",
   "execution_count": 2,
   "metadata": {},
   "outputs": [
    {
     "name": "stdout",
     "output_type": "stream",
     "text": [
      "Precomputing embeddings\n"
     ]
    },
    {
     "name": "stderr",
     "output_type": "stream",
     "text": [
      "  0%|          | 0/4 [00:00<?, ?it/s]"
     ]
    },
    {
     "name": "stderr",
     "output_type": "stream",
     "text": [
      "100%|██████████| 4/4 [00:03<00:00,  1.04it/s]\n"
     ]
    }
   ],
   "source": [
    "new_image_index = 650\n",
    "\n",
    "img = np.array(load_image(files[new_image_index])[0])[...,np.newaxis]#.transpose(0,2,3,1)\n",
    "    \n",
    "few_shot.pre_compute_embeddings(\n",
    "        img,  # Pass numpy array of images\n",
    "        overlap=(0.5, 0.5),\n",
    "        padding=(0, 0),\n",
    "        crop_shape=(140, 140, 1),\n",
    "        verbose=True,\n",
    "        batch_size=1\n",
    "    )\n",
    "    \n",
    "new_img_embs = few_shot.get_embs().reshape(-1, feat_dim)\n",
    "    \n",
    "new_label = ['new' for _ in range(new_img_embs.shape[0])]\n",
    "    \n",
    "# Stack all embeddings and labels\n",
    "ref_latents = np.vstack(latent_list)\n",
    "ref_labels = np.hstack(label_list)\n",
    "    \n",
    "mean_ref = np.vstack([np.mean(list, axis=0) for list in latent_list])\n",
    "mean_labs = [neurotransmitter for neurotransmitter in neurotransmitters]\n",
    "    \n",
    "latents = np.vstack([ref_latents, new_img_embs])  # Changed from stack to vstack for proper concatenation\n",
    "labs = np.hstack([ref_labels, new_label])    # Changed from stack to hstack for proper concatenation"
   ]
  },
  {
   "cell_type": "code",
   "execution_count": 3,
   "metadata": {},
   "outputs": [
    {
     "name": "stdout",
     "output_type": "stream",
     "text": [
      "The actual EM belongs to the class: dopamine\n",
      "We have 10 reference points inside each of the 6 classes\n",
      "There are 6 average reference embeddings and 60 in total\n"
     ]
    }
   ],
   "source": [
    "print(f'The actual EM belongs to the class: {labels[new_image_index]}')\n",
    "print(f'We have {len(latent_list[0])} reference points inside each of the {len(neurotransmitters)} classes')\n",
    "print(f'There are {len(mean_ref)} average reference embeddings and {len(ref_latents)} in total')"
   ]
  },
  {
   "cell_type": "markdown",
   "metadata": {},
   "source": [
    "# Reference embeddings visualization"
   ]
  },
  {
   "cell_type": "code",
   "execution_count": 80,
   "metadata": {},
   "outputs": [
    {
     "data": {
      "image/png": "[encoded data removed]",
      "text/plain": [
       "<Figure size 1200x700 with 2 Axes>"
      ]
     },
     "metadata": {},
     "output_type": "display_data"
    }
   ],
   "source": [
    "model_size = 'giant'\n",
    "distance_matrix = euclidean_distances(mean_ref, mean_ref)\n",
    "plt.figure(figsize=(12,7), dpi=100)\n",
    "sns.heatmap(distance_matrix, xticklabels=mean_labs, yticklabels=mean_labs, cmap='Reds')\n",
    "plt.title(f'Distance matrix - {model_size} DINOv2 - Data augmentation: {data_aug}')\n",
    "plt.xlabel('Reference embeddings')\n",
    "plt.ylabel('Reference embeddings')\n",
    "plt.show()"
   ]
  },
  {
   "cell_type": "code",
   "execution_count": 81,
   "metadata": {},
   "outputs": [
    {
     "name": "stdout",
     "output_type": "stream",
     "text": [
      "The sum of distances is 782.523681640625\n"
     ]
    }
   ],
   "source": [
    "print(f'The sum of distances is {np.sum(np.triu(distance_matrix, k=0))}')"
   ]
  },
  {
   "cell_type": "code",
   "execution_count": 5,
   "metadata": {},
   "outputs": [
    {
     "name": "stderr",
     "output_type": "stream",
     "text": [
      "/home/tomwelch/anaconda3/lib/python3.12/site-packages/umap/umap_.py:1952: UserWarning: n_jobs value 1 overridden to 1 by setting random_state. Use no seed for parallelism.\n",
      "  warn(\n"
     ]
    },
    {
     "data": {
      "application/vnd.plotly.v1+json": {
       "config": {
        "plotlyServerURL": "https://plot.ly"
       },
       "data": [
        {
         "hovertemplate": "color=acetylcholine<br>x=%{x}<br>y=%{y}<extra></extra>",
         "legendgroup": "acetylcholine",
         "marker": {
          "color": "#636efa",
          "symbol": "circle"
         },
         "mode": "markers",
         "name": "acetylcholine",
         "orientation": "v",
         "showlegend": true,
         "type": "scatter",
         "x": [
          -7.903787136077881,
          -8.297112464904785,
          -7.490994930267334,
          -8.718969345092773,
          -7.18222188949585,
          -7.289645671844482,
          -8.048478126525879,
          -6.678983688354492,
          -6.883669853210449,
          -6.346640586853027,
          -7.577919960021973
         ],
         "xaxis": "x",
         "y": [
          -11.667228698730469,
          -10.518987655639648,
          -11.237088203430176,
          -11.06786823272705,
          -8.864473342895508,
          -8.431257247924805,
          -9.031676292419434,
          -9.253756523132324,
          -10.633567810058594,
          -10.244373321533203,
          -9.953634262084961
         ],
         "yaxis": "y"
        },
        {
         "hovertemplate": "color=dopamine<br>x=%{x}<br>y=%{y}<extra></extra>",
         "legendgroup": "dopamine",
         "marker": {
          "color": "#EF553B",
          "symbol": "circle"
         },
         "mode": "markers",
         "name": "dopamine",
         "orientation": "v",
         "showlegend": true,
         "type": "scatter",
         "x": [
          0.18538452684879303,
          -0.35891982913017273,
          0.14926216006278992,
          0.33752524852752686,
          1.8960329294204712,
          1.1492401361465454,
          2.1199777126312256,
          1.196081280708313,
          1.0277315378189087,
          1.5929054021835327,
          1.1830657720565796
         ],
         "xaxis": "x",
         "y": [
          3.2353947162628174,
          3.130138635635376,
          4.447256565093994,
          4.0513739585876465,
          1.4710867404937744,
          2.082279682159424,
          2.100428819656372,
          1.2695302963256836,
          4.184510707855225,
          3.8573975563049316,
          2.9562482833862305
         ],
         "yaxis": "y"
        },
        {
         "hovertemplate": "color=gaba<br>x=%{x}<br>y=%{y}<extra></extra>",
         "legendgroup": "gaba",
         "marker": {
          "color": "#00cc96",
          "symbol": "circle"
         },
         "mode": "markers",
         "name": "gaba",
         "orientation": "v",
         "showlegend": true,
         "type": "scatter",
         "x": [
          17.92072868347168,
          16.915393829345703,
          17.119714736938477,
          17.28073501586914,
          17.511146545410156,
          18.57595443725586,
          18.216550827026367,
          19.036592483520508,
          18.682186126708984,
          18.934999465942383,
          17.930776596069336
         ],
         "xaxis": "x",
         "y": [
          0.7113595008850098,
          1.5899568796157837,
          1.380311131477356,
          0.7564855217933655,
          3.1030943393707275,
          2.8379406929016113,
          3.577474594116211,
          3.249027729034424,
          1.6269629001617432,
          1.321878433227539,
          2.244980573654175
         ],
         "yaxis": "y"
        },
        {
         "hovertemplate": "color=glutamate<br>x=%{x}<br>y=%{y}<extra></extra>",
         "legendgroup": "glutamate",
         "marker": {
          "color": "#ab63fa",
          "symbol": "circle"
         },
         "mode": "markers",
         "name": "glutamate",
         "orientation": "v",
         "showlegend": true,
         "type": "scatter",
         "x": [
          9.811440467834473,
          9.949368476867676,
          10.289360046386719,
          10.64840316772461,
          7.465767860412598,
          7.842779636383057,
          8.045552253723145,
          8.272924423217773,
          8.668079376220703,
          9.036930084228516,
          9.10672664642334
         ],
         "xaxis": "x",
         "y": [
          36.0321159362793,
          34.9686393737793,
          36.298500061035156,
          35.505767822265625,
          35.73986053466797,
          35.080753326416016,
          36.3770637512207,
          34.768959045410156,
          35.985572814941406,
          36.480552673339844,
          35.15886688232422
         ],
         "yaxis": "y"
        },
        {
         "hovertemplate": "color=octopamine<br>x=%{x}<br>y=%{y}<extra></extra>",
         "legendgroup": "octopamine",
         "marker": {
          "color": "#FFA15A",
          "symbol": "circle"
         },
         "mode": "markers",
         "name": "octopamine",
         "orientation": "v",
         "showlegend": true,
         "type": "scatter",
         "x": [
          4.255845546722412,
          4.289757251739502,
          4.004344463348389,
          3.4383301734924316,
          5.86187219619751,
          6.555343151092529,
          6.7700300216674805,
          6.533709526062012,
          5.042125701904297,
          5.195557594299316,
          5.443323612213135
         ],
         "xaxis": "x",
         "y": [
          21.110645294189453,
          20.503501892089844,
          19.720964431762695,
          20.37218475341797,
          21.33494758605957,
          20.639802932739258,
          20.009050369262695,
          21.110300064086914,
          20.247825622558594,
          19.289262771606445,
          20.34701919555664
         ],
         "yaxis": "y"
        },
        {
         "hovertemplate": "color=serotonin<br>x=%{x}<br>y=%{y}<extra></extra>",
         "legendgroup": "serotonin",
         "marker": {
          "color": "#19d3f3",
          "symbol": "circle"
         },
         "mode": "markers",
         "name": "serotonin",
         "orientation": "v",
         "showlegend": true,
         "type": "scatter",
         "x": [
          13.783424377441406,
          14.660674095153809,
          14.53357982635498,
          14.12331771850586,
          16.386192321777344,
          16.163637161254883,
          16.466833114624023,
          16.90926742553711,
          17.436424255371094,
          17.363914489746094,
          15.49310302734375
         ],
         "xaxis": "x",
         "y": [
          -16.36884117126465,
          -16.196453094482422,
          -16.62603759765625,
          -15.418243408203125,
          -15.466048240661621,
          -14.975442886352539,
          -16.064510345458984,
          -16.421367645263672,
          -15.456879615783691,
          -14.998750686645508,
          -16.13987159729004
         ],
         "yaxis": "y"
        }
       ],
       "layout": {
        "height": 1000,
        "legend": {
         "title": {
          "text": "color"
         },
         "tracegroupgap": 0
        },
        "template": {
         "data": {
          "bar": [
           {
            "error_x": {
             "color": "#2a3f5f"
            },
            "error_y": {
             "color": "#2a3f5f"
            },
            "marker": {
             "line": {
              "color": "#E5ECF6",
              "width": 0.5
             },
             "pattern": {
              "fillmode": "overlay",
              "size": 10,
              "solidity": 0.2
             }
            },
            "type": "bar"
           }
          ],
          "barpolar": [
           {
            "marker": {
             "line": {
              "color": "#E5ECF6",
              "width": 0.5
             },
             "pattern": {
              "fillmode": "overlay",
              "size": 10,
              "solidity": 0.2
             }
            },
            "type": "barpolar"
           }
          ],
          "carpet": [
           {
            "aaxis": {
             "endlinecolor": "#2a3f5f",
             "gridcolor": "white",
             "linecolor": "white",
             "minorgridcolor": "white",
             "startlinecolor": "#2a3f5f"
            },
            "baxis": {
             "endlinecolor": "#2a3f5f",
             "gridcolor": "white",
             "linecolor": "white",
             "minorgridcolor": "white",
             "startlinecolor": "#2a3f5f"
            },
            "type": "carpet"
           }
          ],
          "choropleth": [
           {
            "colorbar": {
             "outlinewidth": 0,
             "ticks": ""
            },
            "type": "choropleth"
           }
          ],
          "contour": [
           {
            "colorbar": {
             "outlinewidth": 0,
             "ticks": ""
            },
            "colorscale": [
             [
              0,
              "#0d0887"
             ],
             [
              0.1111111111111111,
              "#46039f"
             ],
             [
              0.2222222222222222,
              "#7201a8"
             ],
             [
              0.3333333333333333,
              "#9c179e"
             ],
             [
              0.4444444444444444,
              "#bd3786"
             ],
             [
              0.5555555555555556,
              "#d8576b"
             ],
             [
              0.6666666666666666,
              "#ed7953"
             ],
             [
              0.7777777777777778,
              "#fb9f3a"
             ],
             [
              0.8888888888888888,
              "#fdca26"
             ],
             [
              1,
              "#f0f921"
             ]
            ],
            "type": "contour"
           }
          ],
          "contourcarpet": [
           {
            "colorbar": {
             "outlinewidth": 0,
             "ticks": ""
            },
            "type": "contourcarpet"
           }
          ],
          "heatmap": [
           {
            "colorbar": {
             "outlinewidth": 0,
             "ticks": ""
            },
            "colorscale": [
             [
              0,
              "#0d0887"
             ],
             [
              0.1111111111111111,
              "#46039f"
             ],
             [
              0.2222222222222222,
              "#7201a8"
             ],
             [
              0.3333333333333333,
              "#9c179e"
             ],
             [
              0.4444444444444444,
              "#bd3786"
             ],
             [
              0.5555555555555556,
              "#d8576b"
             ],
             [
              0.6666666666666666,
              "#ed7953"
             ],
             [
              0.7777777777777778,
              "#fb9f3a"
             ],
             [
              0.8888888888888888,
              "#fdca26"
             ],
             [
              1,
              "#f0f921"
             ]
            ],
            "type": "heatmap"
           }
          ],
          "heatmapgl": [
           {
            "colorbar": {
             "outlinewidth": 0,
             "ticks": ""
            },
            "colorscale": [
             [
              0,
              "#0d0887"
             ],
             [
              0.1111111111111111,
              "#46039f"
             ],
             [
              0.2222222222222222,
              "#7201a8"
             ],
             [
              0.3333333333333333,
              "#9c179e"
             ],
             [
              0.4444444444444444,
              "#bd3786"
             ],
             [
              0.5555555555555556,
              "#d8576b"
             ],
             [
              0.6666666666666666,
              "#ed7953"
             ],
             [
              0.7777777777777778,
              "#fb9f3a"
             ],
             [
              0.8888888888888888,
              "#fdca26"
             ],
             [
              1,
              "#f0f921"
             ]
            ],
            "type": "heatmapgl"
           }
          ],
          "histogram": [
           {
            "marker": {
             "pattern": {
              "fillmode": "overlay",
              "size": 10,
              "solidity": 0.2
             }
            },
            "type": "histogram"
           }
          ],
          "histogram2d": [
           {
            "colorbar": {
             "outlinewidth": 0,
             "ticks": ""
            },
            "colorscale": [
             [
              0,
              "#0d0887"
             ],
             [
              0.1111111111111111,
              "#46039f"
             ],
             [
              0.2222222222222222,
              "#7201a8"
             ],
             [
              0.3333333333333333,
              "#9c179e"
             ],
             [
              0.4444444444444444,
              "#bd3786"
             ],
             [
              0.5555555555555556,
              "#d8576b"
             ],
             [
              0.6666666666666666,
              "#ed7953"
             ],
             [
              0.7777777777777778,
              "#fb9f3a"
             ],
             [
              0.8888888888888888,
              "#fdca26"
             ],
             [
              1,
              "#f0f921"
             ]
            ],
            "type": "histogram2d"
           }
          ],
          "histogram2dcontour": [
           {
            "colorbar": {
             "outlinewidth": 0,
             "ticks": ""
            },
            "colorscale": [
             [
              0,
              "#0d0887"
             ],
             [
              0.1111111111111111,
              "#46039f"
             ],
             [
              0.2222222222222222,
              "#7201a8"
             ],
             [
              0.3333333333333333,
              "#9c179e"
             ],
             [
              0.4444444444444444,
              "#bd3786"
             ],
             [
              0.5555555555555556,
              "#d8576b"
             ],
             [
              0.6666666666666666,
              "#ed7953"
             ],
             [
              0.7777777777777778,
              "#fb9f3a"
             ],
             [
              0.8888888888888888,
              "#fdca26"
             ],
             [
              1,
              "#f0f921"
             ]
            ],
            "type": "histogram2dcontour"
           }
          ],
          "mesh3d": [
           {
            "colorbar": {
             "outlinewidth": 0,
             "ticks": ""
            },
            "type": "mesh3d"
           }
          ],
          "parcoords": [
           {
            "line": {
             "colorbar": {
              "outlinewidth": 0,
              "ticks": ""
             }
            },
            "type": "parcoords"
           }
          ],
          "pie": [
           {
            "automargin": true,
            "type": "pie"
           }
          ],
          "scatter": [
           {
            "fillpattern": {
             "fillmode": "overlay",
             "size": 10,
             "solidity": 0.2
            },
            "type": "scatter"
           }
          ],
          "scatter3d": [
           {
            "line": {
             "colorbar": {
              "outlinewidth": 0,
              "ticks": ""
             }
            },
            "marker": {
             "colorbar": {
              "outlinewidth": 0,
              "ticks": ""
             }
            },
            "type": "scatter3d"
           }
          ],
          "scattercarpet": [
           {
            "marker": {
             "colorbar": {
              "outlinewidth": 0,
              "ticks": ""
             }
            },
            "type": "scattercarpet"
           }
          ],
          "scattergeo": [
           {
            "marker": {
             "colorbar": {
              "outlinewidth": 0,
              "ticks": ""
             }
            },
            "type": "scattergeo"
           }
          ],
          "scattergl": [
           {
            "marker": {
             "colorbar": {
              "outlinewidth": 0,
              "ticks": ""
             }
            },
            "type": "scattergl"
           }
          ],
          "scattermapbox": [
           {
            "marker": {
             "colorbar": {
              "outlinewidth": 0,
              "ticks": ""
             }
            },
            "type": "scattermapbox"
           }
          ],
          "scatterpolar": [
           {
            "marker": {
             "colorbar": {
              "outlinewidth": 0,
              "ticks": ""
             }
            },
            "type": "scatterpolar"
           }
          ],
          "scatterpolargl": [
           {
            "marker": {
             "colorbar": {
              "outlinewidth": 0,
              "ticks": ""
             }
            },
            "type": "scatterpolargl"
           }
          ],
          "scatterternary": [
           {
            "marker": {
             "colorbar": {
              "outlinewidth": 0,
              "ticks": ""
             }
            },
            "type": "scatterternary"
           }
          ],
          "surface": [
           {
            "colorbar": {
             "outlinewidth": 0,
             "ticks": ""
            },
            "colorscale": [
             [
              0,
              "#0d0887"
             ],
             [
              0.1111111111111111,
              "#46039f"
             ],
             [
              0.2222222222222222,
              "#7201a8"
             ],
             [
              0.3333333333333333,
              "#9c179e"
             ],
             [
              0.4444444444444444,
              "#bd3786"
             ],
             [
              0.5555555555555556,
              "#d8576b"
             ],
             [
              0.6666666666666666,
              "#ed7953"
             ],
             [
              0.7777777777777778,
              "#fb9f3a"
             ],
             [
              0.8888888888888888,
              "#fdca26"
             ],
             [
              1,
              "#f0f921"
             ]
            ],
            "type": "surface"
           }
          ],
          "table": [
           {
            "cells": {
             "fill": {
              "color": "#EBF0F8"
             },
             "line": {
              "color": "white"
             }
            },
            "header": {
             "fill": {
              "color": "#C8D4E3"
             },
             "line": {
              "color": "white"
             }
            },
            "type": "table"
           }
          ]
         },
         "layout": {
          "annotationdefaults": {
           "arrowcolor": "#2a3f5f",
           "arrowhead": 0,
           "arrowwidth": 1
          },
          "autotypenumbers": "strict",
          "coloraxis": {
           "colorbar": {
            "outlinewidth": 0,
            "ticks": ""
           }
          },
          "colorscale": {
           "diverging": [
            [
             0,
             "#8e0152"
            ],
            [
             0.1,
             "#c51b7d"
            ],
            [
             0.2,
             "#de77ae"
            ],
            [
             0.3,
             "#f1b6da"
            ],
            [
             0.4,
             "#fde0ef"
            ],
            [
             0.5,
             "#f7f7f7"
            ],
            [
             0.6,
             "#e6f5d0"
            ],
            [
             0.7,
             "#b8e186"
            ],
            [
             0.8,
             "#7fbc41"
            ],
            [
             0.9,
             "#4d9221"
            ],
            [
             1,
             "#276419"
            ]
           ],
           "sequential": [
            [
             0,
             "#0d0887"
            ],
            [
             0.1111111111111111,
             "#46039f"
            ],
            [
             0.2222222222222222,
             "#7201a8"
            ],
            [
             0.3333333333333333,
             "#9c179e"
            ],
            [
             0.4444444444444444,
             "#bd3786"
            ],
            [
             0.5555555555555556,
             "#d8576b"
            ],
            [
             0.6666666666666666,
             "#ed7953"
            ],
            [
             0.7777777777777778,
             "#fb9f3a"
            ],
            [
             0.8888888888888888,
             "#fdca26"
            ],
            [
             1,
             "#f0f921"
            ]
           ],
           "sequentialminus": [
            [
             0,
             "#0d0887"
            ],
            [
             0.1111111111111111,
             "#46039f"
            ],
            [
             0.2222222222222222,
             "#7201a8"
            ],
            [
             0.3333333333333333,
             "#9c179e"
            ],
            [
             0.4444444444444444,
             "#bd3786"
            ],
            [
             0.5555555555555556,
             "#d8576b"
            ],
            [
             0.6666666666666666,
             "#ed7953"
            ],
            [
             0.7777777777777778,
             "#fb9f3a"
            ],
            [
             0.8888888888888888,
             "#fdca26"
            ],
            [
             1,
             "#f0f921"
            ]
           ]
          },
          "colorway": [
           "#636efa",
           "#EF553B",
           "#00cc96",
           "#ab63fa",
           "#FFA15A",
           "#19d3f3",
           "#FF6692",
           "#B6E880",
           "#FF97FF",
           "#FECB52"
          ],
          "font": {
           "color": "#2a3f5f"
          },
          "geo": {
           "bgcolor": "white",
           "lakecolor": "white",
           "landcolor": "#E5ECF6",
           "showlakes": true,
           "showland": true,
           "subunitcolor": "white"
          },
          "hoverlabel": {
           "align": "left"
          },
          "hovermode": "closest",
          "mapbox": {
           "style": "light"
          },
          "paper_bgcolor": "white",
          "plot_bgcolor": "#E5ECF6",
          "polar": {
           "angularaxis": {
            "gridcolor": "white",
            "linecolor": "white",
            "ticks": ""
           },
           "bgcolor": "#E5ECF6",
           "radialaxis": {
            "gridcolor": "white",
            "linecolor": "white",
            "ticks": ""
           }
          },
          "scene": {
           "xaxis": {
            "backgroundcolor": "#E5ECF6",
            "gridcolor": "white",
            "gridwidth": 2,
            "linecolor": "white",
            "showbackground": true,
            "ticks": "",
            "zerolinecolor": "white"
           },
           "yaxis": {
            "backgroundcolor": "#E5ECF6",
            "gridcolor": "white",
            "gridwidth": 2,
            "linecolor": "white",
            "showbackground": true,
            "ticks": "",
            "zerolinecolor": "white"
           },
           "zaxis": {
            "backgroundcolor": "#E5ECF6",
            "gridcolor": "white",
            "gridwidth": 2,
            "linecolor": "white",
            "showbackground": true,
            "ticks": "",
            "zerolinecolor": "white"
           }
          },
          "shapedefaults": {
           "line": {
            "color": "#2a3f5f"
           }
          },
          "ternary": {
           "aaxis": {
            "gridcolor": "white",
            "linecolor": "white",
            "ticks": ""
           },
           "baxis": {
            "gridcolor": "white",
            "linecolor": "white",
            "ticks": ""
           },
           "bgcolor": "#E5ECF6",
           "caxis": {
            "gridcolor": "white",
            "linecolor": "white",
            "ticks": ""
           }
          },
          "title": {
           "x": 0.05
          },
          "xaxis": {
           "automargin": true,
           "gridcolor": "white",
           "linecolor": "white",
           "ticks": "",
           "title": {
            "standoff": 15
           },
           "zerolinecolor": "white",
           "zerolinewidth": 2
          },
          "yaxis": {
           "automargin": true,
           "gridcolor": "white",
           "linecolor": "white",
           "ticks": "",
           "title": {
            "standoff": 15
           },
           "zerolinecolor": "white",
           "zerolinewidth": 2
          }
         }
        },
        "title": {
         "text": "PCA=False (100) - UMAP (n_neighbors=10, min_dist=1, n_components=2, metric=cosine)"
        },
        "width": 1500,
        "xaxis": {
         "anchor": "y",
         "domain": [
          0,
          1
         ],
         "title": {
          "text": "x"
         }
        },
        "yaxis": {
         "anchor": "x",
         "domain": [
          0,
          1
         ],
         "title": {
          "text": "y"
         }
        }
       }
      }
     },
     "metadata": {},
     "output_type": "display_data"
    }
   ],
   "source": [
    "diplay_features(\n",
    "        np.vstack([ref_latents, np.vstack(mean_ref)]),\n",
    "        np.hstack([ref_labels, np.hstack(mean_labs)]),\n",
    "\n",
    "        include_pca=False,\n",
    "        pca_nb_components=100,\n",
    "        clustering=False,\n",
    "        nb_clusters=6,\n",
    "        nb_neighbor=10,\n",
    "        min_dist=1,\n",
    "        nb_components=2,\n",
    "        metric='cosine'\n",
    "    )"
   ]
  },
  {
   "cell_type": "code",
   "execution_count": 6,
   "metadata": {},
   "outputs": [
    {
     "data": {
      "image/png": "[encoded data removed]",
      "text/plain": [
       "<Figure size 1200x700 with 1 Axes>"
      ]
     },
     "metadata": {},
     "output_type": "display_data"
    }
   ],
   "source": [
    "from sklearn.cluster import KMeans\n",
    "inertia_list = []\n",
    "for k in range(1,len(mean_labs)+1):\n",
    "    kmeans = KMeans(n_clusters=k).fit(ref_latents)\n",
    "    inertia_list.append(kmeans.inertia_)\n",
    "plt.figure(figsize=(12,7),dpi=100)\n",
    "plt.plot([i for i in range(1,len(mean_labs)+1)], inertia_list)\n",
    "plt.title(f'Reference Embeddings - KMeans inertia - {model_size} DINOv2 - Data augmentation: {data_aug}')\n",
    "plt.ylabel('Inertia')\n",
    "plt.xlabel('Nb of clusters')\n",
    "plt.show()"
   ]
  },
  {
   "cell_type": "markdown",
   "metadata": {},
   "source": [
    "# Results "
   ]
  },
  {
   "cell_type": "code",
   "execution_count": 7,
   "metadata": {},
   "outputs": [
    {
     "name": "stderr",
     "output_type": "stream",
     "text": [
      "/home/tomwelch/anaconda3/lib/python3.12/site-packages/umap/umap_.py:1952: UserWarning:\n",
      "\n",
      "n_jobs value 1 overridden to 1 by setting random_state. Use no seed for parallelism.\n",
      "\n"
     ]
    },
    {
     "data": {
      "application/vnd.plotly.v1+json": {
       "config": {
        "plotlyServerURL": "https://plot.ly"
       },
       "data": [
        {
         "hovertemplate": "color=acetylcholine<br>x=%{x}<br>y=%{y}<extra></extra>",
         "legendgroup": "acetylcholine",
         "marker": {
          "color": "#636efa",
          "symbol": "circle"
         },
         "mode": "markers",
         "name": "acetylcholine",
         "orientation": "v",
         "showlegend": true,
         "type": "scatter",
         "x": [
          9.910117149353027,
          9.766562461853027,
          10.229817390441895,
          10.25150203704834,
          9.965185165405273,
          9.202001571655273,
          9.434897422790527,
          9.556771278381348,
          9.349980354309082,
          9.816142082214355
         ],
         "xaxis": "x",
         "y": [
          13.712310791015625,
          14.484031677246094,
          14.102492332458496,
          14.489046096801758,
          14.38065242767334,
          13.850106239318848,
          13.896513938903809,
          14.390850067138672,
          14.239734649658203,
          13.638111114501953
         ],
         "yaxis": "y"
        },
        {
         "hovertemplate": "color=dopamine<br>x=%{x}<br>y=%{y}<extra></extra>",
         "legendgroup": "dopamine",
         "marker": {
          "color": "#EF553B",
          "symbol": "circle"
         },
         "mode": "markers",
         "name": "dopamine",
         "orientation": "v",
         "showlegend": true,
         "type": "scatter",
         "x": [
          -9.181167602539062,
          -9.21998119354248,
          -9.422334671020508,
          -9.296961784362793,
          -9.02767276763916,
          -9.415006637573242,
          -8.66796588897705,
          -8.761345863342285,
          -9.886552810668945,
          -9.337852478027344
         ],
         "xaxis": "x",
         "y": [
          24.94717025756836,
          24.84339714050293,
          24.706989288330078,
          24.787017822265625,
          25.10378074645996,
          25.09026336669922,
          25.48774528503418,
          25.370662689208984,
          24.22954750061035,
          24.494346618652344
         ],
         "yaxis": "y"
        },
        {
         "hovertemplate": "color=gaba<br>x=%{x}<br>y=%{y}<extra></extra>",
         "legendgroup": "gaba",
         "marker": {
          "color": "#00cc96",
          "symbol": "circle"
         },
         "mode": "markers",
         "name": "gaba",
         "orientation": "v",
         "showlegend": true,
         "type": "scatter",
         "x": [
          -8.402239799499512,
          -8.51065731048584,
          -8.722784042358398,
          -8.425721168518066,
          -8.898500442504883,
          -9.098658561706543,
          -9.183835983276367,
          -8.610566139221191,
          -7.987979888916016,
          -7.99138069152832
         ],
         "xaxis": "x",
         "y": [
          33.05708312988281,
          32.94731140136719,
          32.736358642578125,
          33.035316467285156,
          32.57565689086914,
          32.36033630371094,
          32.276180267333984,
          32.849090576171875,
          33.4687614440918,
          33.463993072509766
         ],
         "yaxis": "y"
        },
        {
         "hovertemplate": "color=glutamate<br>x=%{x}<br>y=%{y}<extra></extra>",
         "legendgroup": "glutamate",
         "marker": {
          "color": "#ab63fa",
          "symbol": "circle"
         },
         "mode": "markers",
         "name": "glutamate",
         "orientation": "v",
         "showlegend": true,
         "type": "scatter",
         "x": [
          28.944889068603516,
          29.17236328125,
          29.810117721557617,
          28.91915512084961,
          29.57073974609375,
          29.669601440429688,
          29.127702713012695,
          29.466163635253906,
          29.988521575927734,
          30.26978302001953
         ],
         "xaxis": "x",
         "y": [
          10.337565422058105,
          9.800310134887695,
          9.715312957763672,
          9.948101997375488,
          10.598114013671875,
          10.082053184509277,
          10.64894962310791,
          10.383459091186523,
          10.886171340942383,
          10.444963455200195
         ],
         "yaxis": "y"
        },
        {
         "hovertemplate": "color=octopamine<br>x=%{x}<br>y=%{y}<extra></extra>",
         "legendgroup": "octopamine",
         "marker": {
          "color": "#FFA15A",
          "symbol": "circle"
         },
         "mode": "markers",
         "name": "octopamine",
         "orientation": "v",
         "showlegend": true,
         "type": "scatter",
         "x": [
          16.385326385498047,
          16.494203567504883,
          16.528600692749023,
          17.219411849975586,
          17.095096588134766,
          16.91718292236328,
          16.281917572021484,
          16.789796829223633,
          17.163860321044922,
          16.972848892211914
         ],
         "xaxis": "x",
         "y": [
          9.87527847290039,
          9.984142303466797,
          10.019034385681152,
          10.709341049194336,
          10.5851469039917,
          10.407211303710938,
          9.771711349487305,
          10.279716491699219,
          10.653698921203613,
          10.462886810302734
         ],
         "yaxis": "y"
        },
        {
         "hovertemplate": "color=serotonin<br>x=%{x}<br>y=%{y}<extra></extra>",
         "legendgroup": "serotonin",
         "marker": {
          "color": "#19d3f3",
          "symbol": "circle"
         },
         "mode": "markers",
         "name": "serotonin",
         "orientation": "v",
         "showlegend": true,
         "type": "scatter",
         "x": [
          -3.397906541824341,
          -3.1344692707061768,
          -3.376354694366455,
          -3.4890213012695312,
          -3.1579458713531494,
          -2.7710959911346436,
          -2.9532010555267334,
          -2.6398422718048096,
          -2.627326011657715,
          -2.204988956451416
         ],
         "xaxis": "x",
         "y": [
          10.150426864624023,
          9.771034240722656,
          9.940760612487793,
          10.439519882202148,
          10.649724960327148,
          10.457420349121094,
          10.870681762695312,
          10.061957359313965,
          10.74739933013916,
          10.59734058380127
         ],
         "yaxis": "y"
        },
        {
         "hovertemplate": "color=new<br>x=%{x}<br>y=%{y}<extra></extra>",
         "legendgroup": "new",
         "marker": {
          "color": "#FF6692",
          "symbol": "circle"
         },
         "mode": "markers",
         "name": "new",
         "orientation": "v",
         "showlegend": true,
         "type": "scatter",
         "x": [
          -3.0931522846221924,
          -6.644195556640625,
          -6.6644392013549805,
          -14.256584167480469,
          24.09355354309082,
          23.987062454223633,
          -13.589018821716309,
          -14.623202323913574,
          -2.5457208156585693,
          -3.2057504653930664,
          27.16152000427246,
          28.48076057434082,
          17.267784118652344,
          7.078884601593018,
          24.161542892456055,
          23.26478385925293,
          24.272336959838867,
          1.3047411441802979,
          -3.201327323913574,
          -1.656374454498291,
          -19.072052001953125,
          28.132919311523438,
          17.094512939453125,
          25.009031295776367,
          7.212540149688721,
          22.242328643798828,
          21.804828643798828,
          0.5292388796806335,
          -0.371707946062088,
          -15.169612884521484,
          0.7441558241844177,
          -18.720796585083008,
          6.8373847007751465,
          24.33872413635254,
          24.37258529663086,
          -2.208749532699585,
          26.206872940063477,
          0.7804743051528931,
          7.382293224334717,
          5.9596781730651855,
          1.027656078338623,
          29.359710693359375,
          23.683473587036133,
          22.88446807861328,
          23.330425262451172,
          8.423842430114746,
          26.892011642456055,
          1.5411235094070435,
          3.1130740642547607,
          -22.760822296142578,
          15.74852466583252,
          30.033349990844727,
          -16.307987213134766,
          22.938379287719727,
          22.60909080505371,
          7.8800458908081055,
          26.707704544067383,
          2.566082000732422,
          -17.024009704589844,
          -17.325428009033203,
          16.34649658203125,
          30.83314323425293,
          31.42438316345215,
          7.521967887878418,
          -2.604292869567871,
          7.583263874053955,
          26.311368942260742,
          -1.460156798362732,
          5.107090950012207,
          6.785946369171143,
          -15.239470481872559,
          17.306806564331055,
          18.03925895690918,
          5.88920783996582,
          5.3446784019470215,
          5.704390048980713,
          7.490312099456787,
          -2.5182955265045166,
          -1.5328642129898071,
          4.278487682342529,
          -11.628737449645996,
          -11.367842674255371,
          -6.800976753234863,
          -5.9700140953063965,
          -5.918959140777588,
          6.141757488250732,
          6.96315860748291,
          6.7897419929504395,
          -2.3220276832580566,
          -32.88169479370117,
          -22.135211944580078,
          -11.933385848999023,
          1.3610354661941528,
          1.458647608757019,
          -11.033586502075195,
          -10.515338897705078,
          -9.714041709899902,
          -32.58364486694336,
          -32.086307525634766,
          -21.814741134643555,
          -3.2214696407318115,
          -6.229551792144775,
          -5.948408126831055,
          -14.057915687561035,
          23.86946678161621,
          23.970321655273438,
          -13.711519241333008,
          -14.710421562194824,
          -2.3089537620544434,
          -2.6863248348236084,
          27.27459144592285,
          28.170339584350586,
          16.907939910888672,
          6.944840908050537,
          24.555654525756836,
          23.353290557861328,
          24.047542572021484,
          1.422084093093872,
          -3.1867949962615967,
          -1.328312873840332,
          -18.399484634399414,
          28.049232482910156,
          16.649738311767578,
          24.92481803894043,
          7.444465160369873,
          22.379512786865234,
          21.557018280029297,
          0.9189887046813965,
          -0.2582847476005554,
          -15.548934936523438,
          0.4057391881942749,
          -18.44341468811035,
          6.670451641082764,
          24.679834365844727,
          24.031721115112305,
          -2.749211072921753,
          26.70206069946289,
          0.6619196534156799,
          6.880310535430908,
          6.13070011138916,
          0.9196981191635132,
          29.114160537719727,
          23.8543643951416,
          22.317298889160156,
          23.46938705444336,
          8.547029495239258,
          26.499897003173828,
          1.7176352739334106,
          3.076326608657837,
          -22.628965377807617,
          15.838897705078125,
          30.03472137451172,
          -16.082454681396484,
          22.98127555847168,
          22.769397735595703,
          7.965952396392822,
          25.79519271850586,
          2.303168296813965,
          -16.975849151611328,
          -17.56271743774414,
          16.349037170410156,
          30.730045318603516,
          31.086406707763672,
          7.126550674438477,
          -1.7917346954345703,
          7.396648406982422,
          25.834117889404297,
          -1.0615516901016235,
          5.2490034103393555,
          6.356241226196289,
          -15.685908317565918,
          17.198972702026367,
          17.8841552734375,
          5.7616658210754395,
          5.170391082763672,
          6.0618577003479,
          7.101603984832764,
          -2.815514326095581,
          -1.916280746459961,
          4.656560897827148,
          -12.08179759979248,
          -11.128475189208984,
          -7.107674598693848,
          -6.157436847686768,
          -6.120942115783691,
          6.302198886871338,
          7.002856254577637,
          7.133534908294678,
          -2.277114152908325,
          -32.45182800292969,
          -22.321659088134766,
          -11.39179515838623,
          2.33369517326355,
          1.6661806106567383,
          -10.782491683959961,
          -10.08215045928955,
          -9.698121070861816,
          -32.500057220458984,
          -32.34363555908203,
          -21.698896408081055,
          -3.245748281478882,
          -6.079874038696289,
          -6.756080627441406,
          -14.261853218078613,
          23.780651092529297,
          23.34392738342285,
          -13.946277618408203,
          -15.056078910827637,
          -2.361527681350708,
          -2.7309510707855225,
          27.526031494140625,
          28.61359214782715,
          17.22610092163086,
          7.11123514175415,
          24.580101013183594,
          23.25183868408203,
          24.086376190185547,
          1.4265650510787964,
          -2.9952309131622314,
          -1.543220043182373,
          -18.930097579956055,
          27.970745086669922,
          16.396947860717773,
          24.527530670166016,
          6.808586120605469,
          22.43651008605957,
          21.648160934448242,
          0.6943504214286804,
          -0.3451576828956604,
          -15.505324363708496,
          0.126343235373497,
          -18.98284149169922,
          6.196462154388428,
          24.311059951782227,
          23.888141632080078,
          -2.190617084503174,
          26.803447723388672,
          0.5964280366897583,
          7.106686115264893,
          5.925362586975098,
          0.027983365580439568,
          29.329967498779297,
          23.974437713623047,
          22.604324340820312,
          23.137073516845703,
          8.501619338989258,
          26.294414520263672,
          1.808579921722412,
          3.1369924545288086,
          -22.343111038208008,
          15.800007820129395,
          29.97654151916504,
          -16.2218074798584,
          23.323623657226562,
          22.61038589477539,
          7.843845367431641,
          26.084598541259766,
          2.516486644744873,
          -16.598796844482422,
          -17.27788543701172,
          16.599285125732422,
          30.84205436706543,
          31.354259490966797,
          7.211663722991943,
          -2.238422393798828,
          7.354219436645508,
          25.5531005859375,
          -1.1472563743591309,
          5.182964324951172,
          6.186956882476807,
          -14.983489036560059,
          17.303577423095703,
          17.95880889892578,
          6.005702018737793,
          5.112223148345947,
          6.468249797821045,
          7.578531265258789,
          -2.691978931427002,
          -1.7386629581451416,
          4.534769058227539,
          -11.993470191955566,
          -11.843908309936523,
          -6.657925128936768,
          -6.480745315551758,
          -5.680166721343994,
          6.025041580200195,
          6.5322723388671875,
          6.2853851318359375,
          -2.6064653396606445,
          -32.096378326416016,
          -21.761621475219727,
          -12.141075134277344,
          1.6378540992736816,
          1.887727975845337,
          -10.60055160522461,
          -10.080253601074219,
          -10.217283248901367,
          -32.10627746582031,
          -32.95319366455078,
          -22.10474395751953,
          -3.0236947536468506,
          -6.173762798309326,
          -5.815583229064941,
          -14.633177757263184,
          23.478673934936523,
          23.592132568359375,
          -13.606684684753418,
          -15.007572174072266,
          -1.9336137771606445,
          -2.5551671981811523,
          27.45948600769043,
          28.761728286743164,
          16.65923309326172,
          6.605149745941162,
          24.365501403808594,
          23.337688446044922,
          24.420480728149414,
          1.5349966287612915,
          -2.818720579147339,
          -2.1686086654663086,
          -18.324291229248047,
          27.868907928466797,
          16.705018997192383,
          24.76239013671875,
          7.080651760101318,
          22.732179641723633,
          21.871585845947266,
          0.8143250346183777,
          -0.40845346450805664,
          -15.357810974121094,
          0.5994598269462585,
          -18.749605178833008,
          6.644975185394287,
          24.853235244750977,
          24.191862106323242,
          -2.233210802078247,
          26.199813842773438,
          0.46557819843292236,
          6.7224531173706055,
          6.225448131561279,
          0.3499685525894165,
          29.52083396911621,
          23.477033615112305,
          22.500028610229492,
          23.1535701751709,
          8.325369834899902,
          26.23053741455078,
          1.9986114501953125,
          2.870546817779541,
          -22.123693466186523,
          16.104204177856445,
          29.84986686706543,
          -16.43436050415039,
          23.146020889282227,
          22.475130081176758,
          7.590012073516846,
          26.564064025878906,
          2.3458807468414307,
          -16.578622817993164,
          -17.285581588745117,
          16.6392822265625,
          30.75578498840332,
          31.637224197387695,
          7.604719638824463,
          -1.9146661758422852,
          7.166379451751709,
          26.017162322998047,
          -1.3127858638763428,
          5.106835842132568,
          6.545591354370117,
          -15.457313537597656,
          17.09562873840332,
          17.99753761291504,
          6.225259304046631,
          5.477670669555664,
          6.528683185577393,
          7.104836463928223,
          -2.4425268173217773,
          -1.956154227256775,
          4.567620754241943,
          -11.23745059967041,
          -11.671895027160645,
          -6.544602870941162,
          -6.735837459564209,
          -6.477474212646484,
          6.0417704582214355,
          6.278798580169678,
          6.759687423706055,
          -2.7383291721343994,
          -32.739627838134766,
          -21.94328498840332,
          -11.760353088378906,
          1.8525489568710327,
          2.1422479152679443,
          -11.003247261047363,
          -10.443544387817383,
          -9.815905570983887,
          -31.921239852905273,
          -32.40015411376953,
          -21.208757400512695
         ],
         "xaxis": "x",
         "y": [
          15.369104385375977,
          -19.753986358642578,
          -19.359310150146484,
          0.2465900182723999,
          3.0813753604888916,
          1.8866568803787231,
          -0.22514715790748596,
          0.8990725874900818,
          3.3319783210754395,
          15.782258987426758,
          5.832002639770508,
          5.33315372467041,
          0.20865941047668457,
          0.16725260019302368,
          4.1323137283325195,
          2.5652575492858887,
          1.2500450611114502,
          3.892533302307129,
          23.60456657409668,
          3.402106285095215,
          4.118459701538086,
          6.084621429443359,
          0.4824965000152588,
          -13.390769958496094,
          -0.5229262709617615,
          2.6631579399108887,
          2.689192533493042,
          4.8907599449157715,
          4.3631463050842285,
          1.7671191692352295,
          -12.278522491455078,
          4.522454738616943,
          -24.349952697753906,
          -12.554396629333496,
          -13.142910957336426,
          -17.00763511657715,
          18.2451171875,
          3.9531047344207764,
          -23.430728912353516,
          0.31325072050094604,
          -11.911667823791504,
          17.91193389892578,
          -3.3626344203948975,
          -2.610112428665161,
          -13.581950187683105,
          23.313886642456055,
          17.35430335998535,
          -5.607541561126709,
          -5.42102575302124,
          7.677363872528076,
          -11.481999397277832,
          18.647306442260742,
          14.028380393981934,
          -3.2362515926361084,
          -13.625783920288086,
          22.7703914642334,
          16.681396484375,
          -5.4474263191223145,
          14.743218421936035,
          15.044100761413574,
          -11.358858108520508,
          18.513839721679688,
          19.007518768310547,
          -22.87572479248047,
          -17.35668182373047,
          22.473604202270508,
          16.020015716552734,
          4.385629653930664,
          0.1265483945608139,
          0.5521334409713745,
          2.1526386737823486,
          -11.030661582946777,
          -11.338321685791016,
          -24.329273223876953,
          6.993513584136963,
          7.682888984680176,
          6.329420566558838,
          24.284154891967773,
          5.382742404937744,
          -0.4235819876194,
          3.906450033187866,
          3.3743088245391846,
          8.978926658630371,
          9.2488374710083,
          8.166647911071777,
          6.876893043518066,
          6.659975051879883,
          5.491070747375488,
          5.506936550140381,
          14.987951278686523,
          8.34737491607666,
          4.718905448913574,
          11.75178050994873,
          11.396961212158203,
          0.6188070774078369,
          1.0531145334243774,
          0.9561356902122498,
          14.128758430480957,
          14.872989654541016,
          8.864978790283203,
          15.342840194702148,
          -19.73258399963379,
          -19.073835372924805,
          0.21132971346378326,
          3.339661121368408,
          1.9680697917938232,
          -0.37476837635040283,
          1.00038480758667,
          2.826690912246704,
          15.635405540466309,
          6.109434127807617,
          5.238730430603027,
          0.16046833992004395,
          -0.23192425072193146,
          3.613572597503662,
          2.6933510303497314,
          1.1431587934494019,
          4.462920188903809,
          23.61009407043457,
          3.621227979660034,
          3.5192253589630127,
          5.750509738922119,
          0.5891868472099304,
          -13.658431053161621,
          -0.6596688628196716,
          2.314300775527954,
          2.788896083831787,
          5.05382776260376,
          4.2212233543396,
          1.5345858335494995,
          -12.14081859588623,
          4.284904956817627,
          -24.143783569335938,
          -12.926072120666504,
          -13.630762100219727,
          -17.71923065185547,
          17.904294967651367,
          4.472466945648193,
          -23.784191131591797,
          -0.24131402373313904,
          -11.859210014343262,
          18.47348403930664,
          -3.187293291091919,
          -3.070405960083008,
          -13.168030738830566,
          23.436933517456055,
          17.412797927856445,
          -5.4106125831604,
          -5.979030132293701,
          7.896472930908203,
          -11.199346542358398,
          17.957008361816406,
          13.804268836975098,
          -3.104830741882324,
          -13.309584617614746,
          22.86073875427246,
          16.686172485351562,
          -5.906355381011963,
          14.701241493225098,
          15.282757759094238,
          -10.846267700195312,
          18.77657699584961,
          19.09351348876953,
          -22.91564178466797,
          -17.68977928161621,
          22.287044525146484,
          16.37179183959961,
          4.139133453369141,
          -0.6048777103424072,
          0.8640453219413757,
          2.2049405574798584,
          -11.479106903076172,
          -11.106480598449707,
          -24.454843521118164,
          7.433810234069824,
          7.943960189819336,
          5.77638053894043,
          23.984895706176758,
          4.864907264709473,
          0.14074166119098663,
          3.66921329498291,
          3.4204647541046143,
          9.163321495056152,
          8.693564414978027,
          7.953800678253174,
          7.285201072692871,
          6.542750835418701,
          5.842258453369141,
          5.827891826629639,
          15.512812614440918,
          8.422358512878418,
          4.300487995147705,
          11.958883285522461,
          11.231206893920898,
          0.10889270156621933,
          0.552045464515686,
          1.4133504629135132,
          13.954974174499512,
          14.539532661437988,
          8.939460754394531,
          15.064438819885254,
          -19.84244728088379,
          -19.005725860595703,
          0.10404185950756073,
          3.3268320560455322,
          1.46808922290802,
          -0.4688573479652405,
          0.5649868249893188,
          3.1278235912323,
          14.826910972595215,
          6.467775344848633,
          5.9936347007751465,
          0.8528993129730225,
          0.1399049311876297,
          3.969701051712036,
          2.743635892868042,
          1.1895408630371094,
          4.372180938720703,
          23.801889419555664,
          3.2216267585754395,
          4.275379657745361,
          5.618854999542236,
          0.3890949487686157,
          -13.951510429382324,
          -0.5745746493339539,
          3.0216572284698486,
          3.16681170463562,
          5.207272052764893,
          3.8347227573394775,
          1.4214438199996948,
          -12.37801456451416,
          3.6293563842773438,
          -23.964397430419922,
          -12.630332946777344,
          -13.301229476928711,
          -18.018421173095703,
          18.12495231628418,
          4.214795112609863,
          -23.86563491821289,
          -0.09757180511951447,
          -11.837248802185059,
          18.098541259765625,
          -2.9521801471710205,
          -2.432685136795044,
          -13.765190124511719,
          23.391389846801758,
          17.30193519592285,
          -6.040579795837402,
          -6.003162860870361,
          7.557251453399658,
          -11.600250244140625,
          18.246891021728516,
          13.941154479980469,
          -2.7341463565826416,
          -13.223767280578613,
          22.734128952026367,
          16.950542449951172,
          -5.642104625701904,
          14.31877326965332,
          14.996358871459961,
          -11.063813209533691,
          18.303010940551758,
          18.72957420349121,
          -23.071727752685547,
          -17.29245948791504,
          22.24486541748047,
          16.04352569580078,
          4.323845386505127,
          -0.16659730672836304,
          0.724711537361145,
          2.1151158809661865,
          -10.905384063720703,
          -11.478273391723633,
          -24.806861877441406,
          6.816195487976074,
          7.84340238571167,
          6.103847503662109,
          24.106027603149414,
          5.08998441696167,
          -0.5426809191703796,
          4.040981769561768,
          3.0496909618377686,
          9.440739631652832,
          8.639728546142578,
          8.575913429260254,
          7.2882609367370605,
          6.2539825439453125,
          5.677725315093994,
          5.38864803314209,
          15.326507568359375,
          8.048208236694336,
          4.403258800506592,
          11.97240161895752,
          11.518184661865234,
          0.1955873817205429,
          0.3186936378479004,
          1.3437445163726807,
          13.983344078063965,
          14.56446647644043,
          9.104589462280273,
          15.104925155639648,
          -19.561582565307617,
          -19.242719650268555,
          -0.23339325189590454,
          3.7228899002075195,
          1.6914782524108887,
          -0.6342839598655701,
          0.6241180300712585,
          2.9774153232574463,
          15.164946556091309,
          5.5306525230407715,
          5.534723281860352,
          1.0444512367248535,
          -0.2719383239746094,
          3.902341604232788,
          2.4151740074157715,
          1.3665754795074463,
          4.026525497436523,
          23.979026794433594,
          3.8517708778381348,
          3.919343948364258,
          6.191318988800049,
          0.37733834981918335,
          -14.128738403320312,
          -0.8256542682647705,
          3.1488819122314453,
          3.573451519012451,
          5.0142598152160645,
          4.285586357116699,
          1.4149643182754517,
          -12.560566902160645,
          3.716355562210083,
          -24.41409683227539,
          -12.570752143859863,
          -13.540225982666016,
          -17.54918098449707,
          18.026111602783203,
          4.081235408782959,
          -23.401342391967773,
          0.03709344193339348,
          -11.6768217086792,
          18.590707778930664,
          -3.6301400661468506,
          -2.3132755756378174,
          -12.96611499786377,
          23.21524429321289,
          17.446847915649414,
          -5.041104793548584,
          -6.287644863128662,
          7.478597640991211,
          -10.756649017333984,
          18.814682006835938,
          14.154695510864258,
          -3.1471023559570312,
          -13.080233573913574,
          22.48017120361328,
          16.460277557373047,
          -5.4027204513549805,
          14.297940254211426,
          15.004040718078613,
          -11.713467597961426,
          18.355791091918945,
          18.208959579467773,
          -23.41315269470215,
          -17.581689834594727,
          22.056732177734375,
          15.963061332702637,
          4.316121578216553,
          -0.3985012471675873,
          0.7549071907997131,
          2.4247682094573975,
          -11.724991798400879,
          -11.6969575881958,
          -24.934720993041992,
          7.23492956161499,
          7.931008815765381,
          5.518092155456543,
          24.359359741210938,
          5.067202568054199,
          -0.36290761828422546,
          3.7864460945129395,
          3.195380210876465,
          9.449808120727539,
          8.593962669372559,
          8.252246856689453,
          7.051700592041016,
          6.348926067352295,
          5.5938520431518555,
          5.145278453826904,
          15.346358299255371,
          7.982691287994385,
          4.531977653503418,
          12.032576560974121,
          11.424882888793945,
          0.5248847603797913,
          0.8018131256103516,
          1.2762881517410278,
          14.26489543914795,
          14.898252487182617,
          8.398300170898438
         ],
         "yaxis": "y"
        }
       ],
       "layout": {
        "height": 1000,
        "legend": {
         "title": {
          "text": "color"
         },
         "tracegroupgap": 0
        },
        "template": {
         "data": {
          "bar": [
           {
            "error_x": {
             "color": "#2a3f5f"
            },
            "error_y": {
             "color": "#2a3f5f"
            },
            "marker": {
             "line": {
              "color": "#E5ECF6",
              "width": 0.5
             },
             "pattern": {
              "fillmode": "overlay",
              "size": 10,
              "solidity": 0.2
             }
            },
            "type": "bar"
           }
          ],
          "barpolar": [
           {
            "marker": {
             "line": {
              "color": "#E5ECF6",
              "width": 0.5
             },
             "pattern": {
              "fillmode": "overlay",
              "size": 10,
              "solidity": 0.2
             }
            },
            "type": "barpolar"
           }
          ],
          "carpet": [
           {
            "aaxis": {
             "endlinecolor": "#2a3f5f",
             "gridcolor": "white",
             "linecolor": "white",
             "minorgridcolor": "white",
             "startlinecolor": "#2a3f5f"
            },
            "baxis": {
             "endlinecolor": "#2a3f5f",
             "gridcolor": "white",
             "linecolor": "white",
             "minorgridcolor": "white",
             "startlinecolor": "#2a3f5f"
            },
            "type": "carpet"
           }
          ],
          "choropleth": [
           {
            "colorbar": {
             "outlinewidth": 0,
             "ticks": ""
            },
            "type": "choropleth"
           }
          ],
          "contour": [
           {
            "colorbar": {
             "outlinewidth": 0,
             "ticks": ""
            },
            "colorscale": [
             [
              0,
              "#0d0887"
             ],
             [
              0.1111111111111111,
              "#46039f"
             ],
             [
              0.2222222222222222,
              "#7201a8"
             ],
             [
              0.3333333333333333,
              "#9c179e"
             ],
             [
              0.4444444444444444,
              "#bd3786"
             ],
             [
              0.5555555555555556,
              "#d8576b"
             ],
             [
              0.6666666666666666,
              "#ed7953"
             ],
             [
              0.7777777777777778,
              "#fb9f3a"
             ],
             [
              0.8888888888888888,
              "#fdca26"
             ],
             [
              1,
              "#f0f921"
             ]
            ],
            "type": "contour"
           }
          ],
          "contourcarpet": [
           {
            "colorbar": {
             "outlinewidth": 0,
             "ticks": ""
            },
            "type": "contourcarpet"
           }
          ],
          "heatmap": [
           {
            "colorbar": {
             "outlinewidth": 0,
             "ticks": ""
            },
            "colorscale": [
             [
              0,
              "#0d0887"
             ],
             [
              0.1111111111111111,
              "#46039f"
             ],
             [
              0.2222222222222222,
              "#7201a8"
             ],
             [
              0.3333333333333333,
              "#9c179e"
             ],
             [
              0.4444444444444444,
              "#bd3786"
             ],
             [
              0.5555555555555556,
              "#d8576b"
             ],
             [
              0.6666666666666666,
              "#ed7953"
             ],
             [
              0.7777777777777778,
              "#fb9f3a"
             ],
             [
              0.8888888888888888,
              "#fdca26"
             ],
             [
              1,
              "#f0f921"
             ]
            ],
            "type": "heatmap"
           }
          ],
          "heatmapgl": [
           {
            "colorbar": {
             "outlinewidth": 0,
             "ticks": ""
            },
            "colorscale": [
             [
              0,
              "#0d0887"
             ],
             [
              0.1111111111111111,
              "#46039f"
             ],
             [
              0.2222222222222222,
              "#7201a8"
             ],
             [
              0.3333333333333333,
              "#9c179e"
             ],
             [
              0.4444444444444444,
              "#bd3786"
             ],
             [
              0.5555555555555556,
              "#d8576b"
             ],
             [
              0.6666666666666666,
              "#ed7953"
             ],
             [
              0.7777777777777778,
              "#fb9f3a"
             ],
             [
              0.8888888888888888,
              "#fdca26"
             ],
             [
              1,
              "#f0f921"
             ]
            ],
            "type": "heatmapgl"
           }
          ],
          "histogram": [
           {
            "marker": {
             "pattern": {
              "fillmode": "overlay",
              "size": 10,
              "solidity": 0.2
             }
            },
            "type": "histogram"
           }
          ],
          "histogram2d": [
           {
            "colorbar": {
             "outlinewidth": 0,
             "ticks": ""
            },
            "colorscale": [
             [
              0,
              "#0d0887"
             ],
             [
              0.1111111111111111,
              "#46039f"
             ],
             [
              0.2222222222222222,
              "#7201a8"
             ],
             [
              0.3333333333333333,
              "#9c179e"
             ],
             [
              0.4444444444444444,
              "#bd3786"
             ],
             [
              0.5555555555555556,
              "#d8576b"
             ],
             [
              0.6666666666666666,
              "#ed7953"
             ],
             [
              0.7777777777777778,
              "#fb9f3a"
             ],
             [
              0.8888888888888888,
              "#fdca26"
             ],
             [
              1,
              "#f0f921"
             ]
            ],
            "type": "histogram2d"
           }
          ],
          "histogram2dcontour": [
           {
            "colorbar": {
             "outlinewidth": 0,
             "ticks": ""
            },
            "colorscale": [
             [
              0,
              "#0d0887"
             ],
             [
              0.1111111111111111,
              "#46039f"
             ],
             [
              0.2222222222222222,
              "#7201a8"
             ],
             [
              0.3333333333333333,
              "#9c179e"
             ],
             [
              0.4444444444444444,
              "#bd3786"
             ],
             [
              0.5555555555555556,
              "#d8576b"
             ],
             [
              0.6666666666666666,
              "#ed7953"
             ],
             [
              0.7777777777777778,
              "#fb9f3a"
             ],
             [
              0.8888888888888888,
              "#fdca26"
             ],
             [
              1,
              "#f0f921"
             ]
            ],
            "type": "histogram2dcontour"
           }
          ],
          "mesh3d": [
           {
            "colorbar": {
             "outlinewidth": 0,
             "ticks": ""
            },
            "type": "mesh3d"
           }
          ],
          "parcoords": [
           {
            "line": {
             "colorbar": {
              "outlinewidth": 0,
              "ticks": ""
             }
            },
            "type": "parcoords"
           }
          ],
          "pie": [
           {
            "automargin": true,
            "type": "pie"
           }
          ],
          "scatter": [
           {
            "fillpattern": {
             "fillmode": "overlay",
             "size": 10,
             "solidity": 0.2
            },
            "type": "scatter"
           }
          ],
          "scatter3d": [
           {
            "line": {
             "colorbar": {
              "outlinewidth": 0,
              "ticks": ""
             }
            },
            "marker": {
             "colorbar": {
              "outlinewidth": 0,
              "ticks": ""
             }
            },
            "type": "scatter3d"
           }
          ],
          "scattercarpet": [
           {
            "marker": {
             "colorbar": {
              "outlinewidth": 0,
              "ticks": ""
             }
            },
            "type": "scattercarpet"
           }
          ],
          "scattergeo": [
           {
            "marker": {
             "colorbar": {
              "outlinewidth": 0,
              "ticks": ""
             }
            },
            "type": "scattergeo"
           }
          ],
          "scattergl": [
           {
            "marker": {
             "colorbar": {
              "outlinewidth": 0,
              "ticks": ""
             }
            },
            "type": "scattergl"
           }
          ],
          "scattermapbox": [
           {
            "marker": {
             "colorbar": {
              "outlinewidth": 0,
              "ticks": ""
             }
            },
            "type": "scattermapbox"
           }
          ],
          "scatterpolar": [
           {
            "marker": {
             "colorbar": {
              "outlinewidth": 0,
              "ticks": ""
             }
            },
            "type": "scatterpolar"
           }
          ],
          "scatterpolargl": [
           {
            "marker": {
             "colorbar": {
              "outlinewidth": 0,
              "ticks": ""
             }
            },
            "type": "scatterpolargl"
           }
          ],
          "scatterternary": [
           {
            "marker": {
             "colorbar": {
              "outlinewidth": 0,
              "ticks": ""
             }
            },
            "type": "scatterternary"
           }
          ],
          "surface": [
           {
            "colorbar": {
             "outlinewidth": 0,
             "ticks": ""
            },
            "colorscale": [
             [
              0,
              "#0d0887"
             ],
             [
              0.1111111111111111,
              "#46039f"
             ],
             [
              0.2222222222222222,
              "#7201a8"
             ],
             [
              0.3333333333333333,
              "#9c179e"
             ],
             [
              0.4444444444444444,
              "#bd3786"
             ],
             [
              0.5555555555555556,
              "#d8576b"
             ],
             [
              0.6666666666666666,
              "#ed7953"
             ],
             [
              0.7777777777777778,
              "#fb9f3a"
             ],
             [
              0.8888888888888888,
              "#fdca26"
             ],
             [
              1,
              "#f0f921"
             ]
            ],
            "type": "surface"
           }
          ],
          "table": [
           {
            "cells": {
             "fill": {
              "color": "#EBF0F8"
             },
             "line": {
              "color": "white"
             }
            },
            "header": {
             "fill": {
              "color": "#C8D4E3"
             },
             "line": {
              "color": "white"
             }
            },
            "type": "table"
           }
          ]
         },
         "layout": {
          "annotationdefaults": {
           "arrowcolor": "#2a3f5f",
           "arrowhead": 0,
           "arrowwidth": 1
          },
          "autotypenumbers": "strict",
          "coloraxis": {
           "colorbar": {
            "outlinewidth": 0,
            "ticks": ""
           }
          },
          "colorscale": {
           "diverging": [
            [
             0,
             "#8e0152"
            ],
            [
             0.1,
             "#c51b7d"
            ],
            [
             0.2,
             "#de77ae"
            ],
            [
             0.3,
             "#f1b6da"
            ],
            [
             0.4,
             "#fde0ef"
            ],
            [
             0.5,
             "#f7f7f7"
            ],
            [
             0.6,
             "#e6f5d0"
            ],
            [
             0.7,
             "#b8e186"
            ],
            [
             0.8,
             "#7fbc41"
            ],
            [
             0.9,
             "#4d9221"
            ],
            [
             1,
             "#276419"
            ]
           ],
           "sequential": [
            [
             0,
             "#0d0887"
            ],
            [
             0.1111111111111111,
             "#46039f"
            ],
            [
             0.2222222222222222,
             "#7201a8"
            ],
            [
             0.3333333333333333,
             "#9c179e"
            ],
            [
             0.4444444444444444,
             "#bd3786"
            ],
            [
             0.5555555555555556,
             "#d8576b"
            ],
            [
             0.6666666666666666,
             "#ed7953"
            ],
            [
             0.7777777777777778,
             "#fb9f3a"
            ],
            [
             0.8888888888888888,
             "#fdca26"
            ],
            [
             1,
             "#f0f921"
            ]
           ],
           "sequentialminus": [
            [
             0,
             "#0d0887"
            ],
            [
             0.1111111111111111,
             "#46039f"
            ],
            [
             0.2222222222222222,
             "#7201a8"
            ],
            [
             0.3333333333333333,
             "#9c179e"
            ],
            [
             0.4444444444444444,
             "#bd3786"
            ],
            [
             0.5555555555555556,
             "#d8576b"
            ],
            [
             0.6666666666666666,
             "#ed7953"
            ],
            [
             0.7777777777777778,
             "#fb9f3a"
            ],
            [
             0.8888888888888888,
             "#fdca26"
            ],
            [
             1,
             "#f0f921"
            ]
           ]
          },
          "colorway": [
           "#636efa",
           "#EF553B",
           "#00cc96",
           "#ab63fa",
           "#FFA15A",
           "#19d3f3",
           "#FF6692",
           "#B6E880",
           "#FF97FF",
           "#FECB52"
          ],
          "font": {
           "color": "#2a3f5f"
          },
          "geo": {
           "bgcolor": "white",
           "lakecolor": "white",
           "landcolor": "#E5ECF6",
           "showlakes": true,
           "showland": true,
           "subunitcolor": "white"
          },
          "hoverlabel": {
           "align": "left"
          },
          "hovermode": "closest",
          "mapbox": {
           "style": "light"
          },
          "paper_bgcolor": "white",
          "plot_bgcolor": "#E5ECF6",
          "polar": {
           "angularaxis": {
            "gridcolor": "white",
            "linecolor": "white",
            "ticks": ""
           },
           "bgcolor": "#E5ECF6",
           "radialaxis": {
            "gridcolor": "white",
            "linecolor": "white",
            "ticks": ""
           }
          },
          "scene": {
           "xaxis": {
            "backgroundcolor": "#E5ECF6",
            "gridcolor": "white",
            "gridwidth": 2,
            "linecolor": "white",
            "showbackground": true,
            "ticks": "",
            "zerolinecolor": "white"
           },
           "yaxis": {
            "backgroundcolor": "#E5ECF6",
            "gridcolor": "white",
            "gridwidth": 2,
            "linecolor": "white",
            "showbackground": true,
            "ticks": "",
            "zerolinecolor": "white"
           },
           "zaxis": {
            "backgroundcolor": "#E5ECF6",
            "gridcolor": "white",
            "gridwidth": 2,
            "linecolor": "white",
            "showbackground": true,
            "ticks": "",
            "zerolinecolor": "white"
           }
          },
          "shapedefaults": {
           "line": {
            "color": "#2a3f5f"
           }
          },
          "ternary": {
           "aaxis": {
            "gridcolor": "white",
            "linecolor": "white",
            "ticks": ""
           },
           "baxis": {
            "gridcolor": "white",
            "linecolor": "white",
            "ticks": ""
           },
           "bgcolor": "#E5ECF6",
           "caxis": {
            "gridcolor": "white",
            "linecolor": "white",
            "ticks": ""
           }
          },
          "title": {
           "x": 0.05
          },
          "xaxis": {
           "automargin": true,
           "gridcolor": "white",
           "linecolor": "white",
           "ticks": "",
           "title": {
            "standoff": 15
           },
           "zerolinecolor": "white",
           "zerolinewidth": 2
          },
          "yaxis": {
           "automargin": true,
           "gridcolor": "white",
           "linecolor": "white",
           "ticks": "",
           "title": {
            "standoff": 15
           },
           "zerolinecolor": "white",
           "zerolinewidth": 2
          }
         }
        },
        "title": {
         "text": "PCA=False (100) - UMAP (n_neighbors=30, min_dist=1, n_components=2, metric=cosine)"
        },
        "width": 1500,
        "xaxis": {
         "anchor": "y",
         "domain": [
          0,
          1
         ],
         "title": {
          "text": "x"
         }
        },
        "yaxis": {
         "anchor": "x",
         "domain": [
          0,
          1
         ],
         "title": {
          "text": "y"
         }
        }
       }
      }
     },
     "metadata": {},
     "output_type": "display_data"
    }
   ],
   "source": [
    "diplay_features(\n",
    "        latents,\n",
    "        labs,\n",
    "        include_pca=False,\n",
    "        pca_nb_components=100,\n",
    "        clustering=False,\n",
    "        nb_clusters=6,\n",
    "        nb_neighbor=30,\n",
    "        min_dist=1,\n",
    "        nb_components=2,\n",
    "        metric='cosine'\n",
    "    )"
   ]
  },
  {
   "cell_type": "code",
   "execution_count": 8,
   "metadata": {},
   "outputs": [
    {
     "data": {
      "image/png": "[encoded data removed]",
      "text/plain": [
       "<Figure size 4500x1500 with 2 Axes>"
      ]
     },
     "metadata": {},
     "output_type": "display_data"
    }
   ],
   "source": [
    "test_similarity_matrix = euclidean_distances(mean_ref, new_img_embs)\n",
    "test_similarity_matrix_normalized = (test_similarity_matrix - np.min(test_similarity_matrix)) / (np.max(test_similarity_matrix) - np.min(test_similarity_matrix))\n",
    "plt.figure(figsize=(15,5),dpi=300)\n",
    "sns.heatmap(test_similarity_matrix_normalized, yticklabels=mean_labs, cmap='Reds')\n",
    "plt.title(f'Distance matrix New image - References - {model_size} DINOv2 - Data augmentation: {data_aug}')\n",
    "plt.xlabel('Image patches')\n",
    "plt.ylabel('Reference embeddings')\n",
    "plt.show()"
   ]
  },
  {
   "cell_type": "markdown",
   "metadata": {},
   "source": [
    "# Testing loop"
   ]
  },
  {
   "cell_type": "code",
   "execution_count": 18,
   "metadata": {},
   "outputs": [],
   "source": [
    "one_hot_neurotransmitters = np.zeros((len(neurotransmitters),len(neurotransmitters))) + np.identity(len(neurotransmitters))\n",
    "emb_labels = np.hstack([[labels[i+1]]*240000 for i in range(0, 3600, 600)]).reshape(-1,1)"
   ]
  },
  {
   "cell_type": "code",
   "execution_count": 75,
   "metadata": {},
   "outputs": [],
   "source": [
    "new_embeddings = torch.load('Embeddings/g_embs_140_140.pt')"
   ]
  },
  {
   "cell_type": "code",
   "execution_count": 11,
   "metadata": {},
   "outputs": [
    {
     "name": "stdout",
     "output_type": "stream",
     "text": [
      "Precomputing embeddings\n"
     ]
    },
    {
     "name": "stderr",
     "output_type": "stream",
     "text": [
      "100%|██████████| 144/144 [1:59:23<00:00, 49.75s/it]\n"
     ]
    }
   ],
   "source": [
    "'''\n",
    "images = np.array([load_image(file)[0] for file in tqdm(files, desc='Loading images')]).transpose(0,2,3,1)\n",
    "\n",
    "few_shot.pre_compute_embeddings(\n",
    "        images,  # Pass numpy array of images\n",
    "        overlap=(0.5, 0.5),\n",
    "        padding=(0, 0),\n",
    "        crop_shape=(140, 140, 1),\n",
    "        verbose=True,\n",
    "        batch_size=100\n",
    "        )\n",
    "\n",
    "new_embeddings = few_shot.get_embs().reshape(-1, feat_dim)\n",
    "'''"
   ]
  },
  {
   "cell_type": "code",
   "execution_count": 39,
   "metadata": {},
   "outputs": [
    {
     "name": "stderr",
     "output_type": "stream",
     "text": [
      "1440000it [00:05, 261627.77it/s]\n"
     ]
    }
   ],
   "source": [
    "score_lists = [[],[],[],[],[],[]]\n",
    "\n",
    "similarity_matrix = euclidean_distances(mean_ref, new_embeddings)\n",
    "similarity_matrix_normalized = (similarity_matrix - np.min(similarity_matrix)) / (np.max(similarity_matrix) - np.min(similarity_matrix))\n",
    "\n",
    "distance_threshold = 0.05\n",
    "similarity_matrix_normalized_filtered = np.where(similarity_matrix_normalized <= distance_threshold, similarity_matrix_normalized, 0)\n",
    "\n",
    "for i, label in tqdm(enumerate(emb_labels)):\n",
    "\n",
    "    column = similarity_matrix_normalized_filtered[:,i]\n",
    "\n",
    "    if sum(column) == 0:\n",
    "        pass\n",
    "    else:\n",
    "        patch_wise_distances_filtered = np.where(column == 0, 1, column)\n",
    "\n",
    "        output_class = one_hot_neurotransmitters[np.argmin(patch_wise_distances_filtered)]\n",
    "\n",
    "        gt_index = neurotransmitters.index(label)\n",
    "        ground_truth = one_hot_neurotransmitters[gt_index]\n",
    "        score = np.sum(output_class*ground_truth)\n",
    "        score_lists[gt_index].append(score)"
   ]
  },
  {
   "cell_type": "code",
   "execution_count": 40,
   "metadata": {},
   "outputs": [
    {
     "data": {
      "image/png": "[encoded data removed]",
      "text/plain": [
       "<Figure size 3600x2100 with 1 Axes>"
      ]
     },
     "metadata": {},
     "output_type": "display_data"
    }
   ],
   "source": [
    "accuracies = [np.mean(scores)*100 for scores in score_lists]\n",
    "\n",
    "plt.figure(figsize=(12,7), dpi=300)\n",
    "plt.bar(neurotransmitters, accuracies)\n",
    "plt.xlabel('Classes')\n",
    "plt.ylabel('Mean hard accuracy')\n",
    "plt.title(f'Mean hard accuracies across classes - {model_size} DINOv2 - 140x140 images - Threshold = {distance_threshold} - Data augmentation: {data_aug}')\n",
    "plt.axhline(np.mean(accuracies), color='r', linestyle='--', label='Average')\n",
    "plt.axhline(y=(100/6), color='b', linestyle='--', label='Randomness')\n",
    "plt.legend()\n",
    "ax = plt.gca()\n",
    "ax.set_ylim([0,110])\n",
    "plt.show()"
   ]
  },
  {
   "cell_type": "code",
   "execution_count": 72,
   "metadata": {},
   "outputs": [
    {
     "name": "stderr",
     "output_type": "stream",
     "text": [
      "  0%|          | 0/39 [00:00<?, ?it/s]/home/tomwelch/anaconda3/lib/python3.12/site-packages/numpy/core/fromnumeric.py:3504: RuntimeWarning:\n",
      "\n",
      "Mean of empty slice.\n",
      "\n",
      "/home/tomwelch/anaconda3/lib/python3.12/site-packages/numpy/core/_methods.py:129: RuntimeWarning:\n",
      "\n",
      "invalid value encountered in scalar divide\n",
      "\n",
      "100%|██████████| 39/39 [07:41<00:00, 11.84s/it]\n"
     ]
    }
   ],
   "source": [
    "score_lists = [[],[],[],[],[],[]]\n",
    "mean_accuracies_list, included_list = [], []\n",
    "\n",
    "similarity_matrix = euclidean_distances(mean_ref, new_embeddings)\n",
    "similarity_matrix_normalized = (similarity_matrix - np.min(similarity_matrix)) / (np.max(similarity_matrix) - np.min(similarity_matrix))\n",
    "\n",
    "for distance_threshold in tqdm(np.arange(0.05, 1.025, 0.025)): \n",
    "\n",
    "    similarity_matrix_normalized_filtered = np.where(similarity_matrix_normalized <= distance_threshold, similarity_matrix_normalized, 0)\n",
    "    \n",
    "    included_list.append(len(np.where(similarity_matrix_normalized_filtered !=0)[0]))\n",
    "\n",
    "    for i, label in enumerate(emb_labels):\n",
    "\n",
    "        column = similarity_matrix_normalized_filtered[:,i]\n",
    "\n",
    "        if sum(column) == 0:\n",
    "            pass\n",
    "        else:\n",
    "            patch_wise_distances_filtered = np.where(column == 0, 1, column)\n",
    "\n",
    "            output_class = one_hot_neurotransmitters[np.argmin(patch_wise_distances_filtered)]\n",
    "\n",
    "            gt_index = neurotransmitters.index(label)\n",
    "            ground_truth = one_hot_neurotransmitters[gt_index]\n",
    "            score = np.sum(output_class*ground_truth)\n",
    "            score_lists[gt_index].append(score)\n",
    "\n",
    "    mean_accuracies_list.append(np.mean([np.mean(scores)*100 for scores in score_lists]))\n",
    "    \n",
    "included_list = [inclusion*600/(400*len(files)) for inclusion in included_list]"
   ]
  },
  {
   "cell_type": "code",
   "execution_count": 63,
   "metadata": {},
   "outputs": [
    {
     "name": "stderr",
     "output_type": "stream",
     "text": [
      "/tmp/ipykernel_1573047/4228936473.py:6: UserWarning:\n",
      "\n",
      "No artists with labels found to put in legend.  Note that artists whose label start with an underscore are ignored when legend() is called with no argument.\n",
      "\n"
     ]
    },
    {
     "data": {
      "image/png": "[encoded data removed]",
      "text/plain": [
       "<Figure size 1200x700 with 1 Axes>"
      ]
     },
     "metadata": {},
     "output_type": "display_data"
    }
   ],
   "source": [
    "plt.figure(figsize=(12,7), dpi=100)\n",
    "plt.plot([i for i in np.arange(0.05, 1.025, 0.025)], mean_accuracies_list)\n",
    "plt.xlabel('Thresholds')\n",
    "plt.ylabel('Mean hard accuracy')\n",
    "plt.title(f'Mean hard accuracies per distance threshold - {model_size} DINOv2 - 140x140 images - Data augmentation: {data_aug}')\n",
    "ax = plt.gca()\n",
    "ax.set_ylim([0,110])\n",
    "plt.show()"
   ]
  },
  {
   "cell_type": "code",
   "execution_count": 74,
   "metadata": {},
   "outputs": [
    {
     "data": {
      "image/png": "[encoded data removed]",
      "text/plain": [
       "<Figure size 1200x700 with 1 Axes>"
      ]
     },
     "metadata": {},
     "output_type": "display_data"
    }
   ],
   "source": [
    "plt.figure(figsize=(12,7), dpi=100)\n",
    "plt.plot([i for i in np.arange(0.05, 1.025, 0.025)], included_list)\n",
    "plt.xlabel('Thresholds')\n",
    "plt.ylabel('Percentage included')\n",
    "plt.title(f'Percentage of patches included per distance threshold - {model_size} DINOv2 - 140x140 images - Data augmentation: {data_aug}')\n",
    "ax = plt.gca()\n",
    "ax.set_ylim([0,110])\n",
    "plt.show()"
   ]
  }
 ],
 "metadata": {
  "kernelspec": {
   "display_name": "base",
   "language": "python",
   "name": "python3"
  },
  "language_info": {
   "codemirror_mode": {
    "name": "ipython",
    "version": 3
   },
   "file_extension": ".py",
   "mimetype": "text/x-python",
   "name": "python",
   "nbconvert_exporter": "python",
   "pygments_lexer": "ipython3",
   "version": "3.12.2"
  }
 },
 "nbformat": 4,
 "nbformat_minor": 2
}
