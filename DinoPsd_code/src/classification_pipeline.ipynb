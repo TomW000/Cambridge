{
 "cells": [
  {
   "cell_type": "markdown",
   "id": "36f0924a",
   "metadata": {},
   "source": [
    "# Imports"
   ]
  },
  {
   "cell_type": "code",
   "execution_count": null,
   "id": "8d004fbf",
   "metadata": {},
   "outputs": [],
   "source": [
    "from setup import neurotransmitters, model_size, device, feat_dim, resize_size, curated_idx, few_shot_transforms,  embeddings_path, model\n",
    "from setup import tqdm, torch, np, os, plt, tqdm, gc, sample\n",
    "from analysis_utils import display_hdf_image_grid, resize_hdf_image, get_augmented_coordinates\n",
    "from setup import cosine_similarity, euclidean_distances\n",
    "from perso_utils import get_fnames, load_image, get_latents\n",
    "from DinoPsd import DinoPsd_pipeline\n",
    "from DinoPsd_utils import get_img_processing_f"
   ]
  },
  {
   "cell_type": "markdown",
   "id": "42fba314",
   "metadata": {},
   "source": [
    "### Importing model"
   ]
  },
  {
   "cell_type": "code",
   "execution_count": null,
   "id": "258e6be1",
   "metadata": {},
   "outputs": [],
   "source": [
    "few_shot = DinoPsd_pipeline(model,\n",
    "                            model.patch_size,\n",
    "                            device,\n",
    "                            get_img_processing_f(resize_size),\n",
    "                            feat_dim, \n",
    "                            dino_image_size=resize_size\n",
    "                            )\n",
    "\n",
    "files, labels = zip(*get_fnames()) "
   ]
  },
  {
   "cell_type": "code",
   "execution_count": null,
   "id": "4094ec5a",
   "metadata": {},
   "outputs": [],
   "source": [
    "#mean_refs = compute_ref_embeddings(True, os.path.join(embeddings_path, 'giant_mean_ref_518_Aug=False_k=10'))\n",
    "#mean_refs = compute_ref_embeddings(False)"
   ]
  },
  {
   "cell_type": "code",
   "execution_count": null,
   "id": "c753b8e6",
   "metadata": {},
   "outputs": [],
   "source": [
    "'''\n",
    "def compute_ref_embeddings(saved_ref_embeddings=False, \n",
    "                           embs_path=None, \n",
    "                           k=10,\n",
    "                           data_aug=True):\n",
    "\n",
    "    if saved_ref_embeddings:\n",
    "        \n",
    "        mean_ref = torch.load(embs_path)\n",
    "\n",
    "    else:\n",
    "\n",
    "        if data_aug:    \n",
    "            nb_transformations = len(few_shot_transforms)\n",
    "            \n",
    "            # Preload images and metadata once\n",
    "            good_images = []\n",
    "            transformed_coordinates = []\n",
    "\n",
    "            for idx in curated_idx:\n",
    "                img, coord_x, coord_y = load_image(files[idx])\n",
    "                good_images.append(img.transpose(1,2,0))\n",
    "                transformed_coordinates.append([(0, coord_x, coord_y)] * nb_transformations)\n",
    "\n",
    "            transformed_images = []\n",
    "            for image in good_images:\n",
    "                transformed = [t(image).permute(1,2,0) for t in few_shot_transforms]\n",
    "                transformed_images.extend(transformed)\n",
    "\n",
    "            for j, img in enumerate(transformed_images):\n",
    "                if img.shape != torch.Size([130, 130, 1]):\n",
    "                    h, w = img.shape[:2]\n",
    "                    h_diff = (130 - h) // 2\n",
    "                    w_diff = (130 - w) // 2\n",
    "                    padded_img = torch.zeros(130, 130, 1)\n",
    "                    padded_img[h_diff:h+h_diff, w_diff:w+w_diff, :] = img\n",
    "                    transformed_images[j] = padded_img\n",
    "                    \n",
    "            batch_size = int(len(curated_idx)/len(neurotransmitters)*nb_transformations) # nb of images in per class\n",
    "            good_datasets = [transformed_images[i:i+batch_size] for i in range(0,len(transformed_images),batch_size)]\n",
    "            good_datasets = np.array(good_datasets)\n",
    "            \n",
    "            transformed_coordinates = np.vstack(transformed_coordinates)\n",
    "            good_coordinates = [transformed_coordinates[i:i+batch_size] for i in range(0,len(transformed_coordinates),batch_size)]\n",
    "\n",
    "        else:\n",
    "\n",
    "            imgs_coords = [load_image(files[idx]) for idx in curated_idx]\n",
    "            imgs, xs, ys = zip(*imgs_coords)\n",
    "\n",
    "            batch_size = int(len(curated_idx)/len(neurotransmitters))\n",
    "            imgs = [imgs[i:i+batch_size] for i in range(0,len(imgs),batch_size)]\n",
    "            good_datasets = np.array(imgs).transpose(0,1,3,4,2)\n",
    "            \n",
    "            good_coordinates = [(0, x, y) for x, y in zip(xs, ys)]\n",
    "            good_coordinates = [good_coordinates[i:i+batch_size] for i in range(0,len(good_coordinates),batch_size)]\n",
    "            good_coordinates = np.array(good_coordinates)\n",
    "\n",
    "\n",
    "        unfiltered_ref_latents_list, filtered_latent_list, filtered_label_list = [], [], []\n",
    "        for dataset, batch_label, coordinates in tqdm(zip(good_datasets, neurotransmitters, good_coordinates), desc='Iterating through neurotransmitters'):\n",
    "            \n",
    "            # Pre-compute embeddings\n",
    "            few_shot.pre_compute_embeddings(\n",
    "                dataset,  # Pass numpy array of images\n",
    "                overlap=(0.5, 0.5),\n",
    "                padding=(0, 0),\n",
    "                crop_shape=(518, 518, 1),\n",
    "                verbose=True,\n",
    "                batch_size=10\n",
    "            )\n",
    "            \n",
    "            # Set reference vectors\n",
    "            few_shot.set_reference_vector(coordinates, filter=None)\n",
    "            ref = few_shot.get_refs()\n",
    "            \n",
    "            # Get closest elements - using the correct method name\n",
    "            close_embedding =  few_shot.get_k_closest_elements(k=k)\n",
    "            k_labels =  [batch_label for _ in range(k)]\n",
    "\n",
    "            \n",
    "            # Convert to numpy for storing\n",
    "            close_embedding_np = close_embedding.cpu().numpy() if isinstance(close_embedding, torch.Tensor) else close_embedding\n",
    "            \n",
    "            filtered_latent_list.append(close_embedding_np)\n",
    "            filtered_label_list.append(k_labels)\n",
    "            \n",
    "            # Clean up to free memory\n",
    "            few_shot.delete_precomputed_embeddings()\n",
    "            few_shot.delete_references()\n",
    "\n",
    "        mean_ref = torch.from_numpy(np.vstack([np.mean(l, axis=0) for l in filtered_latent_list]))\n",
    "        # Stack all embeddings and labels\n",
    "        ref_latents = np.vstack(filtered_latent_list)\n",
    "        ref_labels = np.hstack(filtered_label_list)\n",
    "        \n",
    "        torch.save(mean_ref, os.path.join(dataset_path, f'{model_size}_mean_ref_{resize_size}_Aug={data_aug}_k={k}'))\n",
    "        torch.save(ref_latents, os.path.join(dataset_path, f'{model_size}_ref_latents_{resize_size}_Aug={data_aug}_k={k}'))\n",
    "        torch.save(ref_labels, os.path.join(dataset_path, f'{model_size}_ref_labels_{resize_size}_Aug={data_aug}_k={k}'))\n",
    "'''"
   ]
  },
  {
   "cell_type": "markdown",
   "id": "43eb7274",
   "metadata": {},
   "source": [
    "------------------------------------------------------------------------------------------------------------------------------------------------------------------------------------\n",
    "\n",
    "# Generate Ground-truth"
   ]
  },
  {
   "cell_type": "code",
   "execution_count": null,
   "id": "cc9869a0",
   "metadata": {},
   "outputs": [],
   "source": [
    "#one_hot_neurotransmitters = np.eye(len(neurotransmitters))\n",
    "#emb_labels = np.hstack([[neuro]*int((resize_size/14)**2 * 600) for neuro in neurotransmitters]).reshape(-1,1)"
   ]
  },
  {
   "cell_type": "markdown",
   "id": "a859a151",
   "metadata": {},
   "source": [
    "------------------------------------------------------------------------------------------------------------------------------------------------------------------------------------\n",
    "\n",
    "# Compute Datasetwide Embeddings"
   ]
  },
  {
   "cell_type": "code",
   "execution_count": null,
   "id": "3b7ecbdf",
   "metadata": {},
   "outputs": [],
   "source": [
    "#new_embeddings = compute_embeddings()\n",
    "#new_embeddings = torch.load(os.path.join(embeddings_path, 'small_dataset_embs_518.pt')) # takes ~ 45 s"
   ]
  },
  {
   "cell_type": "markdown",
   "id": "fbef9b0c",
   "metadata": {},
   "source": [
    "------------------------------------------------------------------------------------------------------------------------------------------------------------------------------------\n",
    "\n",
    "# Compute class-wise accuracies"
   ]
  },
  {
   "cell_type": "code",
   "execution_count": null,
   "id": "26d39697",
   "metadata": {},
   "outputs": [],
   "source": [
    "'''\n",
    "from analysis_utils import get_threshold\n",
    "\n",
    "def compute_accuracies(reference_embeddings = mean_refs, \n",
    "                       embeddings = new_embeddings,\n",
    "                       metric = euclidean_distances,\n",
    "                       distance_threshold = 0.01\n",
    "                       ):\n",
    "\n",
    "    batch_size = int(len(embeddings)/6)\n",
    "\n",
    "    for n, i in tqdm(enumerate(range(0, len(embeddings), batch_size))):\n",
    "        batch = embeddings[i:i+batch_size]\n",
    "\n",
    "        #embeddings = embeddings.reshape(-1, feat_dim)\n",
    "        similarity_matrix = metric(reference_embeddings, batch)\n",
    "        similarity_matrix_normalized = (similarity_matrix - np.min(similarity_matrix)) / (np.max(similarity_matrix) - np.min(similarity_matrix))\n",
    "        threshold = get_threshold(similarity_matrix_normalized, 0.9)\n",
    "        similarity_matrix_normalized_filtered = np.where(similarity_matrix_normalized <= threshold, similarity_matrix_normalized, 0)\n",
    "\n",
    "        batch_score_list = []\n",
    "        for k in range(batch_size):\n",
    "\n",
    "            column = similarity_matrix_normalized_filtered[:,k]\n",
    "            j=0\n",
    "            if sum(column) == 0:\n",
    "                j+=1\n",
    "            else:\n",
    "                patch_wise_distances_filtered = np.where(column == 0, 1, column)\n",
    "                output_class = one_hot_neurotransmitters[np.argmin(patch_wise_distances_filtered)]\n",
    "                gt_index = n\n",
    "                ground_truth = one_hot_neurotransmitters[gt_index]\n",
    "                score = np.sum(output_class*ground_truth)\n",
    "                batch_score_list.append(score)\n",
    "                \n",
    "        yield batch_score_list\n",
    "\n",
    "g = compute_accuracies()\n",
    "score_list = []\n",
    "\n",
    "for _ in range(6): score_list.append(next(g))\n",
    "\n",
    "accuracies = [np.mean(scores)*100 for scores in score_list]\n",
    "#print(f'{j} embeddings did not pass the threshold')\n",
    "#return accuracies\n",
    "'''"
   ]
  },
  {
   "cell_type": "markdown",
   "id": "4d6871dd",
   "metadata": {},
   "source": [
    "------------------------------------------------------------------------------------------------------------------------------------------------------------------------------------\n",
    "\n",
    "# Plot results"
   ]
  },
  {
   "cell_type": "code",
   "execution_count": null,
   "id": "cb0e6cb5",
   "metadata": {},
   "outputs": [],
   "source": [
    "'''\n",
    "plt.figure(figsize=(12,7), dpi=300)\n",
    "plt.bar(neurotransmitters, accuracies)\n",
    "plt.xlabel('Classes')\n",
    "plt.ylabel('Mean hard accuracy')\n",
    "#plt.title(f'Mean hard accuracies across classes - {model_size} DINOv2 - 140x140 images - Threshold = {distance_threshold} - Data augmentation: {data_aug}')\n",
    "plt.axhline(np.mean(accuracies), color='r', linestyle='--', label='Average')\n",
    "plt.axhline(y=(100/6), color='b', linestyle='--', label='Randomness')\n",
    "plt.legend()\n",
    "ax = plt.gca()\n",
    "ax.set_ylim([0,110])\n",
    "plt.show()\n",
    "'''"
   ]
  },
  {
   "cell_type": "markdown",
   "id": "2524483d",
   "metadata": {},
   "source": [
    "============================================================================================================================================================================================================================="
   ]
  },
  {
   "cell_type": "markdown",
   "id": "2b7510ba",
   "metadata": {},
   "source": [
    "============================================================================================================================================================================================================================="
   ]
  },
  {
   "cell_type": "code",
   "execution_count": null,
   "id": "de2429f0",
   "metadata": {},
   "outputs": [],
   "source": [
    "from Fine_Tuning.Neuro_Classification.Neuro_Classification_Head import head"
   ]
  },
  {
   "cell_type": "markdown",
   "id": "63e494ff",
   "metadata": {},
   "source": [
    "# Plot MLP Head"
   ]
  },
  {
   "cell_type": "code",
   "execution_count": null,
   "id": "daee14ef",
   "metadata": {},
   "outputs": [],
   "source": [
    "import torchvision\n",
    "from torchview import draw_graph\n",
    "\n",
    "model_graph = draw_graph(head, input_size=(1,feat_dim), expand_nested=True)\n",
    "model_graph.visual_graph"
   ]
  },
  {
   "cell_type": "markdown",
   "id": "6515c93a",
   "metadata": {},
   "source": [
    "# Training"
   ]
  },
  {
   "cell_type": "code",
   "execution_count": null,
   "id": "0c02e3bf",
   "metadata": {},
   "outputs": [],
   "source": [
    "from Fine_Tuning.Neuro_Classification.Neuro_Classification_Head_training import head_training"
   ]
  },
  {
   "cell_type": "code",
   "execution_count": null,
   "id": "81a9f5c4",
   "metadata": {},
   "outputs": [],
   "source": [
    "nb_epochs = 1\n",
    "loss_list, proportion_list, prediction_list, test_accuracies = head_training(nb_epochs)"
   ]
  },
  {
   "cell_type": "markdown",
   "id": "f3785c58",
   "metadata": {},
   "source": [
    "# Class proportions during training:"
   ]
  },
  {
   "cell_type": "code",
   "execution_count": null,
   "id": "daa85bb6",
   "metadata": {},
   "outputs": [],
   "source": [
    "from Fine_Tuning.display_results import class_proprtions\n",
    "\n",
    "class_proprtions(prediction_list)"
   ]
  },
  {
   "cell_type": "markdown",
   "id": "225436ad",
   "metadata": {},
   "source": [
    "# Confusion matrix:"
   ]
  },
  {
   "cell_type": "code",
   "execution_count": null,
   "id": "26d4c67b",
   "metadata": {},
   "outputs": [],
   "source": [
    "from Fine_Tuning.display_results import confusion_matrix\n",
    "\n",
    "split = '80/20'\n",
    "confusion_matrix(prediction_list, nb_epochs, split)"
   ]
  },
  {
   "cell_type": "markdown",
   "id": "333f4da8",
   "metadata": {},
   "source": [
    "# Progression curve:"
   ]
  },
  {
   "cell_type": "code",
   "execution_count": null,
   "id": "d35a0189",
   "metadata": {},
   "outputs": [],
   "source": [
    "from Fine_Tuning.display_results import training_curve\n",
    "\n",
    "training_curve(epochs, loss_list, test_accuracies)"
   ]
  },
  {
   "cell_type": "markdown",
   "id": "3b836307",
   "metadata": {},
   "source": [
    "============================================================================================================================================================================================================================="
   ]
  },
  {
   "cell_type": "markdown",
   "id": "b219d0d2",
   "metadata": {},
   "source": [
    "# -UMAP Before:"
   ]
  },
  {
   "cell_type": "code",
   "execution_count": null,
   "id": "ae376e34",
   "metadata": {},
   "outputs": [],
   "source": [
    "ex_file = get_fnames()[1][0]\n",
    "ex_image = resize_hdf_image(load_image(ex_file)[0])[None]"
   ]
  },
  {
   "cell_type": "code",
   "execution_count": null,
   "id": "b818a758",
   "metadata": {},
   "outputs": [],
   "source": [
    "np.concatenate([ex_image, ex_image, ex_image], axis=3).transpose(0,3,1,2).shape"
   ]
  },
  {
   "cell_type": "code",
   "execution_count": null,
   "id": "30714c96",
   "metadata": {},
   "outputs": [],
   "source": [
    "untrained_augmented_few_shot = DinoPsd_pipeline(augmented_model[0],\n",
    "                                      augmented_model[0].patch_size,\n",
    "                                      device,\n",
    "                                      get_img_processing_f(resize_size),\n",
    "                                      feat_dim, \n",
    "                                      dino_image_size=resize_size)"
   ]
  },
  {
   "cell_type": "code",
   "execution_count": null,
   "id": "6b584bcc",
   "metadata": {},
   "outputs": [],
   "source": [
    "torch.tensor(list(EX_EMBEDDING.values())[0]).cpu()"
   ]
  },
  {
   "cell_type": "code",
   "execution_count": null,
   "id": "8fb280e7",
   "metadata": {},
   "outputs": [],
   "source": [
    "ex.shape"
   ]
  },
  {
   "cell_type": "code",
   "execution_count": null,
   "id": "4769e475",
   "metadata": {},
   "outputs": [],
   "source": [
    "ex = untrained_augmented_few_shot.get_embeddings(reshape=True).cpu()\n"
   ]
  },
  {
   "cell_type": "code",
   "execution_count": null,
   "id": "c961ec8c",
   "metadata": {},
   "outputs": [],
   "source": [
    "import umap\n",
    "reducer = umap.UMAP(random_state=42)\n",
    "\n",
    "REFS = compute_ref_embeddings(True, os.path.join(embeddings_path, 'small_mean_ref_518_Aug=False_k=10.pt'))\n",
    "\n",
    "untrained_augmented_few_shot.pre_compute_embeddings(\n",
    "    ex_image,\n",
    "    verbose=True,\n",
    "    batch_size=1\n",
    "    )\n",
    "\n",
    "EX_EMBEDDING = augmented_model[0].forward_features(torch.from_numpy(np.concatenate([ex_image, ex_image, ex_image], axis=3).transpose(0,3,1,2)).to(torch.float32).to(device))#\n",
    "\n",
    "ex = untrained_augmented_few_shot.get_embeddings(reshape=True).cpu()\n",
    "\n",
    "neuro = 1\n",
    "EX_REF = torch.tensor(REFS[neuro]).cpu()\n",
    "\n",
    "embeddings_and_ref = np.vstack([EX_REF, EX_EMBEDDING])\n",
    "\n",
    "\n",
    "N = nb_patches_per_dim = int((resize_size/14))\n",
    "\n",
    "ref_coords = list(map(resize, coords[0][0]))\n",
    "\n",
    "center = (ref_coords[1]//14+1,ref_coords[0]//14+1)\n",
    "row, col = np.ogrid[:N, :N]\n",
    "\n",
    "distance_matrix = np.abs(N - np.maximum(np.abs(row - center[0]), np.abs(col - center[1])) - nb_patches_per_dim)\n",
    "\n",
    "distances = []\n",
    "for i in range(nb_patches_per_dim):\n",
    "    for j in range(nb_patches_per_dim):\n",
    "        distances.append(distance_matrix[i,j])\n",
    "\n",
    "\n",
    "umap_embeddings = reducer.fit_transform(embeddings_and_ref)\n",
    "\n",
    "from analysis_utils import compute_similarity_matrix\n",
    "\n",
    "semantic_distances = compute_similarity_matrix(EX_REF, EX_EMBEDDING)\n",
    "\n",
    "fig, (ax1, ax2)= plt.subplots(1,2,figsize=(20,10), dpi=100)\n",
    "\n",
    "sc = ax1.scatter(umap_embeddings[1:,0], umap_embeddings[1:,1], c=semantic_distances.ravel(), s=2, cmap='bwr')\n",
    "ax1.scatter(umap_embeddings[0,0], umap_embeddings[0,1], c='lime', marker='o', label='Reference embedding')\n",
    "cbar1 = plt.colorbar(sc, ax=ax1)\n",
    "cbar1.set_label('Semantic distance')\n",
    "ax1.legend()\n",
    "ax1.set_title(f'Before training - Semantic distances to {neurotransmitters[neuro]} mean reference embedding')\n",
    "\n",
    "sc2 = ax2.scatter(umap_embeddings[1:,0], umap_embeddings[1:,1], c=distances, s=2, cmap='Greens_r')\n",
    "ax2.scatter(umap_embeddings[0,0], umap_embeddings[0,1], c='lime', marker='o', label='Mean acc reference embedding')\n",
    "cbar2 = plt.colorbar(sc2, ax=ax2)\n",
    "cbar2.set_label('Spatial distance')\n",
    "ax2.legend()\n",
    "ax2.set_title(f'Before training - Spatial distances to {neurotransmitters[neuro]} mean reference embedding')\n",
    "\n",
    "plt.tight_layout()\n",
    "plt.show()"
   ]
  },
  {
   "cell_type": "markdown",
   "id": "7fd87a66",
   "metadata": {},
   "source": [
    "# -Training augmented model with frozen MLP Head (Fine-Tuning)"
   ]
  },
  {
   "cell_type": "code",
   "execution_count": null,
   "id": "6ac75c9c",
   "metadata": {},
   "outputs": [],
   "source": []
  },
  {
   "cell_type": "markdown",
   "id": "454a44dd",
   "metadata": {},
   "source": [
    "# -UMAP After:"
   ]
  },
  {
   "cell_type": "code",
   "execution_count": null,
   "id": "f004ed27",
   "metadata": {},
   "outputs": [],
   "source": []
  },
  {
   "cell_type": "code",
   "execution_count": null,
   "id": "4d3e710a",
   "metadata": {},
   "outputs": [],
   "source": [
    "trained_augmented_few_shot = DinoSim_pipeline(augmented_model[0],\n",
    "                                      augmented_model[0].patch_size,\n",
    "                                      device,\n",
    "                                      get_img_processing_f(resize_size),\n",
    "                                      feat_dim, \n",
    "                                      dino_image_size=resize_size)"
   ]
  },
  {
   "cell_type": "code",
   "execution_count": null,
   "id": "9b0e6bab",
   "metadata": {},
   "outputs": [],
   "source": [
    "REFS = compute_ref_embeddings(True, os.path.join(embeddings_path, 'small_mean_ref_518_Aug=False_k=10.pt'))\n",
    "\n",
    "trained_augmented_few_shot.pre_compute_embeddings(\n",
    "    ex_image,\n",
    "    verbose=True,\n",
    "    batch_size=1\n",
    "    )\n",
    "\n",
    "NEW_EX_EMBEDDING = trained_augmented_few_shot.get_embeddings(reshape=True).cpu()\n",
    "\n",
    "EX_REF = torch.tensor(REFS[0]).cpu()\n",
    "\n",
    "new_embeddings_and_ref = np.vstack([EX_REF, NEW_EX_EMBEDDING])\n",
    "\n",
    "\n",
    "\n",
    "N = nb_patches_per_dim = int((resize_size/14))\n",
    "\n",
    "ref_coords = list(map(resize, coords[0][0]))\n",
    "\n",
    "center = (ref_coords[1]//14+1,ref_coords[0]//14+1)\n",
    "row, col = np.ogrid[:N, :N]\n",
    "\n",
    "distance_matrix = np.abs(N - np.maximum(np.abs(row - center[0]), np.abs(col - center[1])) - nb_patches_per_dim)\n",
    "\n",
    "distances = []\n",
    "for i in range(nb_patches_per_dim):\n",
    "    for j in range(nb_patches_per_dim):\n",
    "        distances.append(distance_matrix[i,j])\n",
    "\n",
    "\n",
    "\n",
    "new_umap_embeddings = reducer.fit_transform(new_embeddings_and_ref)\n",
    "\n",
    "from analysis_utils import compute_similarity_matrix\n",
    "\n",
    "new_semantic_distances = compute_similarity_matrix(EX_REF, NEW_EX_EMBEDDING)\n",
    "\n",
    "\n",
    "\n",
    "fig, (ax1, ax2)= plt.subplots(1,2,figsize=(20,10), dpi=100)\n",
    "\n",
    "sc = ax1.scatter(new_umap_embeddings[1:,0], new_umap_embeddings[1:,1], c=new_semantic_distances.ravel(), s=2, cmap='bwr')\n",
    "ax1.scatter(new_umap_embeddings[0,0], new_umap_embeddings[0,1], c='lime', marker='o', label='Reference embedding')\n",
    "cbar1 = plt.colorbar(sc, ax=ax1)\n",
    "cbar1.set_label('Semantic distance')\n",
    "ax1.legend()\n",
    "ax1.set_title(f'After training - Semantic distances to {neurotransmitters[neuro]} mean reference embedding')\n",
    "\n",
    "sc2 = ax2.scatter(new_umap_embeddings[1:,0], new_umap_embeddings[1:,1], c=distances, s=2, cmap='Greens_r')\n",
    "ax2.scatter(new_umap_embeddings[0,0], new_umap_embeddings[0,1], c='lime', marker='o', label='Mean acc reference embedding')\n",
    "cbar2 = plt.colorbar(sc2, ax=ax2)\n",
    "cbar2.set_label('Spatial distance')\n",
    "ax2.legend()\n",
    "ax2.set_title(f'After training - Spatial distances to {neurotransmitters[neuro]} mean reference embedding')\n",
    "\n",
    "plt.tight_layout()\n",
    "plt.show()"
   ]
  },
  {
   "cell_type": "markdown",
   "id": "416f7061",
   "metadata": {},
   "source": [
    "#-------------------------------------------------------------------------------------------------------------------------------------------------------------------------------------------------------------------------------------------------------------------------------------------------------------------"
   ]
  },
  {
   "cell_type": "code",
   "execution_count": 1,
   "id": "acb4f75e",
   "metadata": {},
   "outputs": [
    {
     "name": "stdout",
     "output_type": "stream",
     "text": [
      "Device: mps\n"
     ]
    },
    {
     "name": "stderr",
     "output_type": "stream",
     "text": [
      "Using cache found in /Users/tomw/.cache/torch/hub/facebookresearch_dinov2_main\n",
      "/Users/tomw/.cache/torch/hub/facebookresearch_dinov2_main/dinov2/layers/swiglu_ffn.py:51: UserWarning: xFormers is not available (SwiGLU)\n",
      "  warnings.warn(\"xFormers is not available (SwiGLU)\")\n",
      "/Users/tomw/.cache/torch/hub/facebookresearch_dinov2_main/dinov2/layers/attention.py:33: UserWarning: xFormers is not available (Attention)\n",
      "  warnings.warn(\"xFormers is not available (Attention)\")\n",
      "/Users/tomw/.cache/torch/hub/facebookresearch_dinov2_main/dinov2/layers/block.py:40: UserWarning: xFormers is not available (Block)\n",
      "  warnings.warn(\"xFormers is not available (Block)\")\n"
     ]
    },
    {
     "data": {
      "application/vnd.jupyter.widget-view+json": {
       "model_id": "268d225f176c4d66b7e3993164180cd8",
       "version_major": 2,
       "version_minor": 0
      },
      "text/plain": [
       "Loading images:   0%|          | 0/3600 [00:00<?, ?it/s]"
      ]
     },
     "metadata": {},
     "output_type": "display_data"
    }
   ],
   "source": [
    "from Fine_Tuning.Image_Classification.Image_Classification_training import image_classification_training"
   ]
  },
  {
   "cell_type": "code",
   "execution_count": 2,
   "id": "f580f99f",
   "metadata": {},
   "outputs": [
    {
     "data": {
      "application/vnd.jupyter.widget-view+json": {
       "model_id": "82d17f1556654fa380fb3a424882a71e",
       "version_major": 2,
       "version_minor": 0
      },
      "text/plain": [
       "Epoch::   0%|          | 0/1 [00:00<?, ?it/s]"
      ]
     },
     "metadata": {},
     "output_type": "display_data"
    },
    {
     "data": {
      "application/vnd.jupyter.widget-view+json": {
       "model_id": "9d689e5d917f48238790a6b1496a2a6c",
       "version_major": 2,
       "version_minor": 0
      },
      "text/plain": [
       "Training:   0%|          | 0/800 [00:00<?, ?it/s]"
      ]
     },
     "metadata": {},
     "output_type": "display_data"
    },
    {
     "name": "stdout",
     "output_type": "stream",
     "text": [
      "tensor([[0., 1., 0., 0., 0., 0.]], device='mps:0')\n",
      "tensor([[1., 0., 0., 0., 0., 0.]], device='mps:0')\n",
      "tensor([[1., 0., 0., 0., 0., 0.]], device='mps:0')\n",
      "tensor([[0., 1., 0., 0., 0., 0.]], device='mps:0')\n",
      "tensor([[1., 0., 0., 0., 0., 0.]], device='mps:0')\n",
      "tensor([[1., 0., 0., 0., 0., 0.]], device='mps:0')\n",
      "tensor([[0., 1., 0., 0., 0., 0.]], device='mps:0')\n",
      "tensor([[0., 1., 0., 0., 0., 0.]], device='mps:0')\n",
      "tensor([[1., 0., 0., 0., 0., 0.]], device='mps:0')\n",
      "tensor([[1., 0., 0., 0., 0., 0.]], device='mps:0')\n",
      "tensor([[1., 0., 0., 0., 0., 0.]], device='mps:0')\n",
      "tensor([[1., 0., 0., 0., 0., 0.]], device='mps:0')\n",
      "tensor([[1., 0., 0., 0., 0., 0.]], device='mps:0')\n",
      "tensor([[1., 0., 0., 0., 0., 0.]], device='mps:0')\n",
      "tensor([[0., 1., 0., 0., 0., 0.]], device='mps:0')\n",
      "tensor([[1., 0., 0., 0., 0., 0.]], device='mps:0')\n",
      "tensor([[1., 0., 0., 0., 0., 0.]], device='mps:0')\n",
      "tensor([[0., 1., 0., 0., 0., 0.]], device='mps:0')\n",
      "tensor([[1., 0., 0., 0., 0., 0.]], device='mps:0')\n",
      "tensor([[1., 0., 0., 0., 0., 0.]], device='mps:0')\n",
      "tensor([[1., 0., 0., 0., 0., 0.]], device='mps:0')\n",
      "tensor([[1., 0., 0., 0., 0., 0.]], device='mps:0')\n",
      "tensor([[0., 1., 0., 0., 0., 0.]], device='mps:0')\n",
      "tensor([[1., 0., 0., 0., 0., 0.]], device='mps:0')\n",
      "tensor([[0., 1., 0., 0., 0., 0.]], device='mps:0')\n",
      "tensor([[0., 1., 0., 0., 0., 0.]], device='mps:0')\n",
      "tensor([[1., 0., 0., 0., 0., 0.]], device='mps:0')\n",
      "tensor([[1., 0., 0., 0., 0., 0.]], device='mps:0')\n",
      "tensor([[0., 1., 0., 0., 0., 0.]], device='mps:0')\n",
      "tensor([[1., 0., 0., 0., 0., 0.]], device='mps:0')\n",
      "tensor([[1., 0., 0., 0., 0., 0.]], device='mps:0')\n",
      "tensor([[1., 0., 0., 0., 0., 0.]], device='mps:0')\n",
      "tensor([[0., 1., 0., 0., 0., 0.]], device='mps:0')\n",
      "tensor([[1., 0., 0., 0., 0., 0.]], device='mps:0')\n",
      "tensor([[0., 1., 0., 0., 0., 0.]], device='mps:0')\n",
      "tensor([[0., 1., 0., 0., 0., 0.]], device='mps:0')\n",
      "tensor([[0., 1., 0., 0., 0., 0.]], device='mps:0')\n",
      "tensor([[1., 0., 0., 0., 0., 0.]], device='mps:0')\n",
      "tensor([[0., 1., 0., 0., 0., 0.]], device='mps:0')\n",
      "tensor([[1., 0., 0., 0., 0., 0.]], device='mps:0')\n",
      "tensor([[1., 0., 0., 0., 0., 0.]], device='mps:0')\n",
      "tensor([[1., 0., 0., 0., 0., 0.]], device='mps:0')\n",
      "tensor([[1., 0., 0., 0., 0., 0.]], device='mps:0')\n",
      "tensor([[1., 0., 0., 0., 0., 0.]], device='mps:0')\n",
      "tensor([[0., 1., 0., 0., 0., 0.]], device='mps:0')\n",
      "tensor([[0., 1., 0., 0., 0., 0.]], device='mps:0')\n",
      "tensor([[1., 0., 0., 0., 0., 0.]], device='mps:0')\n",
      "tensor([[1., 0., 0., 0., 0., 0.]], device='mps:0')\n",
      "tensor([[1., 0., 0., 0., 0., 0.]], device='mps:0')\n",
      "tensor([[0., 1., 0., 0., 0., 0.]], device='mps:0')\n",
      "tensor([[1., 0., 0., 0., 0., 0.]], device='mps:0')\n",
      "tensor([[1., 0., 0., 0., 0., 0.]], device='mps:0')\n",
      "tensor([[1., 0., 0., 0., 0., 0.]], device='mps:0')\n",
      "tensor([[1., 0., 0., 0., 0., 0.]], device='mps:0')\n",
      "tensor([[1., 0., 0., 0., 0., 0.]], device='mps:0')\n",
      "tensor([[1., 0., 0., 0., 0., 0.]], device='mps:0')\n",
      "tensor([[0., 1., 0., 0., 0., 0.]], device='mps:0')\n",
      "tensor([[1., 0., 0., 0., 0., 0.]], device='mps:0')\n",
      "tensor([[1., 0., 0., 0., 0., 0.]], device='mps:0')\n"
     ]
    },
    {
     "ename": "KeyboardInterrupt",
     "evalue": "",
     "output_type": "error",
     "traceback": [
      "\u001b[0;31m---------------------------------------------------------------------------\u001b[0m",
      "\u001b[0;31mKeyboardInterrupt\u001b[0m                         Traceback (most recent call last)",
      "Cell \u001b[0;32mIn[2], line 69\u001b[0m\n\u001b[1;32m     65\u001b[0m     \u001b[38;5;28;01mreturn\u001b[39;00m loss_list, prediction_list, test_accuracies\n\u001b[1;32m     68\u001b[0m nb_epochs \u001b[38;5;241m=\u001b[39m \u001b[38;5;241m1\u001b[39m\n\u001b[0;32m---> 69\u001b[0m loss_list, prediction_list, test_accuracies \u001b[38;5;241m=\u001b[39m \u001b[43mimage_classification_training\u001b[49m\u001b[43m(\u001b[49m\u001b[43mnb_epochs\u001b[49m\u001b[43m)\u001b[49m\n",
      "Cell \u001b[0;32mIn[2], line 38\u001b[0m, in \u001b[0;36mimage_classification_training\u001b[0;34m(epochs)\u001b[0m\n\u001b[1;32m     35\u001b[0m     loss \u001b[38;5;241m+\u001b[39m\u001b[38;5;241m=\u001b[39m ft_loss_fn(out,true)\n\u001b[1;32m     37\u001b[0m loss\u001b[38;5;241m.\u001b[39mbackward()\n\u001b[0;32m---> 38\u001b[0m \u001b[43mft_optimizer\u001b[49m\u001b[38;5;241;43m.\u001b[39;49m\u001b[43mstep\u001b[49m\u001b[43m(\u001b[49m\u001b[43m)\u001b[49m\n\u001b[1;32m     39\u001b[0m ft_optimizer\u001b[38;5;241m.\u001b[39mzero_grad()\n\u001b[1;32m     41\u001b[0m epoch_loss_list\u001b[38;5;241m.\u001b[39mappend(loss\u001b[38;5;241m.\u001b[39mdetach()\u001b[38;5;241m.\u001b[39mcpu()\u001b[38;5;241m.\u001b[39mnumpy())\n",
      "File \u001b[0;32m/opt/anaconda3/lib/python3.10/site-packages/torch/optim/optimizer.py:493\u001b[0m, in \u001b[0;36mOptimizer.profile_hook_step.<locals>.wrapper\u001b[0;34m(*args, **kwargs)\u001b[0m\n\u001b[1;32m    488\u001b[0m         \u001b[38;5;28;01melse\u001b[39;00m:\n\u001b[1;32m    489\u001b[0m             \u001b[38;5;28;01mraise\u001b[39;00m \u001b[38;5;167;01mRuntimeError\u001b[39;00m(\n\u001b[1;32m    490\u001b[0m                 \u001b[38;5;124mf\u001b[39m\u001b[38;5;124m\"\u001b[39m\u001b[38;5;132;01m{\u001b[39;00mfunc\u001b[38;5;132;01m}\u001b[39;00m\u001b[38;5;124m must return None or a tuple of (new_args, new_kwargs), but got \u001b[39m\u001b[38;5;132;01m{\u001b[39;00mresult\u001b[38;5;132;01m}\u001b[39;00m\u001b[38;5;124m.\u001b[39m\u001b[38;5;124m\"\u001b[39m\n\u001b[1;32m    491\u001b[0m             )\n\u001b[0;32m--> 493\u001b[0m out \u001b[38;5;241m=\u001b[39m \u001b[43mfunc\u001b[49m\u001b[43m(\u001b[49m\u001b[38;5;241;43m*\u001b[39;49m\u001b[43margs\u001b[49m\u001b[43m,\u001b[49m\u001b[43m \u001b[49m\u001b[38;5;241;43m*\u001b[39;49m\u001b[38;5;241;43m*\u001b[39;49m\u001b[43mkwargs\u001b[49m\u001b[43m)\u001b[49m\n\u001b[1;32m    494\u001b[0m \u001b[38;5;28mself\u001b[39m\u001b[38;5;241m.\u001b[39m_optimizer_step_code()\n\u001b[1;32m    496\u001b[0m \u001b[38;5;66;03m# call optimizer step post hooks\u001b[39;00m\n",
      "File \u001b[0;32m/opt/anaconda3/lib/python3.10/site-packages/torch/optim/optimizer.py:91\u001b[0m, in \u001b[0;36m_use_grad_for_differentiable.<locals>._use_grad\u001b[0;34m(self, *args, **kwargs)\u001b[0m\n\u001b[1;32m     89\u001b[0m     torch\u001b[38;5;241m.\u001b[39mset_grad_enabled(\u001b[38;5;28mself\u001b[39m\u001b[38;5;241m.\u001b[39mdefaults[\u001b[38;5;124m\"\u001b[39m\u001b[38;5;124mdifferentiable\u001b[39m\u001b[38;5;124m\"\u001b[39m])\n\u001b[1;32m     90\u001b[0m     torch\u001b[38;5;241m.\u001b[39m_dynamo\u001b[38;5;241m.\u001b[39mgraph_break()\n\u001b[0;32m---> 91\u001b[0m     ret \u001b[38;5;241m=\u001b[39m \u001b[43mfunc\u001b[49m\u001b[43m(\u001b[49m\u001b[38;5;28;43mself\u001b[39;49m\u001b[43m,\u001b[49m\u001b[43m \u001b[49m\u001b[38;5;241;43m*\u001b[39;49m\u001b[43margs\u001b[49m\u001b[43m,\u001b[49m\u001b[43m \u001b[49m\u001b[38;5;241;43m*\u001b[39;49m\u001b[38;5;241;43m*\u001b[39;49m\u001b[43mkwargs\u001b[49m\u001b[43m)\u001b[49m\n\u001b[1;32m     92\u001b[0m \u001b[38;5;28;01mfinally\u001b[39;00m:\n\u001b[1;32m     93\u001b[0m     torch\u001b[38;5;241m.\u001b[39m_dynamo\u001b[38;5;241m.\u001b[39mgraph_break()\n",
      "File \u001b[0;32m/opt/anaconda3/lib/python3.10/site-packages/torch/optim/adam.py:244\u001b[0m, in \u001b[0;36mAdam.step\u001b[0;34m(self, closure)\u001b[0m\n\u001b[1;32m    232\u001b[0m     beta1, beta2 \u001b[38;5;241m=\u001b[39m group[\u001b[38;5;124m\"\u001b[39m\u001b[38;5;124mbetas\u001b[39m\u001b[38;5;124m\"\u001b[39m]\n\u001b[1;32m    234\u001b[0m     has_complex \u001b[38;5;241m=\u001b[39m \u001b[38;5;28mself\u001b[39m\u001b[38;5;241m.\u001b[39m_init_group(\n\u001b[1;32m    235\u001b[0m         group,\n\u001b[1;32m    236\u001b[0m         params_with_grad,\n\u001b[0;32m   (...)\u001b[0m\n\u001b[1;32m    241\u001b[0m         state_steps,\n\u001b[1;32m    242\u001b[0m     )\n\u001b[0;32m--> 244\u001b[0m     \u001b[43madam\u001b[49m\u001b[43m(\u001b[49m\n\u001b[1;32m    245\u001b[0m \u001b[43m        \u001b[49m\u001b[43mparams_with_grad\u001b[49m\u001b[43m,\u001b[49m\n\u001b[1;32m    246\u001b[0m \u001b[43m        \u001b[49m\u001b[43mgrads\u001b[49m\u001b[43m,\u001b[49m\n\u001b[1;32m    247\u001b[0m \u001b[43m        \u001b[49m\u001b[43mexp_avgs\u001b[49m\u001b[43m,\u001b[49m\n\u001b[1;32m    248\u001b[0m \u001b[43m        \u001b[49m\u001b[43mexp_avg_sqs\u001b[49m\u001b[43m,\u001b[49m\n\u001b[1;32m    249\u001b[0m \u001b[43m        \u001b[49m\u001b[43mmax_exp_avg_sqs\u001b[49m\u001b[43m,\u001b[49m\n\u001b[1;32m    250\u001b[0m \u001b[43m        \u001b[49m\u001b[43mstate_steps\u001b[49m\u001b[43m,\u001b[49m\n\u001b[1;32m    251\u001b[0m \u001b[43m        \u001b[49m\u001b[43mamsgrad\u001b[49m\u001b[38;5;241;43m=\u001b[39;49m\u001b[43mgroup\u001b[49m\u001b[43m[\u001b[49m\u001b[38;5;124;43m\"\u001b[39;49m\u001b[38;5;124;43mamsgrad\u001b[39;49m\u001b[38;5;124;43m\"\u001b[39;49m\u001b[43m]\u001b[49m\u001b[43m,\u001b[49m\n\u001b[1;32m    252\u001b[0m \u001b[43m        \u001b[49m\u001b[43mhas_complex\u001b[49m\u001b[38;5;241;43m=\u001b[39;49m\u001b[43mhas_complex\u001b[49m\u001b[43m,\u001b[49m\n\u001b[1;32m    253\u001b[0m \u001b[43m        \u001b[49m\u001b[43mbeta1\u001b[49m\u001b[38;5;241;43m=\u001b[39;49m\u001b[43mbeta1\u001b[49m\u001b[43m,\u001b[49m\n\u001b[1;32m    254\u001b[0m \u001b[43m        \u001b[49m\u001b[43mbeta2\u001b[49m\u001b[38;5;241;43m=\u001b[39;49m\u001b[43mbeta2\u001b[49m\u001b[43m,\u001b[49m\n\u001b[1;32m    255\u001b[0m \u001b[43m        \u001b[49m\u001b[43mlr\u001b[49m\u001b[38;5;241;43m=\u001b[39;49m\u001b[43mgroup\u001b[49m\u001b[43m[\u001b[49m\u001b[38;5;124;43m\"\u001b[39;49m\u001b[38;5;124;43mlr\u001b[39;49m\u001b[38;5;124;43m\"\u001b[39;49m\u001b[43m]\u001b[49m\u001b[43m,\u001b[49m\n\u001b[1;32m    256\u001b[0m \u001b[43m        \u001b[49m\u001b[43mweight_decay\u001b[49m\u001b[38;5;241;43m=\u001b[39;49m\u001b[43mgroup\u001b[49m\u001b[43m[\u001b[49m\u001b[38;5;124;43m\"\u001b[39;49m\u001b[38;5;124;43mweight_decay\u001b[39;49m\u001b[38;5;124;43m\"\u001b[39;49m\u001b[43m]\u001b[49m\u001b[43m,\u001b[49m\n\u001b[1;32m    257\u001b[0m \u001b[43m        \u001b[49m\u001b[43meps\u001b[49m\u001b[38;5;241;43m=\u001b[39;49m\u001b[43mgroup\u001b[49m\u001b[43m[\u001b[49m\u001b[38;5;124;43m\"\u001b[39;49m\u001b[38;5;124;43meps\u001b[39;49m\u001b[38;5;124;43m\"\u001b[39;49m\u001b[43m]\u001b[49m\u001b[43m,\u001b[49m\n\u001b[1;32m    258\u001b[0m \u001b[43m        \u001b[49m\u001b[43mmaximize\u001b[49m\u001b[38;5;241;43m=\u001b[39;49m\u001b[43mgroup\u001b[49m\u001b[43m[\u001b[49m\u001b[38;5;124;43m\"\u001b[39;49m\u001b[38;5;124;43mmaximize\u001b[39;49m\u001b[38;5;124;43m\"\u001b[39;49m\u001b[43m]\u001b[49m\u001b[43m,\u001b[49m\n\u001b[1;32m    259\u001b[0m \u001b[43m        \u001b[49m\u001b[43mforeach\u001b[49m\u001b[38;5;241;43m=\u001b[39;49m\u001b[43mgroup\u001b[49m\u001b[43m[\u001b[49m\u001b[38;5;124;43m\"\u001b[39;49m\u001b[38;5;124;43mforeach\u001b[39;49m\u001b[38;5;124;43m\"\u001b[39;49m\u001b[43m]\u001b[49m\u001b[43m,\u001b[49m\n\u001b[1;32m    260\u001b[0m \u001b[43m        \u001b[49m\u001b[43mcapturable\u001b[49m\u001b[38;5;241;43m=\u001b[39;49m\u001b[43mgroup\u001b[49m\u001b[43m[\u001b[49m\u001b[38;5;124;43m\"\u001b[39;49m\u001b[38;5;124;43mcapturable\u001b[39;49m\u001b[38;5;124;43m\"\u001b[39;49m\u001b[43m]\u001b[49m\u001b[43m,\u001b[49m\n\u001b[1;32m    261\u001b[0m \u001b[43m        \u001b[49m\u001b[43mdifferentiable\u001b[49m\u001b[38;5;241;43m=\u001b[39;49m\u001b[43mgroup\u001b[49m\u001b[43m[\u001b[49m\u001b[38;5;124;43m\"\u001b[39;49m\u001b[38;5;124;43mdifferentiable\u001b[39;49m\u001b[38;5;124;43m\"\u001b[39;49m\u001b[43m]\u001b[49m\u001b[43m,\u001b[49m\n\u001b[1;32m    262\u001b[0m \u001b[43m        \u001b[49m\u001b[43mfused\u001b[49m\u001b[38;5;241;43m=\u001b[39;49m\u001b[43mgroup\u001b[49m\u001b[43m[\u001b[49m\u001b[38;5;124;43m\"\u001b[39;49m\u001b[38;5;124;43mfused\u001b[39;49m\u001b[38;5;124;43m\"\u001b[39;49m\u001b[43m]\u001b[49m\u001b[43m,\u001b[49m\n\u001b[1;32m    263\u001b[0m \u001b[43m        \u001b[49m\u001b[43mgrad_scale\u001b[49m\u001b[38;5;241;43m=\u001b[39;49m\u001b[38;5;28;43mgetattr\u001b[39;49m\u001b[43m(\u001b[49m\u001b[38;5;28;43mself\u001b[39;49m\u001b[43m,\u001b[49m\u001b[43m \u001b[49m\u001b[38;5;124;43m\"\u001b[39;49m\u001b[38;5;124;43mgrad_scale\u001b[39;49m\u001b[38;5;124;43m\"\u001b[39;49m\u001b[43m,\u001b[49m\u001b[43m \u001b[49m\u001b[38;5;28;43;01mNone\u001b[39;49;00m\u001b[43m)\u001b[49m\u001b[43m,\u001b[49m\n\u001b[1;32m    264\u001b[0m \u001b[43m        \u001b[49m\u001b[43mfound_inf\u001b[49m\u001b[38;5;241;43m=\u001b[39;49m\u001b[38;5;28;43mgetattr\u001b[39;49m\u001b[43m(\u001b[49m\u001b[38;5;28;43mself\u001b[39;49m\u001b[43m,\u001b[49m\u001b[43m \u001b[49m\u001b[38;5;124;43m\"\u001b[39;49m\u001b[38;5;124;43mfound_inf\u001b[39;49m\u001b[38;5;124;43m\"\u001b[39;49m\u001b[43m,\u001b[49m\u001b[43m \u001b[49m\u001b[38;5;28;43;01mNone\u001b[39;49;00m\u001b[43m)\u001b[49m\u001b[43m,\u001b[49m\n\u001b[1;32m    265\u001b[0m \u001b[43m    \u001b[49m\u001b[43m)\u001b[49m\n\u001b[1;32m    267\u001b[0m \u001b[38;5;28;01mreturn\u001b[39;00m loss\n",
      "File \u001b[0;32m/opt/anaconda3/lib/python3.10/site-packages/torch/optim/optimizer.py:154\u001b[0m, in \u001b[0;36m_disable_dynamo_if_unsupported.<locals>.wrapper.<locals>.maybe_fallback\u001b[0;34m(*args, **kwargs)\u001b[0m\n\u001b[1;32m    152\u001b[0m     \u001b[38;5;28;01mreturn\u001b[39;00m disabled_func(\u001b[38;5;241m*\u001b[39margs, \u001b[38;5;241m*\u001b[39m\u001b[38;5;241m*\u001b[39mkwargs)\n\u001b[1;32m    153\u001b[0m \u001b[38;5;28;01melse\u001b[39;00m:\n\u001b[0;32m--> 154\u001b[0m     \u001b[38;5;28;01mreturn\u001b[39;00m \u001b[43mfunc\u001b[49m\u001b[43m(\u001b[49m\u001b[38;5;241;43m*\u001b[39;49m\u001b[43margs\u001b[49m\u001b[43m,\u001b[49m\u001b[43m \u001b[49m\u001b[38;5;241;43m*\u001b[39;49m\u001b[38;5;241;43m*\u001b[39;49m\u001b[43mkwargs\u001b[49m\u001b[43m)\u001b[49m\n",
      "File \u001b[0;32m/opt/anaconda3/lib/python3.10/site-packages/torch/optim/adam.py:876\u001b[0m, in \u001b[0;36madam\u001b[0;34m(params, grads, exp_avgs, exp_avg_sqs, max_exp_avg_sqs, state_steps, foreach, capturable, differentiable, fused, grad_scale, found_inf, has_complex, amsgrad, beta1, beta2, lr, weight_decay, eps, maximize)\u001b[0m\n\u001b[1;32m    873\u001b[0m \u001b[38;5;28;01melse\u001b[39;00m:\n\u001b[1;32m    874\u001b[0m     func \u001b[38;5;241m=\u001b[39m _single_tensor_adam\n\u001b[0;32m--> 876\u001b[0m \u001b[43mfunc\u001b[49m\u001b[43m(\u001b[49m\n\u001b[1;32m    877\u001b[0m \u001b[43m    \u001b[49m\u001b[43mparams\u001b[49m\u001b[43m,\u001b[49m\n\u001b[1;32m    878\u001b[0m \u001b[43m    \u001b[49m\u001b[43mgrads\u001b[49m\u001b[43m,\u001b[49m\n\u001b[1;32m    879\u001b[0m \u001b[43m    \u001b[49m\u001b[43mexp_avgs\u001b[49m\u001b[43m,\u001b[49m\n\u001b[1;32m    880\u001b[0m \u001b[43m    \u001b[49m\u001b[43mexp_avg_sqs\u001b[49m\u001b[43m,\u001b[49m\n\u001b[1;32m    881\u001b[0m \u001b[43m    \u001b[49m\u001b[43mmax_exp_avg_sqs\u001b[49m\u001b[43m,\u001b[49m\n\u001b[1;32m    882\u001b[0m \u001b[43m    \u001b[49m\u001b[43mstate_steps\u001b[49m\u001b[43m,\u001b[49m\n\u001b[1;32m    883\u001b[0m \u001b[43m    \u001b[49m\u001b[43mamsgrad\u001b[49m\u001b[38;5;241;43m=\u001b[39;49m\u001b[43mamsgrad\u001b[49m\u001b[43m,\u001b[49m\n\u001b[1;32m    884\u001b[0m \u001b[43m    \u001b[49m\u001b[43mhas_complex\u001b[49m\u001b[38;5;241;43m=\u001b[39;49m\u001b[43mhas_complex\u001b[49m\u001b[43m,\u001b[49m\n\u001b[1;32m    885\u001b[0m \u001b[43m    \u001b[49m\u001b[43mbeta1\u001b[49m\u001b[38;5;241;43m=\u001b[39;49m\u001b[43mbeta1\u001b[49m\u001b[43m,\u001b[49m\n\u001b[1;32m    886\u001b[0m \u001b[43m    \u001b[49m\u001b[43mbeta2\u001b[49m\u001b[38;5;241;43m=\u001b[39;49m\u001b[43mbeta2\u001b[49m\u001b[43m,\u001b[49m\n\u001b[1;32m    887\u001b[0m \u001b[43m    \u001b[49m\u001b[43mlr\u001b[49m\u001b[38;5;241;43m=\u001b[39;49m\u001b[43mlr\u001b[49m\u001b[43m,\u001b[49m\n\u001b[1;32m    888\u001b[0m \u001b[43m    \u001b[49m\u001b[43mweight_decay\u001b[49m\u001b[38;5;241;43m=\u001b[39;49m\u001b[43mweight_decay\u001b[49m\u001b[43m,\u001b[49m\n\u001b[1;32m    889\u001b[0m \u001b[43m    \u001b[49m\u001b[43meps\u001b[49m\u001b[38;5;241;43m=\u001b[39;49m\u001b[43meps\u001b[49m\u001b[43m,\u001b[49m\n\u001b[1;32m    890\u001b[0m \u001b[43m    \u001b[49m\u001b[43mmaximize\u001b[49m\u001b[38;5;241;43m=\u001b[39;49m\u001b[43mmaximize\u001b[49m\u001b[43m,\u001b[49m\n\u001b[1;32m    891\u001b[0m \u001b[43m    \u001b[49m\u001b[43mcapturable\u001b[49m\u001b[38;5;241;43m=\u001b[39;49m\u001b[43mcapturable\u001b[49m\u001b[43m,\u001b[49m\n\u001b[1;32m    892\u001b[0m \u001b[43m    \u001b[49m\u001b[43mdifferentiable\u001b[49m\u001b[38;5;241;43m=\u001b[39;49m\u001b[43mdifferentiable\u001b[49m\u001b[43m,\u001b[49m\n\u001b[1;32m    893\u001b[0m \u001b[43m    \u001b[49m\u001b[43mgrad_scale\u001b[49m\u001b[38;5;241;43m=\u001b[39;49m\u001b[43mgrad_scale\u001b[49m\u001b[43m,\u001b[49m\n\u001b[1;32m    894\u001b[0m \u001b[43m    \u001b[49m\u001b[43mfound_inf\u001b[49m\u001b[38;5;241;43m=\u001b[39;49m\u001b[43mfound_inf\u001b[49m\u001b[43m,\u001b[49m\n\u001b[1;32m    895\u001b[0m \u001b[43m\u001b[49m\u001b[43m)\u001b[49m\n",
      "File \u001b[0;32m/opt/anaconda3/lib/python3.10/site-packages/torch/optim/adam.py:423\u001b[0m, in \u001b[0;36m_single_tensor_adam\u001b[0;34m(params, grads, exp_avgs, exp_avg_sqs, max_exp_avg_sqs, state_steps, grad_scale, found_inf, amsgrad, has_complex, beta1, beta2, lr, weight_decay, eps, maximize, capturable, differentiable)\u001b[0m\n\u001b[1;32m    420\u001b[0m     device_beta1 \u001b[38;5;241m=\u001b[39m beta1\n\u001b[1;32m    422\u001b[0m \u001b[38;5;66;03m# Decay the first and second moment running average coefficient\u001b[39;00m\n\u001b[0;32m--> 423\u001b[0m \u001b[43mexp_avg\u001b[49m\u001b[38;5;241;43m.\u001b[39;49m\u001b[43mlerp_\u001b[49m\u001b[43m(\u001b[49m\u001b[43mgrad\u001b[49m\u001b[43m,\u001b[49m\u001b[43m \u001b[49m\u001b[38;5;241;43m1\u001b[39;49m\u001b[43m \u001b[49m\u001b[38;5;241;43m-\u001b[39;49m\u001b[43m \u001b[49m\u001b[43mdevice_beta1\u001b[49m\u001b[43m)\u001b[49m\n\u001b[1;32m    425\u001b[0m exp_avg_sq\u001b[38;5;241m.\u001b[39mmul_(beta2)\u001b[38;5;241m.\u001b[39maddcmul_(grad, grad\u001b[38;5;241m.\u001b[39mconj(), value\u001b[38;5;241m=\u001b[39m\u001b[38;5;241m1\u001b[39m \u001b[38;5;241m-\u001b[39m beta2)\n\u001b[1;32m    427\u001b[0m \u001b[38;5;28;01mif\u001b[39;00m capturable \u001b[38;5;129;01mor\u001b[39;00m differentiable:\n",
      "\u001b[0;31mKeyboardInterrupt\u001b[0m: "
     ]
    }
   ],
   "source": [
    "import torch\n",
    "from torch import nn\n",
    "import numpy as np\n",
    "from tqdm.notebook import tqdm\n",
    "\n",
    "from setup import model, device \n",
    "\n",
    "from Fine_Tuning.Adaptor.AdaptFormer_dataset import ft_training_loader, ft_test_loader\n",
    "from Fine_Tuning.Neuro_Classification.Neuro_Classification_Head import head\n",
    "\n",
    "\n",
    "complete_model = nn.Sequential(model, head)\n",
    "complete_model.eval()\n",
    "\n",
    "ft_optimizer = torch.optim.Adam(complete_model.parameters(), lr=3e-4)\n",
    "complete_model.to(device)\n",
    "ft_loss_fn = nn.BCELoss()\n",
    "\n",
    "def image_classification_training(epochs):\n",
    "    complete_model.train()\n",
    "    loss_list = []\n",
    "    prediction_list = []\n",
    "    test_accuracies = []\n",
    "    for _ in tqdm(range(epochs), desc=f'Epoch:'):\n",
    "        epoch_loss_list = []\n",
    "        for image, one_hot in tqdm(ft_training_loader, desc='Training', leave=False):\n",
    "            image = image.to(torch.float32).to(device)\n",
    "            output = complete_model(image).to(torch.float32)\n",
    "\n",
    "            gt = one_hot.to(torch.float32)\n",
    "            gt = gt.to(device)\n",
    "            loss=0\n",
    "            print(gt)\n",
    "            for out, true in zip(output,gt):\n",
    "                loss += ft_loss_fn(out,true)\n",
    "                \n",
    "            loss.backward()\n",
    "            ft_optimizer.step()\n",
    "            ft_optimizer.zero_grad()\n",
    "            \n",
    "            epoch_loss_list.append(loss.detach().cpu().numpy())\n",
    "\n",
    "        loss_list.append(np.mean(epoch_loss_list))\n",
    "\n",
    "        complete_model.eval()\n",
    "        with torch.no_grad():\n",
    "            score = 0\n",
    "            total = 0\n",
    "            for image, one_hot in tqdm(ft_test_loader, desc='Testing', leave=False):\n",
    "                \n",
    "                image = image.to(torch.float32).to(device)\n",
    "                outputs = complete_model(image)\n",
    "                \n",
    "                for output, one_hot_gt in zip(outputs, one_hot):\n",
    "                    predicted_idx = torch.argmax(output).item()\n",
    "                    true_idx = torch.argmax(one_hot_gt).item()\n",
    "                    prediction_list.append([predicted_idx, true_idx])\n",
    "                    \n",
    "                    if predicted_idx == true_idx:\n",
    "                        score += 1\n",
    "                    total += 1\n",
    "                batch_score = 100*score/total\n",
    "            test_accuracies.append(batch_score)\n",
    "\n",
    "    return loss_list, prediction_list, test_accuracies\n",
    "\n",
    "\n",
    "nb_epochs = 1\n",
    "loss_list, prediction_list, test_accuracies = image_classification_training(nb_epochs)"
   ]
  },
  {
   "cell_type": "code",
   "execution_count": 4,
   "id": "f14eb393",
   "metadata": {},
   "outputs": [
    {
     "data": {
      "text/plain": [
       "[[0, 1],\n",
       " [0, 1],\n",
       " [0, 0],\n",
       " [0, 1],\n",
       " [0, 1],\n",
       " [0, 0],\n",
       " [0, 1],\n",
       " [0, 0],\n",
       " [0, 0],\n",
       " [0, 1],\n",
       " [0, 1],\n",
       " [0, 0],\n",
       " [0, 1],\n",
       " [0, 1],\n",
       " [0, 0],\n",
       " [0, 1],\n",
       " [0, 0],\n",
       " [0, 0],\n",
       " [0, 1],\n",
       " [0, 1],\n",
       " [0, 0],\n",
       " [0, 1],\n",
       " [0, 0],\n",
       " [0, 1],\n",
       " [0, 0],\n",
       " [0, 0],\n",
       " [0, 1],\n",
       " [0, 0],\n",
       " [0, 1],\n",
       " [0, 0],\n",
       " [0, 0],\n",
       " [0, 0],\n",
       " [0, 1],\n",
       " [0, 0],\n",
       " [0, 1],\n",
       " [0, 0],\n",
       " [0, 0],\n",
       " [0, 1],\n",
       " [0, 0],\n",
       " [0, 1],\n",
       " [0, 0],\n",
       " [0, 0],\n",
       " [0, 1],\n",
       " [0, 0],\n",
       " [0, 1],\n",
       " [0, 1],\n",
       " [0, 1],\n",
       " [0, 0],\n",
       " [0, 0],\n",
       " [0, 0],\n",
       " [0, 0],\n",
       " [0, 1],\n",
       " [0, 0],\n",
       " [0, 1],\n",
       " [0, 1],\n",
       " [0, 0],\n",
       " [0, 1],\n",
       " [0, 0],\n",
       " [0, 0],\n",
       " [0, 1],\n",
       " [0, 0],\n",
       " [0, 1],\n",
       " [0, 0],\n",
       " [0, 1],\n",
       " [0, 1],\n",
       " [0, 0],\n",
       " [0, 0],\n",
       " [0, 1],\n",
       " [0, 0],\n",
       " [0, 0],\n",
       " [0, 1],\n",
       " [0, 0],\n",
       " [0, 0],\n",
       " [0, 0],\n",
       " [0, 1],\n",
       " [0, 1],\n",
       " [0, 0],\n",
       " [0, 1],\n",
       " [0, 0],\n",
       " [0, 0],\n",
       " [0, 0],\n",
       " [0, 0],\n",
       " [0, 0],\n",
       " [0, 0],\n",
       " [0, 0],\n",
       " [0, 0],\n",
       " [0, 1],\n",
       " [0, 1],\n",
       " [0, 1],\n",
       " [0, 0],\n",
       " [0, 0],\n",
       " [0, 0],\n",
       " [0, 0],\n",
       " [0, 1],\n",
       " [0, 0],\n",
       " [0, 1],\n",
       " [0, 0],\n",
       " [0, 1],\n",
       " [0, 0],\n",
       " [0, 1],\n",
       " [0, 0],\n",
       " [0, 0],\n",
       " [0, 1],\n",
       " [0, 0],\n",
       " [0, 0],\n",
       " [0, 0],\n",
       " [0, 0],\n",
       " [0, 1],\n",
       " [0, 0],\n",
       " [0, 0],\n",
       " [0, 1],\n",
       " [0, 0],\n",
       " [0, 0],\n",
       " [0, 1],\n",
       " [0, 1],\n",
       " [0, 0],\n",
       " [0, 1],\n",
       " [0, 0],\n",
       " [0, 1],\n",
       " [0, 0],\n",
       " [0, 1],\n",
       " [0, 1],\n",
       " [0, 0],\n",
       " [0, 1],\n",
       " [0, 1],\n",
       " [0, 1],\n",
       " [0, 0],\n",
       " [0, 1],\n",
       " [0, 0],\n",
       " [0, 0],\n",
       " [0, 0],\n",
       " [0, 0],\n",
       " [0, 0],\n",
       " [0, 1],\n",
       " [0, 0],\n",
       " [0, 1],\n",
       " [0, 1],\n",
       " [0, 0],\n",
       " [0, 1],\n",
       " [0, 0],\n",
       " [0, 1],\n",
       " [0, 1],\n",
       " [0, 0],\n",
       " [0, 0],\n",
       " [0, 0],\n",
       " [0, 0],\n",
       " [0, 0],\n",
       " [0, 1],\n",
       " [0, 1],\n",
       " [0, 1],\n",
       " [0, 0],\n",
       " [0, 0],\n",
       " [0, 0],\n",
       " [0, 1],\n",
       " [0, 0],\n",
       " [0, 0],\n",
       " [0, 1],\n",
       " [0, 0],\n",
       " [0, 0],\n",
       " [0, 0],\n",
       " [0, 1],\n",
       " [0, 0],\n",
       " [0, 0],\n",
       " [0, 0],\n",
       " [0, 0],\n",
       " [0, 0],\n",
       " [0, 0],\n",
       " [0, 0],\n",
       " [0, 0],\n",
       " [0, 0],\n",
       " [0, 1],\n",
       " [0, 0],\n",
       " [0, 1],\n",
       " [0, 1],\n",
       " [0, 1],\n",
       " [0, 1],\n",
       " [0, 0],\n",
       " [0, 0],\n",
       " [0, 0],\n",
       " [0, 1],\n",
       " [0, 0],\n",
       " [0, 1],\n",
       " [0, 0],\n",
       " [0, 1],\n",
       " [0, 1],\n",
       " [0, 0],\n",
       " [0, 1],\n",
       " [0, 1],\n",
       " [0, 0],\n",
       " [0, 1],\n",
       " [0, 0],\n",
       " [0, 0],\n",
       " [0, 1],\n",
       " [0, 0],\n",
       " [0, 0],\n",
       " [0, 0],\n",
       " [0, 0],\n",
       " [0, 1],\n",
       " [0, 0],\n",
       " [0, 0]]"
      ]
     },
     "execution_count": 4,
     "metadata": {},
     "output_type": "execute_result"
    }
   ],
   "source": [
    "prediction_list"
   ]
  },
  {
   "cell_type": "code",
   "execution_count": 3,
   "id": "c61cd23a",
   "metadata": {},
   "outputs": [
    {
     "data": {
      "image/png": "[encoded data removed]",
      "text/plain": [
       "<Figure size 1050x1050 with 1 Axes>"
      ]
     },
     "metadata": {},
     "output_type": "display_data"
    },
    {
     "data": {
      "image/png": "[encoded data removed]",
      "text/plain": [
       "<Figure size 1050x750 with 2 Axes>"
      ]
     },
     "metadata": {},
     "output_type": "display_data"
    }
   ],
   "source": [
    "from Fine_Tuning.display_results import class_proportions, confusion_matrix\n",
    "#class_proportions('psd', prediction_list)\n",
    "split = '80/20'\n",
    "confusion_matrix('neuro', prediction_list, nb_epochs, split)\n",
    "\n",
    "from Fine_Tuning.display_results import training_curve\n",
    "training_curve(nb_epochs, loss_list, test_accuracies)"
   ]
  }
 ],
 "metadata": {
  "kernelspec": {
   "display_name": "base",
   "language": "python",
   "name": "python3"
  },
  "language_info": {
   "codemirror_mode": {
    "name": "ipython",
    "version": 3
   },
   "file_extension": ".py",
   "mimetype": "text/x-python",
   "name": "python",
   "nbconvert_exporter": "python",
   "pygments_lexer": "ipython3",
   "version": "3.10.0"
  }
 },
 "nbformat": 4,
 "nbformat_minor": 5
}
