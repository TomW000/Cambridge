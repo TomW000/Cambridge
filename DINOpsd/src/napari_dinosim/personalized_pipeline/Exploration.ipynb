{
 "cells": [
  {
   "cell_type": "markdown",
   "metadata": {},
   "source": [
    "# Compute reference embeddings"
   ]
  },
  {
   "cell_type": "code",
   "execution_count": 3,
   "metadata": {},
   "outputs": [
    {
     "name": "stderr",
     "output_type": "stream",
     "text": [
      "Iterating through neurotransmitters: 0it [00:00, ?it/s]"
     ]
    },
    {
     "name": "stdout",
     "output_type": "stream",
     "text": [
      "Precomputing embeddings\n"
     ]
    },
    {
     "name": "stderr",
     "output_type": "stream",
     "text": [
      "100%|██████████| 40/40 [00:11<00:00,  3.41it/s]\n",
      "Iterating through neurotransmitters: 1it [00:12, 12.58s/it]"
     ]
    },
    {
     "name": "stdout",
     "output_type": "stream",
     "text": [
      "Precomputing embeddings\n"
     ]
    },
    {
     "name": "stderr",
     "output_type": "stream",
     "text": [
      "100%|██████████| 40/40 [00:11<00:00,  3.44it/s]\n",
      "Iterating through neurotransmitters: 2it [00:24, 12.47s/it]"
     ]
    },
    {
     "name": "stdout",
     "output_type": "stream",
     "text": [
      "Precomputing embeddings\n"
     ]
    },
    {
     "name": "stderr",
     "output_type": "stream",
     "text": [
      "100%|██████████| 40/40 [00:10<00:00,  3.64it/s]\n",
      "Iterating through neurotransmitters: 3it [00:36, 12.11s/it]"
     ]
    },
    {
     "name": "stdout",
     "output_type": "stream",
     "text": [
      "Precomputing embeddings\n"
     ]
    },
    {
     "name": "stderr",
     "output_type": "stream",
     "text": [
      "100%|██████████| 40/40 [00:11<00:00,  3.61it/s]\n",
      "Iterating through neurotransmitters: 4it [00:48, 11.99s/it]"
     ]
    },
    {
     "name": "stdout",
     "output_type": "stream",
     "text": [
      "Precomputing embeddings\n"
     ]
    },
    {
     "name": "stderr",
     "output_type": "stream",
     "text": [
      "100%|██████████| 40/40 [00:11<00:00,  3.58it/s]\n",
      "Iterating through neurotransmitters: 5it [01:00, 11.95s/it]"
     ]
    },
    {
     "name": "stdout",
     "output_type": "stream",
     "text": [
      "Precomputing embeddings\n"
     ]
    },
    {
     "name": "stderr",
     "output_type": "stream",
     "text": [
      "100%|██████████| 40/40 [00:11<00:00,  3.51it/s]\n",
      "Iterating through neurotransmitters: 6it [01:12, 12.07s/it]\n"
     ]
    }
   ],
   "source": [
    "from setup import neurotransmitters, model, device, feat_dim, resize_size, dataset_path, curated_idx\n",
    "from setup import tqdm, torch, np, os, h5py, sns, plt, tqdm\n",
    "from setup import cosine_similarity, euclidean_distances\n",
    "from perso_utils import get_fnames, load_image, get_latents\n",
    "from DINOSim import DinoSim_pipeline, diplay_features\n",
    "from napari_dinosim.utils import get_img_processing_f\n",
    "\n",
    "\n",
    "if __name__=='__main__':  # Fixed: Added double underscores\n",
    "    \n",
    "    # Create an instance of the pipeline (not just assigning the class)\n",
    "    few_shot = DinoSim_pipeline(model,\n",
    "                                model.patch_size,\n",
    "                                device,\n",
    "                                get_img_processing_f(resize_size),\n",
    "                                feat_dim, \n",
    "                                dino_image_size=resize_size\n",
    "                                )\n",
    "\n",
    "    k = 10\n",
    "\n",
    "    files, labels = zip(*get_fnames()) # returns list(zip(np.concatenate(files), np.concatenate(labels)))\n",
    "    good_files = [files[idx] for idx in curated_idx] # len = 60\n",
    "    datasets = [good_files[i:i+10] for i in range(0, len(curated_idx), 10)] # list of lists of files\n",
    "    good_labels = [labels[idx] for idx in curated_idx]\n",
    "    _labels = [good_labels[i:i+10] for i in range(0, len(curated_idx), 10)] # list of lists of labels\n",
    "    \n",
    "    latent_list, label_list = [], []\n",
    "\n",
    "    for dataset, batch_label in tqdm(zip(datasets, _labels), desc='Iterating through neurotransmitters'):\n",
    "    #for d, l in tqdm(zip(good_files, good_labels), desc='Iterating through neurotransmitters'):\n",
    "        # Load images and prepare data\n",
    "        images = np.array([load_image(file)[0] for file in dataset]).transpose(0,2,3,1)  # Convert to numpy array\n",
    "        coordinates = [(0, load_image(file)[1], load_image(file)[2]) for file in dataset]\n",
    "\n",
    "        # Pre-compute embeddings\n",
    "        few_shot.pre_compute_embeddings(\n",
    "            images,  # Pass numpy array of images\n",
    "            overlap=(0.5, 0.5),\n",
    "            padding=(0, 0),\n",
    "            crop_shape=(512, 512, 1),\n",
    "            verbose=True,\n",
    "            batch_size=1\n",
    "        )\n",
    "        \n",
    "        # Set reference vectors\n",
    "        few_shot.set_reference_vector(coordinates, filter=None)\n",
    "        ref = few_shot.get_refs()\n",
    "        \n",
    "        # Get closest elements - using the correct method name\n",
    "        \n",
    "        close_embedding =  few_shot.get_k_closest_elements(k=k)\n",
    "        #k_labels = [l for _ in range(k)]\n",
    "        k_labels =  [batch_label[0] for _ in range(k)]\n",
    "    \n",
    "        \n",
    "        # Convert to numpy for storing\n",
    "        close_embedding_np = close_embedding.cpu().numpy() if isinstance(close_embedding, torch.Tensor) else close_embedding\n",
    "        \n",
    "        latent_list.append(close_embedding_np)\n",
    "        label_list.append(k_labels)\n",
    "        \n",
    "        # Clean up to free memory\n",
    "        few_shot.delete_precomputed_embeddings()\n",
    "        few_shot.delete_references()\n",
    "        \n",
    "    mean_ref = np.vstack([np.mean(list, axis=0) for list in latent_list])\n",
    "    # Stack all embeddings and labels\n",
    "    ref_latents = np.vstack(latent_list)\n",
    "    ref_labels = np.hstack(label_list)\n"
   ]
  },
  {
   "cell_type": "markdown",
   "metadata": {},
   "source": [
    "# Compute new image's embeddings"
   ]
  },
  {
   "cell_type": "code",
   "execution_count": 4,
   "metadata": {},
   "outputs": [
    {
     "name": "stdout",
     "output_type": "stream",
     "text": [
      "Precomputing embeddings\n"
     ]
    },
    {
     "name": "stderr",
     "output_type": "stream",
     "text": [
      "100%|██████████| 4/4 [00:01<00:00,  3.19it/s]\n"
     ]
    }
   ],
   "source": [
    "new_image_index = 650\n",
    "\n",
    "img = np.array(load_image(files[new_image_index])[0])[...,np.newaxis]#.transpose(0,2,3,1)\n",
    "    \n",
    "few_shot.pre_compute_embeddings(\n",
    "        img,  # Pass numpy array of images\n",
    "        overlap=(0.5, 0.5),\n",
    "        padding=(0, 0),\n",
    "        crop_shape=(512, 512, 1),\n",
    "        verbose=True,\n",
    "        batch_size=1\n",
    "    )\n",
    "    \n",
    "new_img_embs = few_shot.get_embs().reshape(-1, feat_dim)\n",
    "    \n",
    "new_label = ['new' for _ in range(new_img_embs.shape[0])]\n",
    "    \n",
    "# Stack all embeddings and labels\n",
    "ref_latents = np.vstack(latent_list)\n",
    "ref_labels = np.hstack(label_list)\n",
    "    \n",
    "mean_ref = np.vstack([np.mean(list, axis=0) for list in latent_list])\n",
    "mean_labs = [neurotransmitter for neurotransmitter in neurotransmitters]\n",
    "    \n",
    "latents = np.vstack([ref_latents, new_img_embs])  # Changed from stack to vstack for proper concatenation\n",
    "labs = np.hstack([ref_labels, new_label])    # Changed from stack to hstack for proper concatenation"
   ]
  },
  {
   "cell_type": "code",
   "execution_count": 5,
   "metadata": {},
   "outputs": [
    {
     "name": "stdout",
     "output_type": "stream",
     "text": [
      "The actual EM belongs to the class: dopamine\n",
      "We have 10 reference points inside each of the 6 classes\n",
      "There are 6 average reference embeddings and 60 in total\n"
     ]
    }
   ],
   "source": [
    "print(f'The actual EM belongs to the class: {labels[new_image_index]}')\n",
    "print(f'We have {len(latent_list[0])} reference points inside each of the {len(neurotransmitters)} classes')\n",
    "print(f'There are {len(mean_ref)} average reference embeddings and {len(ref_latents)} in total')"
   ]
  },
  {
   "cell_type": "markdown",
   "metadata": {},
   "source": [
    "# Reference embeddings visualization"
   ]
  },
  {
   "cell_type": "code",
   "execution_count": 6,
   "metadata": {},
   "outputs": [
    {
     "data": {
      "image/png": "[encoded data removed]",
      "text/plain": [
       "<Figure size 1200x700 with 2 Axes>"
      ]
     },
     "metadata": {},
     "output_type": "display_data"
    }
   ],
   "source": [
    "similarity_matrix = euclidean_distances(mean_ref, mean_ref)\n",
    "plt.figure(figsize=(12,7), dpi=100)\n",
    "sns.heatmap(similarity_matrix, xticklabels=mean_labs, yticklabels=mean_labs, cmap='Reds')\n",
    "plt.title('Cosine simililarity matrix')\n",
    "plt.xlabel('Image patches')\n",
    "plt.ylabel('Reference embeddings')\n",
    "plt.show()"
   ]
  },
  {
   "cell_type": "code",
   "execution_count": 7,
   "metadata": {},
   "outputs": [
    {
     "name": "stderr",
     "output_type": "stream",
     "text": [
      "/opt/anaconda3/lib/python3.10/site-packages/sklearn/utils/deprecation.py:151: FutureWarning: 'force_all_finite' was renamed to 'ensure_all_finite' in 1.6 and will be removed in 1.8.\n",
      "  warnings.warn(\n",
      "/opt/anaconda3/lib/python3.10/site-packages/umap/umap_.py:1952: UserWarning: n_jobs value 1 overridden to 1 by setting random_state. Use no seed for parallelism.\n",
      "  warn(\n",
      "OMP: Info #276: omp_set_nested routine deprecated, please use omp_set_max_active_levels instead.\n"
     ]
    },
    {
     "data": {
      "application/vnd.plotly.v1+json": {
       "config": {
        "plotlyServerURL": "https://plot.ly"
       },
       "data": [
        {
         "hovertemplate": "color=acetylcholine<br>x=%{x}<br>y=%{y}<extra></extra>",
         "legendgroup": "acetylcholine",
         "marker": {
          "color": "#636efa",
          "symbol": "circle"
         },
         "mode": "markers",
         "name": "acetylcholine",
         "orientation": "v",
         "showlegend": true,
         "type": "scatter",
         "x": {
          "bdata": "MGx6QdC+hUHdcYNBu/2BQd6EbEGqP2JBdOVjQduOW0EZ4XNBb01tQYAVdEE=",
          "dtype": "f4"
         },
         "xaxis": "x",
         "y": {
          "bdata": "CM9qQN+yg0DJp1lAMB+NQCCwwUDldKRAeHrKQOdBsECEMLtAEnKgQAqHlUA=",
          "dtype": "f4"
         },
         "yaxis": "y"
        },
        {
         "hovertemplate": "color=dopamine<br>x=%{x}<br>y=%{y}<extra></extra>",
         "legendgroup": "dopamine",
         "marker": {
          "color": "#EF553B",
          "symbol": "circle"
         },
         "mode": "markers",
         "name": "dopamine",
         "orientation": "v",
         "showlegend": true,
         "type": "scatter",
         "x": {
          "bdata": "hoxFwTdEP8Gwv0zBqohPwWBLM8FZlTXBqBtBwd1wK8G9ElTBDnFawVUBOME=",
          "dtype": "f4"
         },
         "xaxis": "x",
         "y": {
          "bdata": "69kDQVDQC0GXUw1BKhAVQRoPNkHmMzFBZegqQUkoKkFp9vtAng8NQdJDHEE=",
          "dtype": "f4"
         },
         "yaxis": "y"
        },
        {
         "hovertemplate": "color=gaba<br>x=%{x}<br>y=%{y}<extra></extra>",
         "legendgroup": "gaba",
         "marker": {
          "color": "#00cc96",
          "symbol": "circle"
         },
         "mode": "markers",
         "name": "gaba",
         "orientation": "v",
         "showlegend": true,
         "type": "scatter",
         "x": {
          "bdata": "JPkMwVNtGMFaNSLBfBUhwdXgK8FAtSjByTsawV78GsHG0wzB4DEVwZvRIME=",
          "dtype": "f4"
         },
         "xaxis": "x",
         "y": {
          "bdata": "Y7ycwXMJn8ExGqXBfWOfwcQIkME+Bo3BgZmPwb02i8GOSKbBVnGkwbWMl8E=",
          "dtype": "f4"
         },
         "yaxis": "y"
        },
        {
         "hovertemplate": "color=glutamate<br>x=%{x}<br>y=%{y}<extra></extra>",
         "legendgroup": "glutamate",
         "marker": {
          "color": "#ab63fa",
          "symbol": "circle"
         },
         "mode": "markers",
         "name": "glutamate",
         "orientation": "v",
         "showlegend": true,
         "type": "scatter",
         "x": {
          "bdata": "abdSwAFDgcD6oWjASZQ7wGeJrsC4WbPAtxyowLL0xMBGwKHAbcyRwNYbk8A=",
          "dtype": "f4"
         },
         "xaxis": "x",
         "y": {
          "bdata": "zPSaQdrhnkHQKKNB8pCgQRRopEG3r5pBNbWhQZJqnUHVopNBQXGVQailnUE=",
          "dtype": "f4"
         },
         "yaxis": "y"
        },
        {
         "hovertemplate": "color=octopamine<br>x=%{x}<br>y=%{y}<extra></extra>",
         "legendgroup": "octopamine",
         "marker": {
          "color": "#FFA15A",
          "symbol": "circle"
         },
         "mode": "markers",
         "name": "octopamine",
         "orientation": "v",
         "showlegend": true,
         "type": "scatter",
         "x": {
          "bdata": "Hef3wJdW7MCQAf/A7IfswP2crcB7KcnA4i+6wBtiqcBWeczAU5/NwI1718A=",
          "dtype": "f4"
         },
         "xaxis": "x",
         "y": {
          "bdata": "iR8GQSA44kCZWvJAanQDQcMk3EC5FctAzV24QEMhy0DC8v5AdfYEQUGc3EA=",
          "dtype": "f4"
         },
         "yaxis": "y"
        },
        {
         "hovertemplate": "color=serotonin<br>x=%{x}<br>y=%{y}<extra></extra>",
         "legendgroup": "serotonin",
         "marker": {
          "color": "#19d3f3",
          "symbol": "circle"
         },
         "mode": "markers",
         "name": "serotonin",
         "orientation": "v",
         "showlegend": true,
         "type": "scatter",
         "x": {
          "bdata": "jLumwM99kMD5LI7AVa2gwPNP8MBwrNDALq7pwD4C58BCprnA5ZK8wKFcxcA=",
          "dtype": "f4"
         },
         "xaxis": "x",
         "y": {
          "bdata": "0HTDP888+z8bq5I/sl8OPwlixD9or68+HsICP4uYsj+QJR1AEJzPP+oerj8=",
          "dtype": "f4"
         },
         "yaxis": "y"
        }
       ],
       "layout": {
        "height": 1000,
        "legend": {
         "title": {
          "text": "color"
         },
         "tracegroupgap": 0
        },
        "template": {
         "data": {
          "bar": [
           {
            "error_x": {
             "color": "#2a3f5f"
            },
            "error_y": {
             "color": "#2a3f5f"
            },
            "marker": {
             "line": {
              "color": "#E5ECF6",
              "width": 0.5
             },
             "pattern": {
              "fillmode": "overlay",
              "size": 10,
              "solidity": 0.2
             }
            },
            "type": "bar"
           }
          ],
          "barpolar": [
           {
            "marker": {
             "line": {
              "color": "#E5ECF6",
              "width": 0.5
             },
             "pattern": {
              "fillmode": "overlay",
              "size": 10,
              "solidity": 0.2
             }
            },
            "type": "barpolar"
           }
          ],
          "carpet": [
           {
            "aaxis": {
             "endlinecolor": "#2a3f5f",
             "gridcolor": "white",
             "linecolor": "white",
             "minorgridcolor": "white",
             "startlinecolor": "#2a3f5f"
            },
            "baxis": {
             "endlinecolor": "#2a3f5f",
             "gridcolor": "white",
             "linecolor": "white",
             "minorgridcolor": "white",
             "startlinecolor": "#2a3f5f"
            },
            "type": "carpet"
           }
          ],
          "choropleth": [
           {
            "colorbar": {
             "outlinewidth": 0,
             "ticks": ""
            },
            "type": "choropleth"
           }
          ],
          "contour": [
           {
            "colorbar": {
             "outlinewidth": 0,
             "ticks": ""
            },
            "colorscale": [
             [
              0,
              "#0d0887"
             ],
             [
              0.1111111111111111,
              "#46039f"
             ],
             [
              0.2222222222222222,
              "#7201a8"
             ],
             [
              0.3333333333333333,
              "#9c179e"
             ],
             [
              0.4444444444444444,
              "#bd3786"
             ],
             [
              0.5555555555555556,
              "#d8576b"
             ],
             [
              0.6666666666666666,
              "#ed7953"
             ],
             [
              0.7777777777777778,
              "#fb9f3a"
             ],
             [
              0.8888888888888888,
              "#fdca26"
             ],
             [
              1,
              "#f0f921"
             ]
            ],
            "type": "contour"
           }
          ],
          "contourcarpet": [
           {
            "colorbar": {
             "outlinewidth": 0,
             "ticks": ""
            },
            "type": "contourcarpet"
           }
          ],
          "heatmap": [
           {
            "colorbar": {
             "outlinewidth": 0,
             "ticks": ""
            },
            "colorscale": [
             [
              0,
              "#0d0887"
             ],
             [
              0.1111111111111111,
              "#46039f"
             ],
             [
              0.2222222222222222,
              "#7201a8"
             ],
             [
              0.3333333333333333,
              "#9c179e"
             ],
             [
              0.4444444444444444,
              "#bd3786"
             ],
             [
              0.5555555555555556,
              "#d8576b"
             ],
             [
              0.6666666666666666,
              "#ed7953"
             ],
             [
              0.7777777777777778,
              "#fb9f3a"
             ],
             [
              0.8888888888888888,
              "#fdca26"
             ],
             [
              1,
              "#f0f921"
             ]
            ],
            "type": "heatmap"
           }
          ],
          "histogram": [
           {
            "marker": {
             "pattern": {
              "fillmode": "overlay",
              "size": 10,
              "solidity": 0.2
             }
            },
            "type": "histogram"
           }
          ],
          "histogram2d": [
           {
            "colorbar": {
             "outlinewidth": 0,
             "ticks": ""
            },
            "colorscale": [
             [
              0,
              "#0d0887"
             ],
             [
              0.1111111111111111,
              "#46039f"
             ],
             [
              0.2222222222222222,
              "#7201a8"
             ],
             [
              0.3333333333333333,
              "#9c179e"
             ],
             [
              0.4444444444444444,
              "#bd3786"
             ],
             [
              0.5555555555555556,
              "#d8576b"
             ],
             [
              0.6666666666666666,
              "#ed7953"
             ],
             [
              0.7777777777777778,
              "#fb9f3a"
             ],
             [
              0.8888888888888888,
              "#fdca26"
             ],
             [
              1,
              "#f0f921"
             ]
            ],
            "type": "histogram2d"
           }
          ],
          "histogram2dcontour": [
           {
            "colorbar": {
             "outlinewidth": 0,
             "ticks": ""
            },
            "colorscale": [
             [
              0,
              "#0d0887"
             ],
             [
              0.1111111111111111,
              "#46039f"
             ],
             [
              0.2222222222222222,
              "#7201a8"
             ],
             [
              0.3333333333333333,
              "#9c179e"
             ],
             [
              0.4444444444444444,
              "#bd3786"
             ],
             [
              0.5555555555555556,
              "#d8576b"
             ],
             [
              0.6666666666666666,
              "#ed7953"
             ],
             [
              0.7777777777777778,
              "#fb9f3a"
             ],
             [
              0.8888888888888888,
              "#fdca26"
             ],
             [
              1,
              "#f0f921"
             ]
            ],
            "type": "histogram2dcontour"
           }
          ],
          "mesh3d": [
           {
            "colorbar": {
             "outlinewidth": 0,
             "ticks": ""
            },
            "type": "mesh3d"
           }
          ],
          "parcoords": [
           {
            "line": {
             "colorbar": {
              "outlinewidth": 0,
              "ticks": ""
             }
            },
            "type": "parcoords"
           }
          ],
          "pie": [
           {
            "automargin": true,
            "type": "pie"
           }
          ],
          "scatter": [
           {
            "fillpattern": {
             "fillmode": "overlay",
             "size": 10,
             "solidity": 0.2
            },
            "type": "scatter"
           }
          ],
          "scatter3d": [
           {
            "line": {
             "colorbar": {
              "outlinewidth": 0,
              "ticks": ""
             }
            },
            "marker": {
             "colorbar": {
              "outlinewidth": 0,
              "ticks": ""
             }
            },
            "type": "scatter3d"
           }
          ],
          "scattercarpet": [
           {
            "marker": {
             "colorbar": {
              "outlinewidth": 0,
              "ticks": ""
             }
            },
            "type": "scattercarpet"
           }
          ],
          "scattergeo": [
           {
            "marker": {
             "colorbar": {
              "outlinewidth": 0,
              "ticks": ""
             }
            },
            "type": "scattergeo"
           }
          ],
          "scattergl": [
           {
            "marker": {
             "colorbar": {
              "outlinewidth": 0,
              "ticks": ""
             }
            },
            "type": "scattergl"
           }
          ],
          "scattermap": [
           {
            "marker": {
             "colorbar": {
              "outlinewidth": 0,
              "ticks": ""
             }
            },
            "type": "scattermap"
           }
          ],
          "scattermapbox": [
           {
            "marker": {
             "colorbar": {
              "outlinewidth": 0,
              "ticks": ""
             }
            },
            "type": "scattermapbox"
           }
          ],
          "scatterpolar": [
           {
            "marker": {
             "colorbar": {
              "outlinewidth": 0,
              "ticks": ""
             }
            },
            "type": "scatterpolar"
           }
          ],
          "scatterpolargl": [
           {
            "marker": {
             "colorbar": {
              "outlinewidth": 0,
              "ticks": ""
             }
            },
            "type": "scatterpolargl"
           }
          ],
          "scatterternary": [
           {
            "marker": {
             "colorbar": {
              "outlinewidth": 0,
              "ticks": ""
             }
            },
            "type": "scatterternary"
           }
          ],
          "surface": [
           {
            "colorbar": {
             "outlinewidth": 0,
             "ticks": ""
            },
            "colorscale": [
             [
              0,
              "#0d0887"
             ],
             [
              0.1111111111111111,
              "#46039f"
             ],
             [
              0.2222222222222222,
              "#7201a8"
             ],
             [
              0.3333333333333333,
              "#9c179e"
             ],
             [
              0.4444444444444444,
              "#bd3786"
             ],
             [
              0.5555555555555556,
              "#d8576b"
             ],
             [
              0.6666666666666666,
              "#ed7953"
             ],
             [
              0.7777777777777778,
              "#fb9f3a"
             ],
             [
              0.8888888888888888,
              "#fdca26"
             ],
             [
              1,
              "#f0f921"
             ]
            ],
            "type": "surface"
           }
          ],
          "table": [
           {
            "cells": {
             "fill": {
              "color": "#EBF0F8"
             },
             "line": {
              "color": "white"
             }
            },
            "header": {
             "fill": {
              "color": "#C8D4E3"
             },
             "line": {
              "color": "white"
             }
            },
            "type": "table"
           }
          ]
         },
         "layout": {
          "annotationdefaults": {
           "arrowcolor": "#2a3f5f",
           "arrowhead": 0,
           "arrowwidth": 1
          },
          "autotypenumbers": "strict",
          "coloraxis": {
           "colorbar": {
            "outlinewidth": 0,
            "ticks": ""
           }
          },
          "colorscale": {
           "diverging": [
            [
             0,
             "#8e0152"
            ],
            [
             0.1,
             "#c51b7d"
            ],
            [
             0.2,
             "#de77ae"
            ],
            [
             0.3,
             "#f1b6da"
            ],
            [
             0.4,
             "#fde0ef"
            ],
            [
             0.5,
             "#f7f7f7"
            ],
            [
             0.6,
             "#e6f5d0"
            ],
            [
             0.7,
             "#b8e186"
            ],
            [
             0.8,
             "#7fbc41"
            ],
            [
             0.9,
             "#4d9221"
            ],
            [
             1,
             "#276419"
            ]
           ],
           "sequential": [
            [
             0,
             "#0d0887"
            ],
            [
             0.1111111111111111,
             "#46039f"
            ],
            [
             0.2222222222222222,
             "#7201a8"
            ],
            [
             0.3333333333333333,
             "#9c179e"
            ],
            [
             0.4444444444444444,
             "#bd3786"
            ],
            [
             0.5555555555555556,
             "#d8576b"
            ],
            [
             0.6666666666666666,
             "#ed7953"
            ],
            [
             0.7777777777777778,
             "#fb9f3a"
            ],
            [
             0.8888888888888888,
             "#fdca26"
            ],
            [
             1,
             "#f0f921"
            ]
           ],
           "sequentialminus": [
            [
             0,
             "#0d0887"
            ],
            [
             0.1111111111111111,
             "#46039f"
            ],
            [
             0.2222222222222222,
             "#7201a8"
            ],
            [
             0.3333333333333333,
             "#9c179e"
            ],
            [
             0.4444444444444444,
             "#bd3786"
            ],
            [
             0.5555555555555556,
             "#d8576b"
            ],
            [
             0.6666666666666666,
             "#ed7953"
            ],
            [
             0.7777777777777778,
             "#fb9f3a"
            ],
            [
             0.8888888888888888,
             "#fdca26"
            ],
            [
             1,
             "#f0f921"
            ]
           ]
          },
          "colorway": [
           "#636efa",
           "#EF553B",
           "#00cc96",
           "#ab63fa",
           "#FFA15A",
           "#19d3f3",
           "#FF6692",
           "#B6E880",
           "#FF97FF",
           "#FECB52"
          ],
          "font": {
           "color": "#2a3f5f"
          },
          "geo": {
           "bgcolor": "white",
           "lakecolor": "white",
           "landcolor": "#E5ECF6",
           "showlakes": true,
           "showland": true,
           "subunitcolor": "white"
          },
          "hoverlabel": {
           "align": "left"
          },
          "hovermode": "closest",
          "mapbox": {
           "style": "light"
          },
          "paper_bgcolor": "white",
          "plot_bgcolor": "#E5ECF6",
          "polar": {
           "angularaxis": {
            "gridcolor": "white",
            "linecolor": "white",
            "ticks": ""
           },
           "bgcolor": "#E5ECF6",
           "radialaxis": {
            "gridcolor": "white",
            "linecolor": "white",
            "ticks": ""
           }
          },
          "scene": {
           "xaxis": {
            "backgroundcolor": "#E5ECF6",
            "gridcolor": "white",
            "gridwidth": 2,
            "linecolor": "white",
            "showbackground": true,
            "ticks": "",
            "zerolinecolor": "white"
           },
           "yaxis": {
            "backgroundcolor": "#E5ECF6",
            "gridcolor": "white",
            "gridwidth": 2,
            "linecolor": "white",
            "showbackground": true,
            "ticks": "",
            "zerolinecolor": "white"
           },
           "zaxis": {
            "backgroundcolor": "#E5ECF6",
            "gridcolor": "white",
            "gridwidth": 2,
            "linecolor": "white",
            "showbackground": true,
            "ticks": "",
            "zerolinecolor": "white"
           }
          },
          "shapedefaults": {
           "line": {
            "color": "#2a3f5f"
           }
          },
          "ternary": {
           "aaxis": {
            "gridcolor": "white",
            "linecolor": "white",
            "ticks": ""
           },
           "baxis": {
            "gridcolor": "white",
            "linecolor": "white",
            "ticks": ""
           },
           "bgcolor": "#E5ECF6",
           "caxis": {
            "gridcolor": "white",
            "linecolor": "white",
            "ticks": ""
           }
          },
          "title": {
           "x": 0.05
          },
          "xaxis": {
           "automargin": true,
           "gridcolor": "white",
           "linecolor": "white",
           "ticks": "",
           "title": {
            "standoff": 15
           },
           "zerolinecolor": "white",
           "zerolinewidth": 2
          },
          "yaxis": {
           "automargin": true,
           "gridcolor": "white",
           "linecolor": "white",
           "ticks": "",
           "title": {
            "standoff": 15
           },
           "zerolinecolor": "white",
           "zerolinewidth": 2
          }
         }
        },
        "title": {
         "text": "PCA=False (100) - UMAP (n_neighbors=10, min_dist=1, n_components=2, metric=cosine)"
        },
        "width": 1500,
        "xaxis": {
         "anchor": "y",
         "domain": [
          0,
          1
         ],
         "title": {
          "text": "x"
         }
        },
        "yaxis": {
         "anchor": "x",
         "domain": [
          0,
          1
         ],
         "title": {
          "text": "y"
         }
        }
       }
      }
     },
     "metadata": {},
     "output_type": "display_data"
    }
   ],
   "source": [
    "diplay_features(\n",
    "        np.vstack([ref_latents, np.vstack(mean_ref)]),\n",
    "        np.hstack([ref_labels, np.hstack(mean_labs)]),\n",
    "\n",
    "        include_pca=False,\n",
    "        pca_nb_components=100,\n",
    "        clustering=False,\n",
    "        nb_clusters=6,\n",
    "        nb_neighbor=10,\n",
    "        min_dist=1,\n",
    "        nb_components=2,\n",
    "        metric='cosine'\n",
    "    )"
   ]
  },
  {
   "cell_type": "code",
   "execution_count": 8,
   "metadata": {},
   "outputs": [
    {
     "data": {
      "image/png": "[encoded data removed]",
      "text/plain": [
       "<Figure size 1200x700 with 1 Axes>"
      ]
     },
     "metadata": {},
     "output_type": "display_data"
    }
   ],
   "source": [
    "from sklearn.cluster import KMeans\n",
    "inertia_list = []\n",
    "for k in range(1,len(mean_labs)+1):\n",
    "    kmeans = KMeans(n_clusters=k).fit(ref_latents)\n",
    "    inertia_list.append(kmeans.inertia_)\n",
    "plt.figure(figsize=(12,7),dpi=100)\n",
    "plt.plot([i for i in range(1,len(mean_labs)+1)], inertia_list)\n",
    "plt.title('Reference Embeddings - KMeans inertia ')\n",
    "plt.ylabel('Inertia')\n",
    "plt.xlabel('Nb of clusters')\n",
    "plt.show()"
   ]
  },
  {
   "cell_type": "markdown",
   "metadata": {},
   "source": [
    "# Results "
   ]
  },
  {
   "cell_type": "code",
   "execution_count": 9,
   "metadata": {},
   "outputs": [
    {
     "name": "stderr",
     "output_type": "stream",
     "text": [
      "/opt/anaconda3/lib/python3.10/site-packages/sklearn/utils/deprecation.py:151: FutureWarning:\n",
      "\n",
      "'force_all_finite' was renamed to 'ensure_all_finite' in 1.6 and will be removed in 1.8.\n",
      "\n",
      "/opt/anaconda3/lib/python3.10/site-packages/umap/umap_.py:1952: UserWarning:\n",
      "\n",
      "n_jobs value 1 overridden to 1 by setting random_state. Use no seed for parallelism.\n",
      "\n"
     ]
    },
    {
     "data": {
      "application/vnd.plotly.v1+json": {
       "config": {
        "plotlyServerURL": "https://plot.ly"
       },
       "data": [
        {
         "hovertemplate": "color=acetylcholine<br>x=%{x}<br>y=%{y}<extra></extra>",
         "legendgroup": "acetylcholine",
         "marker": {
          "color": "#636efa",
          "symbol": "circle"
         },
         "mode": "markers",
         "name": "acetylcholine",
         "showlegend": true,
         "type": "scattergl",
         "x": {
          "bdata": "FcdBwQemQ8FgL0HBK3NEwYSGQ8E/6kbBDYZDwQVmQcGzbUbBYFZAwQ==",
          "dtype": "f4"
         },
         "xaxis": "x",
         "y": {
          "bdata": "c0KpQbwoqEEClalB6gKqQQRAqUHaZ6pBOIirQQH1p0GrLqdB5dioQQ==",
          "dtype": "f4"
         },
         "yaxis": "y"
        },
        {
         "hovertemplate": "color=dopamine<br>x=%{x}<br>y=%{y}<extra></extra>",
         "legendgroup": "dopamine",
         "marker": {
          "color": "#EF553B",
          "symbol": "circle"
         },
         "mode": "markers",
         "name": "dopamine",
         "showlegend": true,
         "type": "scattergl",
         "x": {
          "bdata": "VwzYwFu6ysA7htXAnBbPwD6Z2MAI8dbAsgXYwP6V08ClWcnAldDNwA==",
          "dtype": "f4"
         },
         "xaxis": "x",
         "y": {
          "bdata": "iJKZwbsrlsGgLpnBLWiXwXuJl8HbmJbBXyCZwQdRmMGTY5nBbWeXwQ==",
          "dtype": "f4"
         },
         "yaxis": "y"
        },
        {
         "hovertemplate": "color=gaba<br>x=%{x}<br>y=%{y}<extra></extra>",
         "legendgroup": "gaba",
         "marker": {
          "color": "#00cc96",
          "symbol": "circle"
         },
         "mode": "markers",
         "name": "gaba",
         "showlegend": true,
         "type": "scattergl",
         "x": {
          "bdata": "0Mp2QRYRc0EBDHRBKnJzQTPWcEHAh3FB2211QW+fcEGFf3lBEUF2QQ==",
          "dtype": "f4"
         },
         "xaxis": "x",
         "y": {
          "bdata": "+e20weajtcGBorbBJOK0wRfCtsETgrXB64S3wW37tMFFybTBtSq4wQ==",
          "dtype": "f4"
         },
         "yaxis": "y"
        },
        {
         "hovertemplate": "color=glutamate<br>x=%{x}<br>y=%{y}<extra></extra>",
         "legendgroup": "glutamate",
         "marker": {
          "color": "#ab63fa",
          "symbol": "circle"
         },
         "mode": "markers",
         "name": "glutamate",
         "showlegend": true,
         "type": "scattergl",
         "x": {
          "bdata": "jVu7Py2etT90itU/SAbQP+1Fzz9wI6Y/aSOhP8fStj8uZow/BNKsPw==",
          "dtype": "f4"
         },
         "xaxis": "x",
         "y": {
          "bdata": "yTSXwZn7lsFB45bBjpuYwfH1lsGgj5jBHWWVwbg2l8F+tZTBmVWWwQ==",
          "dtype": "f4"
         },
         "yaxis": "y"
        },
        {
         "hovertemplate": "color=octopamine<br>x=%{x}<br>y=%{y}<extra></extra>",
         "legendgroup": "octopamine",
         "marker": {
          "color": "#FFA15A",
          "symbol": "circle"
         },
         "mode": "markers",
         "name": "octopamine",
         "showlegend": true,
         "type": "scattergl",
         "x": {
          "bdata": "kJiwwAYtu8BriLPAqhGywLxQssC6NrnAACmvwL1UvMDSX7zAy1S2wA==",
          "dtype": "f4"
         },
         "xaxis": "x",
         "y": {
          "bdata": "VWilv2uUjb//7WW/AuahvxJWsb/UHIu/TOKSv4kjlL865mW/yWllvw==",
          "dtype": "f4"
         },
         "yaxis": "y"
        },
        {
         "hovertemplate": "color=serotonin<br>x=%{x}<br>y=%{y}<extra></extra>",
         "legendgroup": "serotonin",
         "marker": {
          "color": "#19d3f3",
          "symbol": "circle"
         },
         "mode": "markers",
         "name": "serotonin",
         "showlegend": true,
         "type": "scattergl",
         "x": {
          "bdata": "sJYHQEll+T8+0RJAT3f/P+Hx7z+RAwZAxSUAQMhPD0AlkQVAU80GQA==",
          "dtype": "f4"
         },
         "xaxis": "x",
         "y": {
          "bdata": "LSx0wWGodcGGoHDB20R0wcUzdsHpK3TB/Jh2wdyGccHjD3PBWeZywQ==",
          "dtype": "f4"
         },
         "yaxis": "y"
        },
        {
         "hovertemplate": "color=new<br>x=%{x}<br>y=%{y}<extra></extra>",
         "legendgroup": "new",
         "marker": {
          "color": "#FF6692",
          "symbol": "circle"
         },
         "mode": "markers",
         "name": "new",
         "showlegend": true,
         "type": "scattergl",
         "x": {
          "bdata": "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",
          "dtype": "f4"
         },
         "xaxis": "x",
         "y": {
          "bdata": "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",
          "dtype": "f4"
         },
         "yaxis": "y"
        }
       ],
       "layout": {
        "height": 1000,
        "legend": {
         "title": {
          "text": "color"
         },
         "tracegroupgap": 0
        },
        "template": {
         "data": {
          "bar": [
           {
            "error_x": {
             "color": "#2a3f5f"
            },
            "error_y": {
             "color": "#2a3f5f"
            },
            "marker": {
             "line": {
              "color": "#E5ECF6",
              "width": 0.5
             },
             "pattern": {
              "fillmode": "overlay",
              "size": 10,
              "solidity": 0.2
             }
            },
            "type": "bar"
           }
          ],
          "barpolar": [
           {
            "marker": {
             "line": {
              "color": "#E5ECF6",
              "width": 0.5
             },
             "pattern": {
              "fillmode": "overlay",
              "size": 10,
              "solidity": 0.2
             }
            },
            "type": "barpolar"
           }
          ],
          "carpet": [
           {
            "aaxis": {
             "endlinecolor": "#2a3f5f",
             "gridcolor": "white",
             "linecolor": "white",
             "minorgridcolor": "white",
             "startlinecolor": "#2a3f5f"
            },
            "baxis": {
             "endlinecolor": "#2a3f5f",
             "gridcolor": "white",
             "linecolor": "white",
             "minorgridcolor": "white",
             "startlinecolor": "#2a3f5f"
            },
            "type": "carpet"
           }
          ],
          "choropleth": [
           {
            "colorbar": {
             "outlinewidth": 0,
             "ticks": ""
            },
            "type": "choropleth"
           }
          ],
          "contour": [
           {
            "colorbar": {
             "outlinewidth": 0,
             "ticks": ""
            },
            "colorscale": [
             [
              0,
              "#0d0887"
             ],
             [
              0.1111111111111111,
              "#46039f"
             ],
             [
              0.2222222222222222,
              "#7201a8"
             ],
             [
              0.3333333333333333,
              "#9c179e"
             ],
             [
              0.4444444444444444,
              "#bd3786"
             ],
             [
              0.5555555555555556,
              "#d8576b"
             ],
             [
              0.6666666666666666,
              "#ed7953"
             ],
             [
              0.7777777777777778,
              "#fb9f3a"
             ],
             [
              0.8888888888888888,
              "#fdca26"
             ],
             [
              1,
              "#f0f921"
             ]
            ],
            "type": "contour"
           }
          ],
          "contourcarpet": [
           {
            "colorbar": {
             "outlinewidth": 0,
             "ticks": ""
            },
            "type": "contourcarpet"
           }
          ],
          "heatmap": [
           {
            "colorbar": {
             "outlinewidth": 0,
             "ticks": ""
            },
            "colorscale": [
             [
              0,
              "#0d0887"
             ],
             [
              0.1111111111111111,
              "#46039f"
             ],
             [
              0.2222222222222222,
              "#7201a8"
             ],
             [
              0.3333333333333333,
              "#9c179e"
             ],
             [
              0.4444444444444444,
              "#bd3786"
             ],
             [
              0.5555555555555556,
              "#d8576b"
             ],
             [
              0.6666666666666666,
              "#ed7953"
             ],
             [
              0.7777777777777778,
              "#fb9f3a"
             ],
             [
              0.8888888888888888,
              "#fdca26"
             ],
             [
              1,
              "#f0f921"
             ]
            ],
            "type": "heatmap"
           }
          ],
          "histogram": [
           {
            "marker": {
             "pattern": {
              "fillmode": "overlay",
              "size": 10,
              "solidity": 0.2
             }
            },
            "type": "histogram"
           }
          ],
          "histogram2d": [
           {
            "colorbar": {
             "outlinewidth": 0,
             "ticks": ""
            },
            "colorscale": [
             [
              0,
              "#0d0887"
             ],
             [
              0.1111111111111111,
              "#46039f"
             ],
             [
              0.2222222222222222,
              "#7201a8"
             ],
             [
              0.3333333333333333,
              "#9c179e"
             ],
             [
              0.4444444444444444,
              "#bd3786"
             ],
             [
              0.5555555555555556,
              "#d8576b"
             ],
             [
              0.6666666666666666,
              "#ed7953"
             ],
             [
              0.7777777777777778,
              "#fb9f3a"
             ],
             [
              0.8888888888888888,
              "#fdca26"
             ],
             [
              1,
              "#f0f921"
             ]
            ],
            "type": "histogram2d"
           }
          ],
          "histogram2dcontour": [
           {
            "colorbar": {
             "outlinewidth": 0,
             "ticks": ""
            },
            "colorscale": [
             [
              0,
              "#0d0887"
             ],
             [
              0.1111111111111111,
              "#46039f"
             ],
             [
              0.2222222222222222,
              "#7201a8"
             ],
             [
              0.3333333333333333,
              "#9c179e"
             ],
             [
              0.4444444444444444,
              "#bd3786"
             ],
             [
              0.5555555555555556,
              "#d8576b"
             ],
             [
              0.6666666666666666,
              "#ed7953"
             ],
             [
              0.7777777777777778,
              "#fb9f3a"
             ],
             [
              0.8888888888888888,
              "#fdca26"
             ],
             [
              1,
              "#f0f921"
             ]
            ],
            "type": "histogram2dcontour"
           }
          ],
          "mesh3d": [
           {
            "colorbar": {
             "outlinewidth": 0,
             "ticks": ""
            },
            "type": "mesh3d"
           }
          ],
          "parcoords": [
           {
            "line": {
             "colorbar": {
              "outlinewidth": 0,
              "ticks": ""
             }
            },
            "type": "parcoords"
           }
          ],
          "pie": [
           {
            "automargin": true,
            "type": "pie"
           }
          ],
          "scatter": [
           {
            "fillpattern": {
             "fillmode": "overlay",
             "size": 10,
             "solidity": 0.2
            },
            "type": "scatter"
           }
          ],
          "scatter3d": [
           {
            "line": {
             "colorbar": {
              "outlinewidth": 0,
              "ticks": ""
             }
            },
            "marker": {
             "colorbar": {
              "outlinewidth": 0,
              "ticks": ""
             }
            },
            "type": "scatter3d"
           }
          ],
          "scattercarpet": [
           {
            "marker": {
             "colorbar": {
              "outlinewidth": 0,
              "ticks": ""
             }
            },
            "type": "scattercarpet"
           }
          ],
          "scattergeo": [
           {
            "marker": {
             "colorbar": {
              "outlinewidth": 0,
              "ticks": ""
             }
            },
            "type": "scattergeo"
           }
          ],
          "scattergl": [
           {
            "marker": {
             "colorbar": {
              "outlinewidth": 0,
              "ticks": ""
             }
            },
            "type": "scattergl"
           }
          ],
          "scattermap": [
           {
            "marker": {
             "colorbar": {
              "outlinewidth": 0,
              "ticks": ""
             }
            },
            "type": "scattermap"
           }
          ],
          "scattermapbox": [
           {
            "marker": {
             "colorbar": {
              "outlinewidth": 0,
              "ticks": ""
             }
            },
            "type": "scattermapbox"
           }
          ],
          "scatterpolar": [
           {
            "marker": {
             "colorbar": {
              "outlinewidth": 0,
              "ticks": ""
             }
            },
            "type": "scatterpolar"
           }
          ],
          "scatterpolargl": [
           {
            "marker": {
             "colorbar": {
              "outlinewidth": 0,
              "ticks": ""
             }
            },
            "type": "scatterpolargl"
           }
          ],
          "scatterternary": [
           {
            "marker": {
             "colorbar": {
              "outlinewidth": 0,
              "ticks": ""
             }
            },
            "type": "scatterternary"
           }
          ],
          "surface": [
           {
            "colorbar": {
             "outlinewidth": 0,
             "ticks": ""
            },
            "colorscale": [
             [
              0,
              "#0d0887"
             ],
             [
              0.1111111111111111,
              "#46039f"
             ],
             [
              0.2222222222222222,
              "#7201a8"
             ],
             [
              0.3333333333333333,
              "#9c179e"
             ],
             [
              0.4444444444444444,
              "#bd3786"
             ],
             [
              0.5555555555555556,
              "#d8576b"
             ],
             [
              0.6666666666666666,
              "#ed7953"
             ],
             [
              0.7777777777777778,
              "#fb9f3a"
             ],
             [
              0.8888888888888888,
              "#fdca26"
             ],
             [
              1,
              "#f0f921"
             ]
            ],
            "type": "surface"
           }
          ],
          "table": [
           {
            "cells": {
             "fill": {
              "color": "#EBF0F8"
             },
             "line": {
              "color": "white"
             }
            },
            "header": {
             "fill": {
              "color": "#C8D4E3"
             },
             "line": {
              "color": "white"
             }
            },
            "type": "table"
           }
          ]
         },
         "layout": {
          "annotationdefaults": {
           "arrowcolor": "#2a3f5f",
           "arrowhead": 0,
           "arrowwidth": 1
          },
          "autotypenumbers": "strict",
          "coloraxis": {
           "colorbar": {
            "outlinewidth": 0,
            "ticks": ""
           }
          },
          "colorscale": {
           "diverging": [
            [
             0,
             "#8e0152"
            ],
            [
             0.1,
             "#c51b7d"
            ],
            [
             0.2,
             "#de77ae"
            ],
            [
             0.3,
             "#f1b6da"
            ],
            [
             0.4,
             "#fde0ef"
            ],
            [
             0.5,
             "#f7f7f7"
            ],
            [
             0.6,
             "#e6f5d0"
            ],
            [
             0.7,
             "#b8e186"
            ],
            [
             0.8,
             "#7fbc41"
            ],
            [
             0.9,
             "#4d9221"
            ],
            [
             1,
             "#276419"
            ]
           ],
           "sequential": [
            [
             0,
             "#0d0887"
            ],
            [
             0.1111111111111111,
             "#46039f"
            ],
            [
             0.2222222222222222,
             "#7201a8"
            ],
            [
             0.3333333333333333,
             "#9c179e"
            ],
            [
             0.4444444444444444,
             "#bd3786"
            ],
            [
             0.5555555555555556,
             "#d8576b"
            ],
            [
             0.6666666666666666,
             "#ed7953"
            ],
            [
             0.7777777777777778,
             "#fb9f3a"
            ],
            [
             0.8888888888888888,
             "#fdca26"
            ],
            [
             1,
             "#f0f921"
            ]
           ],
           "sequentialminus": [
            [
             0,
             "#0d0887"
            ],
            [
             0.1111111111111111,
             "#46039f"
            ],
            [
             0.2222222222222222,
             "#7201a8"
            ],
            [
             0.3333333333333333,
             "#9c179e"
            ],
            [
             0.4444444444444444,
             "#bd3786"
            ],
            [
             0.5555555555555556,
             "#d8576b"
            ],
            [
             0.6666666666666666,
             "#ed7953"
            ],
            [
             0.7777777777777778,
             "#fb9f3a"
            ],
            [
             0.8888888888888888,
             "#fdca26"
            ],
            [
             1,
             "#f0f921"
            ]
           ]
          },
          "colorway": [
           "#636efa",
           "#EF553B",
           "#00cc96",
           "#ab63fa",
           "#FFA15A",
           "#19d3f3",
           "#FF6692",
           "#B6E880",
           "#FF97FF",
           "#FECB52"
          ],
          "font": {
           "color": "#2a3f5f"
          },
          "geo": {
           "bgcolor": "white",
           "lakecolor": "white",
           "landcolor": "#E5ECF6",
           "showlakes": true,
           "showland": true,
           "subunitcolor": "white"
          },
          "hoverlabel": {
           "align": "left"
          },
          "hovermode": "closest",
          "mapbox": {
           "style": "light"
          },
          "paper_bgcolor": "white",
          "plot_bgcolor": "#E5ECF6",
          "polar": {
           "angularaxis": {
            "gridcolor": "white",
            "linecolor": "white",
            "ticks": ""
           },
           "bgcolor": "#E5ECF6",
           "radialaxis": {
            "gridcolor": "white",
            "linecolor": "white",
            "ticks": ""
           }
          },
          "scene": {
           "xaxis": {
            "backgroundcolor": "#E5ECF6",
            "gridcolor": "white",
            "gridwidth": 2,
            "linecolor": "white",
            "showbackground": true,
            "ticks": "",
            "zerolinecolor": "white"
           },
           "yaxis": {
            "backgroundcolor": "#E5ECF6",
            "gridcolor": "white",
            "gridwidth": 2,
            "linecolor": "white",
            "showbackground": true,
            "ticks": "",
            "zerolinecolor": "white"
           },
           "zaxis": {
            "backgroundcolor": "#E5ECF6",
            "gridcolor": "white",
            "gridwidth": 2,
            "linecolor": "white",
            "showbackground": true,
            "ticks": "",
            "zerolinecolor": "white"
           }
          },
          "shapedefaults": {
           "line": {
            "color": "#2a3f5f"
           }
          },
          "ternary": {
           "aaxis": {
            "gridcolor": "white",
            "linecolor": "white",
            "ticks": ""
           },
           "baxis": {
            "gridcolor": "white",
            "linecolor": "white",
            "ticks": ""
           },
           "bgcolor": "#E5ECF6",
           "caxis": {
            "gridcolor": "white",
            "linecolor": "white",
            "ticks": ""
           }
          },
          "title": {
           "x": 0.05
          },
          "xaxis": {
           "automargin": true,
           "gridcolor": "white",
           "linecolor": "white",
           "ticks": "",
           "title": {
            "standoff": 15
           },
           "zerolinecolor": "white",
           "zerolinewidth": 2
          },
          "yaxis": {
           "automargin": true,
           "gridcolor": "white",
           "linecolor": "white",
           "ticks": "",
           "title": {
            "standoff": 15
           },
           "zerolinecolor": "white",
           "zerolinewidth": 2
          }
         }
        },
        "title": {
         "text": "PCA=False (100) - UMAP (n_neighbors=30, min_dist=1, n_components=2, metric=cosine)"
        },
        "width": 1500,
        "xaxis": {
         "anchor": "y",
         "domain": [
          0,
          1
         ],
         "title": {
          "text": "x"
         }
        },
        "yaxis": {
         "anchor": "x",
         "domain": [
          0,
          1
         ],
         "title": {
          "text": "y"
         }
        }
       }
      }
     },
     "metadata": {},
     "output_type": "display_data"
    }
   ],
   "source": [
    "diplay_features(\n",
    "        latents,\n",
    "        labs,\n",
    "        include_pca=False,\n",
    "        pca_nb_components=100,\n",
    "        clustering=False,\n",
    "        nb_clusters=6,\n",
    "        nb_neighbor=30,\n",
    "        min_dist=1,\n",
    "        nb_components=2,\n",
    "        metric='cosine'\n",
    "    )"
   ]
  },
  {
   "cell_type": "code",
   "execution_count": 10,
   "metadata": {},
   "outputs": [
    {
     "data": {
      "image/png": "[encoded data removed]",
      "text/plain": [
       "<Figure size 4500x1500 with 2 Axes>"
      ]
     },
     "metadata": {},
     "output_type": "display_data"
    }
   ],
   "source": [
    "similarity_matrix = euclidean_distances(mean_ref, new_img_embs)\n",
    "similarity_matrix_normalized = (similarity_matrix - np.min(similarity_matrix)) / (np.max(similarity_matrix) - np.min(similarity_matrix))\n",
    "plt.figure(figsize=(15,5),dpi=300)\n",
    "sns.heatmap(similarity_matrix_normalized, yticklabels=mean_labs, cmap='Reds')\n",
    "plt.title('Cosine simililarity matrix')\n",
    "plt.xlabel('Image patches')\n",
    "plt.ylabel('Reference embeddings')\n",
    "plt.show()"
   ]
  },
  {
   "cell_type": "markdown",
   "metadata": {},
   "source": [
    "# Testing loop"
   ]
  },
  {
   "cell_type": "code",
   "execution_count": 11,
   "metadata": {},
   "outputs": [],
   "source": [
    "one_hot_neurotransmitters = np.zeros((len(neurotransmitters),len(neurotransmitters))) + np.identity(len(neurotransmitters))"
   ]
  },
  {
   "cell_type": "code",
   "execution_count": 31,
   "metadata": {},
   "outputs": [
    {
     "name": "stderr",
     "output_type": "stream",
     "text": [
      "0it [00:00, ?it/s]"
     ]
    },
    {
     "name": "stdout",
     "output_type": "stream",
     "text": [
      "Precomputing embeddings\n"
     ]
    },
    {
     "name": "stderr",
     "output_type": "stream",
     "text": [
      "1it [00:01,  1.15s/it]"
     ]
    },
    {
     "name": "stdout",
     "output_type": "stream",
     "text": [
      "Precomputing embeddings\n"
     ]
    },
    {
     "name": "stderr",
     "output_type": "stream",
     "text": [
      "2it [00:02,  1.10s/it]"
     ]
    },
    {
     "name": "stdout",
     "output_type": "stream",
     "text": [
      "Precomputing embeddings\n"
     ]
    },
    {
     "name": "stderr",
     "output_type": "stream",
     "text": [
      "3it [00:03,  1.09s/it]"
     ]
    },
    {
     "name": "stdout",
     "output_type": "stream",
     "text": [
      "Precomputing embeddings\n"
     ]
    },
    {
     "name": "stderr",
     "output_type": "stream",
     "text": [
      "4it [00:04,  1.08s/it]"
     ]
    },
    {
     "name": "stdout",
     "output_type": "stream",
     "text": [
      "Precomputing embeddings\n"
     ]
    },
    {
     "name": "stderr",
     "output_type": "stream",
     "text": [
      "5it [00:05,  1.09s/it]"
     ]
    },
    {
     "name": "stdout",
     "output_type": "stream",
     "text": [
      "Precomputing embeddings\n"
     ]
    },
    {
     "name": "stderr",
     "output_type": "stream",
     "text": [
      "6it [00:06,  1.08s/it]"
     ]
    },
    {
     "name": "stdout",
     "output_type": "stream",
     "text": [
      "Precomputing embeddings\n"
     ]
    },
    {
     "name": "stderr",
     "output_type": "stream",
     "text": [
      "7it [00:07,  1.08s/it]"
     ]
    },
    {
     "name": "stdout",
     "output_type": "stream",
     "text": [
      "Precomputing embeddings\n"
     ]
    },
    {
     "name": "stderr",
     "output_type": "stream",
     "text": [
      "8it [00:08,  1.08s/it]"
     ]
    },
    {
     "name": "stdout",
     "output_type": "stream",
     "text": [
      "Precomputing embeddings\n"
     ]
    },
    {
     "name": "stderr",
     "output_type": "stream",
     "text": [
      "9it [00:09,  1.08s/it]"
     ]
    },
    {
     "name": "stdout",
     "output_type": "stream",
     "text": [
      "Precomputing embeddings\n"
     ]
    },
    {
     "name": "stderr",
     "output_type": "stream",
     "text": [
      "10it [00:10,  1.09s/it]\n"
     ]
    }
   ],
   "source": [
    "score_lists = [[],[],[],[],[],[]]\n",
    "\n",
    "for file, label in tqdm(zip(files, labels)):\n",
    "\n",
    "    img = np.array(load_image(file)[0])[...,np.newaxis]\n",
    "    \n",
    "    few_shot.pre_compute_embeddings(\n",
    "            img,  # Pass numpy array of images\n",
    "            overlap=(0.5, 0.5),\n",
    "            padding=(0, 0),\n",
    "            crop_shape=(512, 512, 1),\n",
    "            verbose=False,\n",
    "            batch_size=1\n",
    "        )\n",
    "\n",
    "    new_img_embs = few_shot.get_embs().reshape(-1, feat_dim)\n",
    "    distance_threshold = 0.05\n",
    "\n",
    "    similarity_matrix = euclidean_distances(mean_ref, new_img_embs)\n",
    "    similarity_matrix_normalized = (similarity_matrix - np.min(similarity_matrix)) / (np.max(similarity_matrix) - np.min(similarity_matrix))\n",
    "\n",
    "    similarity_matrix_normalized_filtered = np.where(similarity_matrix_normalized < distance_threshold, similarity_matrix_normalized, 0)\n",
    "    class_wise_sum = np.sum(similarity_matrix_normalized_filtered, axis = 1)\n",
    "\n",
    "    class_wise_sum_filtered = np.where(class_wise_sum == 0, len(new_img_embs)*distance_threshold, class_wise_sum)\n",
    "\n",
    "\n",
    "    output_class = one_hot_neurotransmitters[np.argmin(class_wise_sum_filtered)]\n",
    "    \n",
    "    gt_index = neurotransmitters.index(label)\n",
    "    ground_truth = one_hot_neurotransmitters[gt_index]\n",
    "    score = np.sum(output_class*ground_truth)\n",
    "    score_lists[gt_index].append(score)"
   ]
  },
  {
   "cell_type": "code",
   "execution_count": null,
   "metadata": {},
   "outputs": [],
   "source": [
    "accuracies = [np.mean(scores) for scores in score_lists]\n",
    "\n",
    "plt.figure(figsize=(12,7), dpi=300)\n",
    "plt.hist(neurotransmitters, accuracies)\n",
    "plt.xlabel('Classes')\n",
    "plt.ylabel('Mean hard accuracy')\n",
    "plt.title('Avergae accuracies across classes')"
   ]
  }
 ],
 "metadata": {
  "kernelspec": {
   "display_name": "base",
   "language": "python",
   "name": "python3"
  },
  "language_info": {
   "codemirror_mode": {
    "name": "ipython",
    "version": 3
   },
   "file_extension": ".py",
   "mimetype": "text/x-python",
   "name": "python",
   "nbconvert_exporter": "python",
   "pygments_lexer": "ipython3",
   "version": "3.10.0"
  }
 },
 "nbformat": 4,
 "nbformat_minor": 2
}
