{
 "cells": [
  {
   "cell_type": "code",
   "execution_count": 1,
   "metadata": {},
   "outputs": [],
   "source": [
    "import torch\n",
    "import numpy as np\n",
    "import torch.nn as nn\n",
    "from torchvision.transforms import transforms as T\n",
    "import torchvision.transforms.functional as F\n",
    "from PIL import Image \n",
    "import os\n",
    "\n",
    "\n",
    "def data_loader():\n",
    "    train_x, train_y = [], []\n",
    "    test_x, test_y = [], []\n",
    "\n",
    "    transform = T.Compose([T.PILToTensor(),\n",
    "                           T.ConvertImageDtype(torch.float32)])\n",
    "\n",
    "    data_dir = os.path.join(os.getcwd(), 'EM_Data', 'original')\n",
    "\n",
    "    data_sets = [f for f in os.listdir(data_dir) if not f.startswith('.')]\n",
    "\n",
    "    for data_set in data_sets:\n",
    "        dataset_path = os.path.join(data_dir, data_set)\n",
    "        \n",
    "        if data_set == 'train':\n",
    "            for coordinate in os.listdir(dataset_path):\n",
    "                coord_path = os.path.join(dataset_path, coordinate)\n",
    "                if not os.path.isdir(coord_path):\n",
    "                    continue\n",
    "                    \n",
    "                if coordinate == 'x':\n",
    "                    for image in os.listdir(coord_path):\n",
    "                        if image.startswith('.'):\n",
    "                            continue\n",
    "                        img_path = os.path.join(coord_path, image)\n",
    "                        with Image.open(img_path) as img:\n",
    "                            train_x.append(transform(img))\n",
    "                else:\n",
    "                    for image in os.listdir(coord_path):\n",
    "                        if image.startswith('.'):\n",
    "                            continue\n",
    "                        img_path = os.path.join(coord_path, image)\n",
    "                        with Image.open(img_path) as img:\n",
    "                            train_y.append(transform(img))\n",
    "        else:\n",
    "            for coordinate in os.listdir(dataset_path):\n",
    "                coord_path = os.path.join(dataset_path, coordinate)\n",
    "                if not os.path.isdir(coord_path):\n",
    "                    continue\n",
    "                    \n",
    "                if coordinate == 'x':\n",
    "                    for image in os.listdir(coord_path):\n",
    "                        if image.startswith('.'):\n",
    "                            continue\n",
    "                        img_path = os.path.join(coord_path, image)\n",
    "                        with Image.open(img_path) as img:\n",
    "                            test_x.append(transform(img))\n",
    "                else:\n",
    "                    for image in os.listdir(coord_path):\n",
    "                        if image.startswith('.'):\n",
    "                            continue\n",
    "                        img_path = os.path.join(coord_path, image)\n",
    "                        with Image.open(img_path) as img:\n",
    "                            test_y.append(transform(img))\n",
    "\n",
    "    return train_x, train_y, test_x, test_y"
   ]
  },
  {
   "cell_type": "code",
   "execution_count": 2,
   "metadata": {},
   "outputs": [],
   "source": [
    "a,b,c,d=data_loader()"
   ]
  }
 ],
 "metadata": {
  "kernelspec": {
   "display_name": "base",
   "language": "python",
   "name": "python3"
  },
  "language_info": {
   "codemirror_mode": {
    "name": "ipython",
    "version": 3
   },
   "file_extension": ".py",
   "mimetype": "text/x-python",
   "name": "python",
   "nbconvert_exporter": "python",
   "pygments_lexer": "ipython3",
   "version": "3.12.2"
  }
 },
 "nbformat": 4,
 "nbformat_minor": 2
}
