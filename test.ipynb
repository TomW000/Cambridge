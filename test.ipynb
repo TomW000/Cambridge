{
 "cells": [
  {
   "cell_type": "code",
   "execution_count": 22,
   "metadata": {},
   "outputs": [],
   "source": [
    "import torch\n",
    "import numpy as np\n",
    "import torch.nn as nn\n",
    "import torch.functional as F\n",
    "from PIL import Image \n",
    "import os"
   ]
  },
  {
   "cell_type": "code",
   "execution_count": 30,
   "metadata": {},
   "outputs": [],
   "source": [
    "data_dir = os.path.join(os.getcwd(), 'EM_Data', 'original')\n",
    "\n",
    "data_sets = [f for f in os.listdir(data_dir) if f != '.DS_Store']"
   ]
  },
  {
   "cell_type": "code",
   "execution_count": 31,
   "metadata": {},
   "outputs": [
    {
     "data": {
      "text/plain": [
       "['test', 'train']"
      ]
     },
     "execution_count": 31,
     "metadata": {},
     "output_type": "execute_result"
    }
   ],
   "source": [
    "data_sets"
   ]
  },
  {
   "cell_type": "code",
   "execution_count": 32,
   "metadata": {},
   "outputs": [],
   "source": [
    "import os\n",
    "from PIL import Image\n",
    "import numpy as np\n",
    "\n",
    "def data_loader():\n",
    "    train_x, train_y = [], []\n",
    "    test_x, test_y = [], []\n",
    "\n",
    "    data_dir = os.path.join(os.getcwd(), 'EM_Data', 'original')\n",
    "\n",
    "    # List directories, ignoring hidden files\n",
    "    data_sets = [f for f in os.listdir(data_dir) if not f.startswith('.')]\n",
    "\n",
    "    for data_set in data_sets:\n",
    "        dataset_path = os.path.join(data_dir, data_set)\n",
    "        \n",
    "        if data_set == 'train':\n",
    "            for coordinate in os.listdir(dataset_path):\n",
    "                coord_path = os.path.join(dataset_path, coordinate)\n",
    "                if not os.path.isdir(coord_path):\n",
    "                    continue\n",
    "                    \n",
    "                if coordinate == 'x':\n",
    "                    for image in os.listdir(coord_path):\n",
    "                        if image.startswith('.'):\n",
    "                            continue\n",
    "                        img_path = os.path.join(coord_path, image)\n",
    "                        with Image.open(img_path) as img:\n",
    "                            train_x.append(np.array(img))\n",
    "                else:\n",
    "                    for image in os.listdir(coord_path):\n",
    "                        if image.startswith('.'):\n",
    "                            continue\n",
    "                        img_path = os.path.join(coord_path, image)\n",
    "                        with Image.open(img_path) as img:\n",
    "                            train_y.append(np.array(img))\n",
    "        else:\n",
    "            for coordinate in os.listdir(dataset_path):\n",
    "                coord_path = os.path.join(dataset_path, coordinate)\n",
    "                if not os.path.isdir(coord_path):\n",
    "                    continue\n",
    "                    \n",
    "                if coordinate == 'x':\n",
    "                    for image in os.listdir(coord_path):\n",
    "                        if image.startswith('.'):\n",
    "                            continue\n",
    "                        img_path = os.path.join(coord_path, image)\n",
    "                        with Image.open(img_path) as img:\n",
    "                            test_x.append(np.array(img))\n",
    "                else:\n",
    "                    for image in os.listdir(coord_path):\n",
    "                        if image.startswith('.'):\n",
    "                            continue\n",
    "                        img_path = os.path.join(coord_path, image)\n",
    "                        with Image.open(img_path) as img:\n",
    "                            test_y.append(np.array(img))\n",
    "\n",
    "    return np.array(train_x), np.array(train_y), np.array(test_x), np.array(test_y)"
   ]
  },
  {
   "cell_type": "code",
   "execution_count": 33,
   "metadata": {},
   "outputs": [
    {
     "ename": "ValueError",
     "evalue": "setting an array element with a sequence. The requested array has an inhomogeneous shape after 1 dimensions. The detected shape was (1224,) + inhomogeneous part.",
     "output_type": "error",
     "traceback": [
      "\u001b[0;31m---------------------------------------------------------------------------\u001b[0m",
      "\u001b[0;31mValueError\u001b[0m                                Traceback (most recent call last)",
      "Cell \u001b[0;32mIn[33], line 1\u001b[0m\n\u001b[0;32m----> 1\u001b[0m a,b,c,d\u001b[38;5;241m=\u001b[39mdata_loader()\n",
      "Cell \u001b[0;32mIn[32], line 58\u001b[0m, in \u001b[0;36mdata_loader\u001b[0;34m()\u001b[0m\n\u001b[1;32m     55\u001b[0m                     \u001b[38;5;28;01mwith\u001b[39;00m Image\u001b[38;5;241m.\u001b[39mopen(img_path) \u001b[38;5;28;01mas\u001b[39;00m img:\n\u001b[1;32m     56\u001b[0m                         test_y\u001b[38;5;241m.\u001b[39mappend(np\u001b[38;5;241m.\u001b[39marray(img))\n\u001b[0;32m---> 58\u001b[0m \u001b[38;5;28;01mreturn\u001b[39;00m np\u001b[38;5;241m.\u001b[39marray(train_x), np\u001b[38;5;241m.\u001b[39marray(train_y), np\u001b[38;5;241m.\u001b[39marray(test_x), np\u001b[38;5;241m.\u001b[39marray(test_y)\n",
      "\u001b[0;31mValueError\u001b[0m: setting an array element with a sequence. The requested array has an inhomogeneous shape after 1 dimensions. The detected shape was (1224,) + inhomogeneous part."
     ]
    }
   ],
   "source": [
    "a,b,c,d=data_loader()"
   ]
  }
 ],
 "metadata": {
  "kernelspec": {
   "display_name": "base",
   "language": "python",
   "name": "python3"
  },
  "language_info": {
   "codemirror_mode": {
    "name": "ipython",
    "version": 3
   },
   "file_extension": ".py",
   "mimetype": "text/x-python",
   "name": "python",
   "nbconvert_exporter": "python",
   "pygments_lexer": "ipython3",
   "version": "3.12.2"
  }
 },
 "nbformat": 4,
 "nbformat_minor": 2
}
